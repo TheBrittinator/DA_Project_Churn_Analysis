{
 "cells": [
  {
   "cell_type": "markdown",
   "id": "dc72ee58",
   "metadata": {},
   "source": [
    "# Deep Dive Analysis\n",
    "## BANK CHURN\n",
    "\n",
    "*Brittney Kakie*\n",
    "\n",
    "> **About this dataset**\n",
    "> \n",
    "> A bank is concerned that more and more customers are leaving its credit card services. They would appreciate it if someone could analyze it to understand the main reasons for leaving the services and to come up with recommendations for how the bank can mitigate that. Eventually, the bank would like to proactively implement these recommendations to keep their customers happy."
   ]
  },
  {
   "cell_type": "markdown",
   "id": "6976e6ad",
   "metadata": {},
   "source": [
    "## Data Definitions\n",
    "\n",
    "`BankChurners.csv`   - this file contains basic information about each client (10 columns)\n",
    "> \n",
    "> `CLIENTNUM` - Client number. Unique identifier for the customer holding the account;\n",
    ">- `Attrition Flag` - Internal event (customer activity) variable - if the client had churned (attrited) or not (existing).\n",
    ">- `Dependent Count` - Demographic variable - Number of dependents\n",
    ">- `Card_Category` - Product Variable - Type of Card (Blue, Silver, Gold, Platinum)\n",
    ">- `Months_on_book` - Period of relationship with the bank\n",
    ">- `Months_Inactive_12_mon` - No. of months inactive in the last 12 months\n",
    ">- `Contacts_Count_12_mon` - No. of Contacts in the last 12 months\n",
    ">- `Credit_Limit` - Credit Limit on the Credit Card\n",
    ">- `Avg_Open_To_Buy` - Open to Buy Credit Line (Average of last 12 months)\n",
    ">- `Avg_Utilization_Ratio` - Average Card Utilization Ratio\n",
    "\n",
    "`basic_client_info.csv` - this file contains some basic client info per each client\n",
    "(6 columns)\n",
    "> \n",
    "> `CLIENTNUM` - Client number. Unique identifier for the customer holding the account\n",
    ">- `Customer Age` - Demographic variable - Customer's Age in Years\n",
    ">- `Gender` - Demographic variable - M=Male, F=Female\n",
    ">- `Education_Level` - Demographic variable - Educational Qualification of the account holder (example: high school, college graduate, etc.\n",
    ">- `Marital_Status` - Demographic variable - Married, Single, Divorced, Unknown\n",
    ">- `Income_Category` - Demographic variable - Annual Income Category of the account holder (< 40K, 40K - 60K, 60K - 80K, 80K-120K, > 120K, Unknown)\n",
    "\n",
    "`enriched_churn_data.csv` - this file contains some enriched data about each client -\n",
    "(7 columns)\n",
    "> \n",
    "> `CLIENTNUM` - Client number. Unique identifier for the customer holding the account\n",
    ">- `Total_Relationship_Count` - Total no. of products held by the customer\n",
    ">- `Total_Revolving_Bal` - Total Revolving Balance on the Credit Card\n",
    ">- `Total_Amt_Chng_Q4_Q1` - Change in Transaction Amount (Q4 over Q1)\n",
    ">- `Total_Trans_Amt` - Total Transaction Amount (Last 12 months)\n",
    ">- `Total_Trans_Ct` - Total Transaction Count (Last 12 months)\n",
    ">- `Total_Ct_Chng_Q4_Q1` - Change in Transaction Count (Q4 over Q1)"
   ]
  },
  {
   "cell_type": "code",
   "execution_count": 1,
   "id": "5d0570ef",
   "metadata": {},
   "outputs": [],
   "source": [
    "import numpy as np \n",
    "import pandas as pd\n",
    "import matplotlib.pyplot as plt\n",
    "import seaborn as sb\n",
    "from matplotlib import rcParams\n",
    "\n",
    "%matplotlib inline"
   ]
  },
  {
   "cell_type": "markdown",
   "id": "ef83b876",
   "metadata": {},
   "source": [
    "## DATA WRANGLING\n",
    "### Load Data | Visual Assessment | Programmatic Assessment | Quick Clean\n"
   ]
  },
  {
   "cell_type": "code",
   "execution_count": 2,
   "id": "e07fe253",
   "metadata": {},
   "outputs": [
    {
     "name": "stdout",
     "output_type": "stream",
     "text": [
      "(10127, 10)\n"
     ]
    },
    {
     "data": {
      "text/html": [
       "<div>\n",
       "<style scoped>\n",
       "    .dataframe tbody tr th:only-of-type {\n",
       "        vertical-align: middle;\n",
       "    }\n",
       "\n",
       "    .dataframe tbody tr th {\n",
       "        vertical-align: top;\n",
       "    }\n",
       "\n",
       "    .dataframe thead th {\n",
       "        text-align: right;\n",
       "    }\n",
       "</style>\n",
       "<table border=\"1\" class=\"dataframe\">\n",
       "  <thead>\n",
       "    <tr style=\"text-align: right;\">\n",
       "      <th></th>\n",
       "      <th>clientnum</th>\n",
       "      <th>attrition_flag</th>\n",
       "      <th>dependent_count</th>\n",
       "      <th>card_category</th>\n",
       "      <th>months_on_book</th>\n",
       "      <th>months_inactive_12_mon</th>\n",
       "      <th>contacts_count_12_mon</th>\n",
       "      <th>credit_limit</th>\n",
       "      <th>avg_open_to_buy</th>\n",
       "      <th>avg_utilization_ratio</th>\n",
       "    </tr>\n",
       "  </thead>\n",
       "  <tbody>\n",
       "    <tr>\n",
       "      <th>0</th>\n",
       "      <td>806160108</td>\n",
       "      <td>Existing Customer</td>\n",
       "      <td>1</td>\n",
       "      <td>Blue</td>\n",
       "      <td>56</td>\n",
       "      <td>2</td>\n",
       "      <td>3</td>\n",
       "      <td>3193.0</td>\n",
       "      <td>676.0</td>\n",
       "      <td>0.788</td>\n",
       "    </tr>\n",
       "    <tr>\n",
       "      <th>1</th>\n",
       "      <td>804424383</td>\n",
       "      <td>Existing Customer</td>\n",
       "      <td>1</td>\n",
       "      <td>Blue</td>\n",
       "      <td>56</td>\n",
       "      <td>3</td>\n",
       "      <td>2</td>\n",
       "      <td>10215.0</td>\n",
       "      <td>9205.0</td>\n",
       "      <td>0.099</td>\n",
       "    </tr>\n",
       "    <tr>\n",
       "      <th>2</th>\n",
       "      <td>708300483</td>\n",
       "      <td>Attrited Customer</td>\n",
       "      <td>0</td>\n",
       "      <td>Blue</td>\n",
       "      <td>56</td>\n",
       "      <td>4</td>\n",
       "      <td>3</td>\n",
       "      <td>7882.0</td>\n",
       "      <td>7277.0</td>\n",
       "      <td>0.077</td>\n",
       "    </tr>\n",
       "    <tr>\n",
       "      <th>3</th>\n",
       "      <td>808284783</td>\n",
       "      <td>Existing Customer</td>\n",
       "      <td>1</td>\n",
       "      <td>Blue</td>\n",
       "      <td>56</td>\n",
       "      <td>0</td>\n",
       "      <td>0</td>\n",
       "      <td>1438.3</td>\n",
       "      <td>1438.3</td>\n",
       "      <td>0.000</td>\n",
       "    </tr>\n",
       "    <tr>\n",
       "      <th>4</th>\n",
       "      <td>712720158</td>\n",
       "      <td>Existing Customer</td>\n",
       "      <td>1</td>\n",
       "      <td>Blue</td>\n",
       "      <td>56</td>\n",
       "      <td>2</td>\n",
       "      <td>3</td>\n",
       "      <td>13860.0</td>\n",
       "      <td>12208.0</td>\n",
       "      <td>0.119</td>\n",
       "    </tr>\n",
       "  </tbody>\n",
       "</table>\n",
       "</div>"
      ],
      "text/plain": [
       "   clientnum     attrition_flag  dependent_count card_category  \\\n",
       "0  806160108  Existing Customer                1          Blue   \n",
       "1  804424383  Existing Customer                1          Blue   \n",
       "2  708300483  Attrited Customer                0          Blue   \n",
       "3  808284783  Existing Customer                1          Blue   \n",
       "4  712720158  Existing Customer                1          Blue   \n",
       "\n",
       "   months_on_book  months_inactive_12_mon  contacts_count_12_mon  \\\n",
       "0              56                       2                      3   \n",
       "1              56                       3                      2   \n",
       "2              56                       4                      3   \n",
       "3              56                       0                      0   \n",
       "4              56                       2                      3   \n",
       "\n",
       "   credit_limit  avg_open_to_buy  avg_utilization_ratio  \n",
       "0        3193.0            676.0                  0.788  \n",
       "1       10215.0           9205.0                  0.099  \n",
       "2        7882.0           7277.0                  0.077  \n",
       "3        1438.3           1438.3                  0.000  \n",
       "4       13860.0          12208.0                  0.119  "
      ]
     },
     "execution_count": 2,
     "metadata": {},
     "output_type": "execute_result"
    }
   ],
   "source": [
    "\"\"\"TO DO\n",
    "1 - load each csv into a pandas dataframe\n",
    "2 - join dataframes using the .merge method ('outer')\n",
    "3 - check quality & tidiness\n",
    "4 - perform a visual & programmatic assessment\n",
    "\"\"\"\n",
    "\n",
    "# load each csv into a dataframe, check your work as you go\n",
    "bank_churn = pd.read_csv(\"bankchurners.csv\")\n",
    "print(bank_churn.shape)\n",
    "bank_churn.head(5)"
   ]
  },
  {
   "cell_type": "code",
   "execution_count": 3,
   "id": "8fba6d69",
   "metadata": {},
   "outputs": [
    {
     "name": "stdout",
     "output_type": "stream",
     "text": [
      "(10127, 6)\n"
     ]
    },
    {
     "data": {
      "text/html": [
       "<div>\n",
       "<style scoped>\n",
       "    .dataframe tbody tr th:only-of-type {\n",
       "        vertical-align: middle;\n",
       "    }\n",
       "\n",
       "    .dataframe tbody tr th {\n",
       "        vertical-align: top;\n",
       "    }\n",
       "\n",
       "    .dataframe thead th {\n",
       "        text-align: right;\n",
       "    }\n",
       "</style>\n",
       "<table border=\"1\" class=\"dataframe\">\n",
       "  <thead>\n",
       "    <tr style=\"text-align: right;\">\n",
       "      <th></th>\n",
       "      <th>clientnum</th>\n",
       "      <th>customer_age</th>\n",
       "      <th>gender</th>\n",
       "      <th>education_level</th>\n",
       "      <th>marital_status</th>\n",
       "      <th>income_category</th>\n",
       "    </tr>\n",
       "  </thead>\n",
       "  <tbody>\n",
       "    <tr>\n",
       "      <th>0</th>\n",
       "      <td>708082083</td>\n",
       "      <td>45</td>\n",
       "      <td>F</td>\n",
       "      <td>High School</td>\n",
       "      <td>Married</td>\n",
       "      <td>Less than $40K</td>\n",
       "    </tr>\n",
       "    <tr>\n",
       "      <th>1</th>\n",
       "      <td>708083283</td>\n",
       "      <td>58</td>\n",
       "      <td>M</td>\n",
       "      <td>Unknown</td>\n",
       "      <td>Single</td>\n",
       "      <td>$40K - $60K</td>\n",
       "    </tr>\n",
       "    <tr>\n",
       "      <th>2</th>\n",
       "      <td>708084558</td>\n",
       "      <td>46</td>\n",
       "      <td>M</td>\n",
       "      <td>Doctorate</td>\n",
       "      <td>Divorced</td>\n",
       "      <td>$80K - $120K</td>\n",
       "    </tr>\n",
       "    <tr>\n",
       "      <th>3</th>\n",
       "      <td>708085458</td>\n",
       "      <td>34</td>\n",
       "      <td>F</td>\n",
       "      <td>Uneducated</td>\n",
       "      <td>Single</td>\n",
       "      <td>Less than $40K</td>\n",
       "    </tr>\n",
       "    <tr>\n",
       "      <th>4</th>\n",
       "      <td>708086958</td>\n",
       "      <td>49</td>\n",
       "      <td>F</td>\n",
       "      <td>Uneducated</td>\n",
       "      <td>Married</td>\n",
       "      <td>Unknown</td>\n",
       "    </tr>\n",
       "  </tbody>\n",
       "</table>\n",
       "</div>"
      ],
      "text/plain": [
       "   clientnum  customer_age gender education_level marital_status  \\\n",
       "0  708082083            45      F     High School        Married   \n",
       "1  708083283            58      M         Unknown         Single   \n",
       "2  708084558            46      M       Doctorate       Divorced   \n",
       "3  708085458            34      F      Uneducated         Single   \n",
       "4  708086958            49      F      Uneducated        Married   \n",
       "\n",
       "  income_category  \n",
       "0  Less than $40K  \n",
       "1     $40K - $60K  \n",
       "2    $80K - $120K  \n",
       "3  Less than $40K  \n",
       "4         Unknown  "
      ]
     },
     "execution_count": 3,
     "metadata": {},
     "output_type": "execute_result"
    }
   ],
   "source": [
    "basic_client = pd.read_csv(\"basic_client_info.csv\")\n",
    "print(basic_client.shape)\n",
    "basic_client.head(5)"
   ]
  },
  {
   "cell_type": "code",
   "execution_count": 4,
   "id": "bbd890c4",
   "metadata": {},
   "outputs": [
    {
     "name": "stdout",
     "output_type": "stream",
     "text": [
      "(10127, 7)\n"
     ]
    },
    {
     "data": {
      "text/html": [
       "<div>\n",
       "<style scoped>\n",
       "    .dataframe tbody tr th:only-of-type {\n",
       "        vertical-align: middle;\n",
       "    }\n",
       "\n",
       "    .dataframe tbody tr th {\n",
       "        vertical-align: top;\n",
       "    }\n",
       "\n",
       "    .dataframe thead th {\n",
       "        text-align: right;\n",
       "    }\n",
       "</style>\n",
       "<table border=\"1\" class=\"dataframe\">\n",
       "  <thead>\n",
       "    <tr style=\"text-align: right;\">\n",
       "      <th></th>\n",
       "      <th>clientnum</th>\n",
       "      <th>total_relationship_count</th>\n",
       "      <th>total_revolving_bal</th>\n",
       "      <th>total_amt_chng_q4_q1</th>\n",
       "      <th>total_trans_amt</th>\n",
       "      <th>total_ct_chng_q4_q1</th>\n",
       "      <th>total_trans_ct</th>\n",
       "    </tr>\n",
       "  </thead>\n",
       "  <tbody>\n",
       "    <tr>\n",
       "      <th>0</th>\n",
       "      <td>828343083</td>\n",
       "      <td>3</td>\n",
       "      <td>1793</td>\n",
       "      <td>0.803</td>\n",
       "      <td>3646</td>\n",
       "      <td>0.659</td>\n",
       "      <td>68</td>\n",
       "    </tr>\n",
       "    <tr>\n",
       "      <th>1</th>\n",
       "      <td>828298908</td>\n",
       "      <td>4</td>\n",
       "      <td>2035</td>\n",
       "      <td>0.613</td>\n",
       "      <td>1770</td>\n",
       "      <td>0.741</td>\n",
       "      <td>47</td>\n",
       "    </tr>\n",
       "    <tr>\n",
       "      <th>2</th>\n",
       "      <td>828294933</td>\n",
       "      <td>3</td>\n",
       "      <td>2437</td>\n",
       "      <td>0.765</td>\n",
       "      <td>2519</td>\n",
       "      <td>0.565</td>\n",
       "      <td>36</td>\n",
       "    </tr>\n",
       "    <tr>\n",
       "      <th>3</th>\n",
       "      <td>828291858</td>\n",
       "      <td>6</td>\n",
       "      <td>1821</td>\n",
       "      <td>0.630</td>\n",
       "      <td>2381</td>\n",
       "      <td>0.481</td>\n",
       "      <td>40</td>\n",
       "    </tr>\n",
       "    <tr>\n",
       "      <th>4</th>\n",
       "      <td>828288333</td>\n",
       "      <td>4</td>\n",
       "      <td>659</td>\n",
       "      <td>0.938</td>\n",
       "      <td>3756</td>\n",
       "      <td>0.842</td>\n",
       "      <td>70</td>\n",
       "    </tr>\n",
       "  </tbody>\n",
       "</table>\n",
       "</div>"
      ],
      "text/plain": [
       "   clientnum  total_relationship_count  total_revolving_bal  \\\n",
       "0  828343083                         3                 1793   \n",
       "1  828298908                         4                 2035   \n",
       "2  828294933                         3                 2437   \n",
       "3  828291858                         6                 1821   \n",
       "4  828288333                         4                  659   \n",
       "\n",
       "   total_amt_chng_q4_q1  total_trans_amt  total_ct_chng_q4_q1  total_trans_ct  \n",
       "0                 0.803             3646                0.659              68  \n",
       "1                 0.613             1770                0.741              47  \n",
       "2                 0.765             2519                0.565              36  \n",
       "3                 0.630             2381                0.481              40  \n",
       "4                 0.938             3756                0.842              70  "
      ]
     },
     "execution_count": 4,
     "metadata": {},
     "output_type": "execute_result"
    }
   ],
   "source": [
    "enrich_client = pd.read_csv(\"enriched_churn_data.csv\")\n",
    "print(enrich_client.shape)\n",
    "enrich_client.head(5)"
   ]
  },
  {
   "cell_type": "code",
   "execution_count": 5,
   "id": "793d82fc",
   "metadata": {},
   "outputs": [
    {
     "name": "stdout",
     "output_type": "stream",
     "text": [
      "(10127, 15)\n"
     ]
    },
    {
     "data": {
      "text/html": [
       "<div>\n",
       "<style scoped>\n",
       "    .dataframe tbody tr th:only-of-type {\n",
       "        vertical-align: middle;\n",
       "    }\n",
       "\n",
       "    .dataframe tbody tr th {\n",
       "        vertical-align: top;\n",
       "    }\n",
       "\n",
       "    .dataframe thead th {\n",
       "        text-align: right;\n",
       "    }\n",
       "</style>\n",
       "<table border=\"1\" class=\"dataframe\">\n",
       "  <thead>\n",
       "    <tr style=\"text-align: right;\">\n",
       "      <th></th>\n",
       "      <th>clientnum</th>\n",
       "      <th>attrition_flag</th>\n",
       "      <th>dependent_count</th>\n",
       "      <th>card_category</th>\n",
       "      <th>months_on_book</th>\n",
       "      <th>months_inactive_12_mon</th>\n",
       "      <th>contacts_count_12_mon</th>\n",
       "      <th>credit_limit</th>\n",
       "      <th>avg_open_to_buy</th>\n",
       "      <th>avg_utilization_ratio</th>\n",
       "      <th>customer_age</th>\n",
       "      <th>gender</th>\n",
       "      <th>education_level</th>\n",
       "      <th>marital_status</th>\n",
       "      <th>income_category</th>\n",
       "    </tr>\n",
       "  </thead>\n",
       "  <tbody>\n",
       "    <tr>\n",
       "      <th>0</th>\n",
       "      <td>806160108</td>\n",
       "      <td>Existing Customer</td>\n",
       "      <td>1</td>\n",
       "      <td>Blue</td>\n",
       "      <td>56</td>\n",
       "      <td>2</td>\n",
       "      <td>3</td>\n",
       "      <td>3193.0</td>\n",
       "      <td>676.0</td>\n",
       "      <td>0.788</td>\n",
       "      <td>61</td>\n",
       "      <td>M</td>\n",
       "      <td>High School</td>\n",
       "      <td>Married</td>\n",
       "      <td>$40K - $60K</td>\n",
       "    </tr>\n",
       "    <tr>\n",
       "      <th>1</th>\n",
       "      <td>804424383</td>\n",
       "      <td>Existing Customer</td>\n",
       "      <td>1</td>\n",
       "      <td>Blue</td>\n",
       "      <td>56</td>\n",
       "      <td>3</td>\n",
       "      <td>2</td>\n",
       "      <td>10215.0</td>\n",
       "      <td>9205.0</td>\n",
       "      <td>0.099</td>\n",
       "      <td>63</td>\n",
       "      <td>M</td>\n",
       "      <td>Unknown</td>\n",
       "      <td>Married</td>\n",
       "      <td>$60K - $80K</td>\n",
       "    </tr>\n",
       "    <tr>\n",
       "      <th>2</th>\n",
       "      <td>708300483</td>\n",
       "      <td>Attrited Customer</td>\n",
       "      <td>0</td>\n",
       "      <td>Blue</td>\n",
       "      <td>56</td>\n",
       "      <td>4</td>\n",
       "      <td>3</td>\n",
       "      <td>7882.0</td>\n",
       "      <td>7277.0</td>\n",
       "      <td>0.077</td>\n",
       "      <td>66</td>\n",
       "      <td>F</td>\n",
       "      <td>Doctorate</td>\n",
       "      <td>Married</td>\n",
       "      <td>Unknown</td>\n",
       "    </tr>\n",
       "    <tr>\n",
       "      <th>3</th>\n",
       "      <td>808284783</td>\n",
       "      <td>Existing Customer</td>\n",
       "      <td>1</td>\n",
       "      <td>Blue</td>\n",
       "      <td>56</td>\n",
       "      <td>0</td>\n",
       "      <td>0</td>\n",
       "      <td>1438.3</td>\n",
       "      <td>1438.3</td>\n",
       "      <td>0.000</td>\n",
       "      <td>62</td>\n",
       "      <td>F</td>\n",
       "      <td>Unknown</td>\n",
       "      <td>Married</td>\n",
       "      <td>Less than $40K</td>\n",
       "    </tr>\n",
       "    <tr>\n",
       "      <th>4</th>\n",
       "      <td>712720158</td>\n",
       "      <td>Existing Customer</td>\n",
       "      <td>1</td>\n",
       "      <td>Blue</td>\n",
       "      <td>56</td>\n",
       "      <td>2</td>\n",
       "      <td>3</td>\n",
       "      <td>13860.0</td>\n",
       "      <td>12208.0</td>\n",
       "      <td>0.119</td>\n",
       "      <td>68</td>\n",
       "      <td>M</td>\n",
       "      <td>Graduate</td>\n",
       "      <td>Married</td>\n",
       "      <td>Unknown</td>\n",
       "    </tr>\n",
       "    <tr>\n",
       "      <th>...</th>\n",
       "      <td>...</td>\n",
       "      <td>...</td>\n",
       "      <td>...</td>\n",
       "      <td>...</td>\n",
       "      <td>...</td>\n",
       "      <td>...</td>\n",
       "      <td>...</td>\n",
       "      <td>...</td>\n",
       "      <td>...</td>\n",
       "      <td>...</td>\n",
       "      <td>...</td>\n",
       "      <td>...</td>\n",
       "      <td>...</td>\n",
       "      <td>...</td>\n",
       "      <td>...</td>\n",
       "    </tr>\n",
       "    <tr>\n",
       "      <th>10122</th>\n",
       "      <td>714082308</td>\n",
       "      <td>Attrited Customer</td>\n",
       "      <td>3</td>\n",
       "      <td>Blue</td>\n",
       "      <td>13</td>\n",
       "      <td>1</td>\n",
       "      <td>3</td>\n",
       "      <td>8656.0</td>\n",
       "      <td>8656.0</td>\n",
       "      <td>0.000</td>\n",
       "      <td>39</td>\n",
       "      <td>M</td>\n",
       "      <td>High School</td>\n",
       "      <td>Single</td>\n",
       "      <td>$80K - $120K</td>\n",
       "    </tr>\n",
       "    <tr>\n",
       "      <th>10123</th>\n",
       "      <td>710751033</td>\n",
       "      <td>Attrited Customer</td>\n",
       "      <td>1</td>\n",
       "      <td>Blue</td>\n",
       "      <td>13</td>\n",
       "      <td>1</td>\n",
       "      <td>3</td>\n",
       "      <td>4829.0</td>\n",
       "      <td>4829.0</td>\n",
       "      <td>0.000</td>\n",
       "      <td>31</td>\n",
       "      <td>F</td>\n",
       "      <td>Graduate</td>\n",
       "      <td>Single</td>\n",
       "      <td>Less than $40K</td>\n",
       "    </tr>\n",
       "    <tr>\n",
       "      <th>10124</th>\n",
       "      <td>780118158</td>\n",
       "      <td>Existing Customer</td>\n",
       "      <td>0</td>\n",
       "      <td>Blue</td>\n",
       "      <td>13</td>\n",
       "      <td>2</td>\n",
       "      <td>4</td>\n",
       "      <td>3585.0</td>\n",
       "      <td>1165.0</td>\n",
       "      <td>0.675</td>\n",
       "      <td>27</td>\n",
       "      <td>M</td>\n",
       "      <td>Graduate</td>\n",
       "      <td>Single</td>\n",
       "      <td>Less than $40K</td>\n",
       "    </tr>\n",
       "    <tr>\n",
       "      <th>10125</th>\n",
       "      <td>779082633</td>\n",
       "      <td>Existing Customer</td>\n",
       "      <td>2</td>\n",
       "      <td>Blue</td>\n",
       "      <td>13</td>\n",
       "      <td>2</td>\n",
       "      <td>3</td>\n",
       "      <td>4107.0</td>\n",
       "      <td>3128.0</td>\n",
       "      <td>0.238</td>\n",
       "      <td>30</td>\n",
       "      <td>M</td>\n",
       "      <td>Uneducated</td>\n",
       "      <td>Single</td>\n",
       "      <td>$60K - $80K</td>\n",
       "    </tr>\n",
       "    <tr>\n",
       "      <th>10126</th>\n",
       "      <td>788633733</td>\n",
       "      <td>Existing Customer</td>\n",
       "      <td>3</td>\n",
       "      <td>Silver</td>\n",
       "      <td>13</td>\n",
       "      <td>3</td>\n",
       "      <td>2</td>\n",
       "      <td>28174.0</td>\n",
       "      <td>27001.0</td>\n",
       "      <td>0.042</td>\n",
       "      <td>36</td>\n",
       "      <td>M</td>\n",
       "      <td>Graduate</td>\n",
       "      <td>Married</td>\n",
       "      <td>$60K - $80K</td>\n",
       "    </tr>\n",
       "  </tbody>\n",
       "</table>\n",
       "<p>10127 rows × 15 columns</p>\n",
       "</div>"
      ],
      "text/plain": [
       "       clientnum     attrition_flag  dependent_count card_category  \\\n",
       "0      806160108  Existing Customer                1          Blue   \n",
       "1      804424383  Existing Customer                1          Blue   \n",
       "2      708300483  Attrited Customer                0          Blue   \n",
       "3      808284783  Existing Customer                1          Blue   \n",
       "4      712720158  Existing Customer                1          Blue   \n",
       "...          ...                ...              ...           ...   \n",
       "10122  714082308  Attrited Customer                3          Blue   \n",
       "10123  710751033  Attrited Customer                1          Blue   \n",
       "10124  780118158  Existing Customer                0          Blue   \n",
       "10125  779082633  Existing Customer                2          Blue   \n",
       "10126  788633733  Existing Customer                3        Silver   \n",
       "\n",
       "       months_on_book  months_inactive_12_mon  contacts_count_12_mon  \\\n",
       "0                  56                       2                      3   \n",
       "1                  56                       3                      2   \n",
       "2                  56                       4                      3   \n",
       "3                  56                       0                      0   \n",
       "4                  56                       2                      3   \n",
       "...               ...                     ...                    ...   \n",
       "10122              13                       1                      3   \n",
       "10123              13                       1                      3   \n",
       "10124              13                       2                      4   \n",
       "10125              13                       2                      3   \n",
       "10126              13                       3                      2   \n",
       "\n",
       "       credit_limit  avg_open_to_buy  avg_utilization_ratio  customer_age  \\\n",
       "0            3193.0            676.0                  0.788            61   \n",
       "1           10215.0           9205.0                  0.099            63   \n",
       "2            7882.0           7277.0                  0.077            66   \n",
       "3            1438.3           1438.3                  0.000            62   \n",
       "4           13860.0          12208.0                  0.119            68   \n",
       "...             ...              ...                    ...           ...   \n",
       "10122        8656.0           8656.0                  0.000            39   \n",
       "10123        4829.0           4829.0                  0.000            31   \n",
       "10124        3585.0           1165.0                  0.675            27   \n",
       "10125        4107.0           3128.0                  0.238            30   \n",
       "10126       28174.0          27001.0                  0.042            36   \n",
       "\n",
       "      gender education_level marital_status income_category  \n",
       "0          M     High School        Married     $40K - $60K  \n",
       "1          M         Unknown        Married     $60K - $80K  \n",
       "2          F       Doctorate        Married         Unknown  \n",
       "3          F         Unknown        Married  Less than $40K  \n",
       "4          M        Graduate        Married         Unknown  \n",
       "...      ...             ...            ...             ...  \n",
       "10122      M     High School         Single    $80K - $120K  \n",
       "10123      F        Graduate         Single  Less than $40K  \n",
       "10124      M        Graduate         Single  Less than $40K  \n",
       "10125      M      Uneducated         Single     $60K - $80K  \n",
       "10126      M        Graduate        Married     $60K - $80K  \n",
       "\n",
       "[10127 rows x 15 columns]"
      ]
     },
     "execution_count": 5,
     "metadata": {},
     "output_type": "execute_result"
    }
   ],
   "source": [
    "#merge dataframes\n",
    "df_master = bank_churn.merge(basic_client,\n",
    "                   on = 'clientnum', \n",
    "                   how = 'outer')\n",
    "# check if merged correctly \n",
    "print(df_master.shape)\n",
    "df_master"
   ]
  },
  {
   "cell_type": "code",
   "execution_count": 6,
   "id": "d84a6f43",
   "metadata": {},
   "outputs": [
    {
     "name": "stdout",
     "output_type": "stream",
     "text": [
      "(10127, 21)\n"
     ]
    },
    {
     "data": {
      "text/html": [
       "<div>\n",
       "<style scoped>\n",
       "    .dataframe tbody tr th:only-of-type {\n",
       "        vertical-align: middle;\n",
       "    }\n",
       "\n",
       "    .dataframe tbody tr th {\n",
       "        vertical-align: top;\n",
       "    }\n",
       "\n",
       "    .dataframe thead th {\n",
       "        text-align: right;\n",
       "    }\n",
       "</style>\n",
       "<table border=\"1\" class=\"dataframe\">\n",
       "  <thead>\n",
       "    <tr style=\"text-align: right;\">\n",
       "      <th></th>\n",
       "      <th>clientnum</th>\n",
       "      <th>attrition_flag</th>\n",
       "      <th>dependent_count</th>\n",
       "      <th>card_category</th>\n",
       "      <th>months_on_book</th>\n",
       "      <th>months_inactive_12_mon</th>\n",
       "      <th>contacts_count_12_mon</th>\n",
       "      <th>credit_limit</th>\n",
       "      <th>avg_open_to_buy</th>\n",
       "      <th>avg_utilization_ratio</th>\n",
       "      <th>...</th>\n",
       "      <th>gender</th>\n",
       "      <th>education_level</th>\n",
       "      <th>marital_status</th>\n",
       "      <th>income_category</th>\n",
       "      <th>total_relationship_count</th>\n",
       "      <th>total_revolving_bal</th>\n",
       "      <th>total_amt_chng_q4_q1</th>\n",
       "      <th>total_trans_amt</th>\n",
       "      <th>total_ct_chng_q4_q1</th>\n",
       "      <th>total_trans_ct</th>\n",
       "    </tr>\n",
       "  </thead>\n",
       "  <tbody>\n",
       "    <tr>\n",
       "      <th>0</th>\n",
       "      <td>806160108</td>\n",
       "      <td>Existing Customer</td>\n",
       "      <td>1</td>\n",
       "      <td>Blue</td>\n",
       "      <td>56</td>\n",
       "      <td>2</td>\n",
       "      <td>3</td>\n",
       "      <td>3193.0</td>\n",
       "      <td>676.0</td>\n",
       "      <td>0.788</td>\n",
       "      <td>...</td>\n",
       "      <td>M</td>\n",
       "      <td>High School</td>\n",
       "      <td>Married</td>\n",
       "      <td>$40K - $60K</td>\n",
       "      <td>2</td>\n",
       "      <td>2517</td>\n",
       "      <td>1.831</td>\n",
       "      <td>1336</td>\n",
       "      <td>1.143</td>\n",
       "      <td>30</td>\n",
       "    </tr>\n",
       "    <tr>\n",
       "      <th>1</th>\n",
       "      <td>804424383</td>\n",
       "      <td>Existing Customer</td>\n",
       "      <td>1</td>\n",
       "      <td>Blue</td>\n",
       "      <td>56</td>\n",
       "      <td>3</td>\n",
       "      <td>2</td>\n",
       "      <td>10215.0</td>\n",
       "      <td>9205.0</td>\n",
       "      <td>0.099</td>\n",
       "      <td>...</td>\n",
       "      <td>M</td>\n",
       "      <td>Unknown</td>\n",
       "      <td>Married</td>\n",
       "      <td>$60K - $80K</td>\n",
       "      <td>3</td>\n",
       "      <td>1010</td>\n",
       "      <td>0.843</td>\n",
       "      <td>1904</td>\n",
       "      <td>1.000</td>\n",
       "      <td>40</td>\n",
       "    </tr>\n",
       "    <tr>\n",
       "      <th>2</th>\n",
       "      <td>708300483</td>\n",
       "      <td>Attrited Customer</td>\n",
       "      <td>0</td>\n",
       "      <td>Blue</td>\n",
       "      <td>56</td>\n",
       "      <td>4</td>\n",
       "      <td>3</td>\n",
       "      <td>7882.0</td>\n",
       "      <td>7277.0</td>\n",
       "      <td>0.077</td>\n",
       "      <td>...</td>\n",
       "      <td>F</td>\n",
       "      <td>Doctorate</td>\n",
       "      <td>Married</td>\n",
       "      <td>Unknown</td>\n",
       "      <td>5</td>\n",
       "      <td>605</td>\n",
       "      <td>1.052</td>\n",
       "      <td>704</td>\n",
       "      <td>0.143</td>\n",
       "      <td>16</td>\n",
       "    </tr>\n",
       "    <tr>\n",
       "      <th>3</th>\n",
       "      <td>808284783</td>\n",
       "      <td>Existing Customer</td>\n",
       "      <td>1</td>\n",
       "      <td>Blue</td>\n",
       "      <td>56</td>\n",
       "      <td>0</td>\n",
       "      <td>0</td>\n",
       "      <td>1438.3</td>\n",
       "      <td>1438.3</td>\n",
       "      <td>0.000</td>\n",
       "      <td>...</td>\n",
       "      <td>F</td>\n",
       "      <td>Unknown</td>\n",
       "      <td>Married</td>\n",
       "      <td>Less than $40K</td>\n",
       "      <td>6</td>\n",
       "      <td>0</td>\n",
       "      <td>0.813</td>\n",
       "      <td>1951</td>\n",
       "      <td>1.095</td>\n",
       "      <td>44</td>\n",
       "    </tr>\n",
       "    <tr>\n",
       "      <th>4</th>\n",
       "      <td>712720158</td>\n",
       "      <td>Existing Customer</td>\n",
       "      <td>1</td>\n",
       "      <td>Blue</td>\n",
       "      <td>56</td>\n",
       "      <td>2</td>\n",
       "      <td>3</td>\n",
       "      <td>13860.0</td>\n",
       "      <td>12208.0</td>\n",
       "      <td>0.119</td>\n",
       "      <td>...</td>\n",
       "      <td>M</td>\n",
       "      <td>Graduate</td>\n",
       "      <td>Married</td>\n",
       "      <td>Unknown</td>\n",
       "      <td>5</td>\n",
       "      <td>1652</td>\n",
       "      <td>1.255</td>\n",
       "      <td>1910</td>\n",
       "      <td>1.909</td>\n",
       "      <td>32</td>\n",
       "    </tr>\n",
       "    <tr>\n",
       "      <th>...</th>\n",
       "      <td>...</td>\n",
       "      <td>...</td>\n",
       "      <td>...</td>\n",
       "      <td>...</td>\n",
       "      <td>...</td>\n",
       "      <td>...</td>\n",
       "      <td>...</td>\n",
       "      <td>...</td>\n",
       "      <td>...</td>\n",
       "      <td>...</td>\n",
       "      <td>...</td>\n",
       "      <td>...</td>\n",
       "      <td>...</td>\n",
       "      <td>...</td>\n",
       "      <td>...</td>\n",
       "      <td>...</td>\n",
       "      <td>...</td>\n",
       "      <td>...</td>\n",
       "      <td>...</td>\n",
       "      <td>...</td>\n",
       "      <td>...</td>\n",
       "    </tr>\n",
       "    <tr>\n",
       "      <th>10122</th>\n",
       "      <td>714082308</td>\n",
       "      <td>Attrited Customer</td>\n",
       "      <td>3</td>\n",
       "      <td>Blue</td>\n",
       "      <td>13</td>\n",
       "      <td>1</td>\n",
       "      <td>3</td>\n",
       "      <td>8656.0</td>\n",
       "      <td>8656.0</td>\n",
       "      <td>0.000</td>\n",
       "      <td>...</td>\n",
       "      <td>M</td>\n",
       "      <td>High School</td>\n",
       "      <td>Single</td>\n",
       "      <td>$80K - $120K</td>\n",
       "      <td>2</td>\n",
       "      <td>0</td>\n",
       "      <td>0.893</td>\n",
       "      <td>8056</td>\n",
       "      <td>0.935</td>\n",
       "      <td>89</td>\n",
       "    </tr>\n",
       "    <tr>\n",
       "      <th>10123</th>\n",
       "      <td>710751033</td>\n",
       "      <td>Attrited Customer</td>\n",
       "      <td>1</td>\n",
       "      <td>Blue</td>\n",
       "      <td>13</td>\n",
       "      <td>1</td>\n",
       "      <td>3</td>\n",
       "      <td>4829.0</td>\n",
       "      <td>4829.0</td>\n",
       "      <td>0.000</td>\n",
       "      <td>...</td>\n",
       "      <td>F</td>\n",
       "      <td>Graduate</td>\n",
       "      <td>Single</td>\n",
       "      <td>Less than $40K</td>\n",
       "      <td>1</td>\n",
       "      <td>0</td>\n",
       "      <td>0.836</td>\n",
       "      <td>8286</td>\n",
       "      <td>0.857</td>\n",
       "      <td>65</td>\n",
       "    </tr>\n",
       "    <tr>\n",
       "      <th>10124</th>\n",
       "      <td>780118158</td>\n",
       "      <td>Existing Customer</td>\n",
       "      <td>0</td>\n",
       "      <td>Blue</td>\n",
       "      <td>13</td>\n",
       "      <td>2</td>\n",
       "      <td>4</td>\n",
       "      <td>3585.0</td>\n",
       "      <td>1165.0</td>\n",
       "      <td>0.675</td>\n",
       "      <td>...</td>\n",
       "      <td>M</td>\n",
       "      <td>Graduate</td>\n",
       "      <td>Single</td>\n",
       "      <td>Less than $40K</td>\n",
       "      <td>2</td>\n",
       "      <td>2420</td>\n",
       "      <td>0.812</td>\n",
       "      <td>15656</td>\n",
       "      <td>0.746</td>\n",
       "      <td>124</td>\n",
       "    </tr>\n",
       "    <tr>\n",
       "      <th>10125</th>\n",
       "      <td>779082633</td>\n",
       "      <td>Existing Customer</td>\n",
       "      <td>2</td>\n",
       "      <td>Blue</td>\n",
       "      <td>13</td>\n",
       "      <td>2</td>\n",
       "      <td>3</td>\n",
       "      <td>4107.0</td>\n",
       "      <td>3128.0</td>\n",
       "      <td>0.238</td>\n",
       "      <td>...</td>\n",
       "      <td>M</td>\n",
       "      <td>Uneducated</td>\n",
       "      <td>Single</td>\n",
       "      <td>$60K - $80K</td>\n",
       "      <td>3</td>\n",
       "      <td>979</td>\n",
       "      <td>0.647</td>\n",
       "      <td>14596</td>\n",
       "      <td>0.733</td>\n",
       "      <td>104</td>\n",
       "    </tr>\n",
       "    <tr>\n",
       "      <th>10126</th>\n",
       "      <td>788633733</td>\n",
       "      <td>Existing Customer</td>\n",
       "      <td>3</td>\n",
       "      <td>Silver</td>\n",
       "      <td>13</td>\n",
       "      <td>3</td>\n",
       "      <td>2</td>\n",
       "      <td>28174.0</td>\n",
       "      <td>27001.0</td>\n",
       "      <td>0.042</td>\n",
       "      <td>...</td>\n",
       "      <td>M</td>\n",
       "      <td>Graduate</td>\n",
       "      <td>Married</td>\n",
       "      <td>$60K - $80K</td>\n",
       "      <td>4</td>\n",
       "      <td>1173</td>\n",
       "      <td>0.779</td>\n",
       "      <td>16258</td>\n",
       "      <td>0.714</td>\n",
       "      <td>108</td>\n",
       "    </tr>\n",
       "  </tbody>\n",
       "</table>\n",
       "<p>10127 rows × 21 columns</p>\n",
       "</div>"
      ],
      "text/plain": [
       "       clientnum     attrition_flag  dependent_count card_category  \\\n",
       "0      806160108  Existing Customer                1          Blue   \n",
       "1      804424383  Existing Customer                1          Blue   \n",
       "2      708300483  Attrited Customer                0          Blue   \n",
       "3      808284783  Existing Customer                1          Blue   \n",
       "4      712720158  Existing Customer                1          Blue   \n",
       "...          ...                ...              ...           ...   \n",
       "10122  714082308  Attrited Customer                3          Blue   \n",
       "10123  710751033  Attrited Customer                1          Blue   \n",
       "10124  780118158  Existing Customer                0          Blue   \n",
       "10125  779082633  Existing Customer                2          Blue   \n",
       "10126  788633733  Existing Customer                3        Silver   \n",
       "\n",
       "       months_on_book  months_inactive_12_mon  contacts_count_12_mon  \\\n",
       "0                  56                       2                      3   \n",
       "1                  56                       3                      2   \n",
       "2                  56                       4                      3   \n",
       "3                  56                       0                      0   \n",
       "4                  56                       2                      3   \n",
       "...               ...                     ...                    ...   \n",
       "10122              13                       1                      3   \n",
       "10123              13                       1                      3   \n",
       "10124              13                       2                      4   \n",
       "10125              13                       2                      3   \n",
       "10126              13                       3                      2   \n",
       "\n",
       "       credit_limit  avg_open_to_buy  avg_utilization_ratio  ...  gender  \\\n",
       "0            3193.0            676.0                  0.788  ...       M   \n",
       "1           10215.0           9205.0                  0.099  ...       M   \n",
       "2            7882.0           7277.0                  0.077  ...       F   \n",
       "3            1438.3           1438.3                  0.000  ...       F   \n",
       "4           13860.0          12208.0                  0.119  ...       M   \n",
       "...             ...              ...                    ...  ...     ...   \n",
       "10122        8656.0           8656.0                  0.000  ...       M   \n",
       "10123        4829.0           4829.0                  0.000  ...       F   \n",
       "10124        3585.0           1165.0                  0.675  ...       M   \n",
       "10125        4107.0           3128.0                  0.238  ...       M   \n",
       "10126       28174.0          27001.0                  0.042  ...       M   \n",
       "\n",
       "      education_level marital_status income_category total_relationship_count  \\\n",
       "0         High School        Married     $40K - $60K                        2   \n",
       "1             Unknown        Married     $60K - $80K                        3   \n",
       "2           Doctorate        Married         Unknown                        5   \n",
       "3             Unknown        Married  Less than $40K                        6   \n",
       "4            Graduate        Married         Unknown                        5   \n",
       "...               ...            ...             ...                      ...   \n",
       "10122     High School         Single    $80K - $120K                        2   \n",
       "10123        Graduate         Single  Less than $40K                        1   \n",
       "10124        Graduate         Single  Less than $40K                        2   \n",
       "10125      Uneducated         Single     $60K - $80K                        3   \n",
       "10126        Graduate        Married     $60K - $80K                        4   \n",
       "\n",
       "       total_revolving_bal  total_amt_chng_q4_q1  total_trans_amt  \\\n",
       "0                     2517                 1.831             1336   \n",
       "1                     1010                 0.843             1904   \n",
       "2                      605                 1.052              704   \n",
       "3                        0                 0.813             1951   \n",
       "4                     1652                 1.255             1910   \n",
       "...                    ...                   ...              ...   \n",
       "10122                    0                 0.893             8056   \n",
       "10123                    0                 0.836             8286   \n",
       "10124                 2420                 0.812            15656   \n",
       "10125                  979                 0.647            14596   \n",
       "10126                 1173                 0.779            16258   \n",
       "\n",
       "       total_ct_chng_q4_q1  total_trans_ct  \n",
       "0                    1.143              30  \n",
       "1                    1.000              40  \n",
       "2                    0.143              16  \n",
       "3                    1.095              44  \n",
       "4                    1.909              32  \n",
       "...                    ...             ...  \n",
       "10122                0.935              89  \n",
       "10123                0.857              65  \n",
       "10124                0.746             124  \n",
       "10125                0.733             104  \n",
       "10126                0.714             108  \n",
       "\n",
       "[10127 rows x 21 columns]"
      ]
     },
     "execution_count": 6,
     "metadata": {},
     "output_type": "execute_result"
    }
   ],
   "source": [
    "# I like to merge each file at a time, so if anything goes wrong I can identify which step created the issue.\n",
    "# merging the last csv\n",
    "\n",
    "df_master = df_master.merge(enrich_client,\n",
    "                   on = 'clientnum', \n",
    "                   how = 'outer')\n",
    "# check if merged correctly \n",
    "print(df_master.shape)\n",
    "df_master"
   ]
  },
  {
   "cell_type": "code",
   "execution_count": 7,
   "id": "10180c18",
   "metadata": {},
   "outputs": [
    {
     "name": "stdout",
     "output_type": "stream",
     "text": [
      "<class 'pandas.core.frame.DataFrame'>\n",
      "Int64Index: 10127 entries, 0 to 10126\n",
      "Data columns (total 21 columns):\n",
      " #   Column                    Non-Null Count  Dtype  \n",
      "---  ------                    --------------  -----  \n",
      " 0   clientnum                 10127 non-null  int64  \n",
      " 1   attrition_flag            10127 non-null  object \n",
      " 2   dependent_count           10127 non-null  int64  \n",
      " 3   card_category             10127 non-null  object \n",
      " 4   months_on_book            10127 non-null  int64  \n",
      " 5   months_inactive_12_mon    10127 non-null  int64  \n",
      " 6   contacts_count_12_mon     10127 non-null  int64  \n",
      " 7   credit_limit              10127 non-null  float64\n",
      " 8   avg_open_to_buy           10127 non-null  float64\n",
      " 9   avg_utilization_ratio     10127 non-null  float64\n",
      " 10  customer_age              10127 non-null  int64  \n",
      " 11  gender                    10127 non-null  object \n",
      " 12  education_level           10127 non-null  object \n",
      " 13  marital_status            10127 non-null  object \n",
      " 14  income_category           10127 non-null  object \n",
      " 15  total_relationship_count  10127 non-null  int64  \n",
      " 16  total_revolving_bal       10127 non-null  int64  \n",
      " 17  total_amt_chng_q4_q1      10127 non-null  float64\n",
      " 18  total_trans_amt           10127 non-null  int64  \n",
      " 19  total_ct_chng_q4_q1       10127 non-null  float64\n",
      " 20  total_trans_ct            10127 non-null  int64  \n",
      "dtypes: float64(5), int64(10), object(6)\n",
      "memory usage: 1.7+ MB\n"
     ]
    }
   ],
   "source": [
    "# we have all of our columns successfully joined. \n",
    "df_master.info()"
   ]
  },
  {
   "cell_type": "code",
   "execution_count": 8,
   "id": "a8facc45",
   "metadata": {},
   "outputs": [
    {
     "data": {
      "text/html": [
       "<div>\n",
       "<style scoped>\n",
       "    .dataframe tbody tr th:only-of-type {\n",
       "        vertical-align: middle;\n",
       "    }\n",
       "\n",
       "    .dataframe tbody tr th {\n",
       "        vertical-align: top;\n",
       "    }\n",
       "\n",
       "    .dataframe thead th {\n",
       "        text-align: right;\n",
       "    }\n",
       "</style>\n",
       "<table border=\"1\" class=\"dataframe\">\n",
       "  <thead>\n",
       "    <tr style=\"text-align: right;\">\n",
       "      <th></th>\n",
       "      <th>clientnum</th>\n",
       "      <th>attrition_flag</th>\n",
       "      <th>dependent_count</th>\n",
       "      <th>card_category</th>\n",
       "      <th>months_on_book</th>\n",
       "      <th>months_inactive_12_mon</th>\n",
       "      <th>contacts_count_12_mon</th>\n",
       "      <th>credit_limit</th>\n",
       "      <th>avg_open_to_buy</th>\n",
       "      <th>avg_utilization_ratio</th>\n",
       "      <th>customer_age</th>\n",
       "      <th>gender</th>\n",
       "      <th>education_level</th>\n",
       "      <th>marital_status</th>\n",
       "      <th>income_category</th>\n",
       "      <th>total_relationship_count</th>\n",
       "      <th>total_revolving_bal</th>\n",
       "      <th>total_amt_chng_q4_q1</th>\n",
       "      <th>total_trans_amt</th>\n",
       "      <th>total_ct_chng_q4_q1</th>\n",
       "      <th>total_trans_ct</th>\n",
       "    </tr>\n",
       "  </thead>\n",
       "  <tbody>\n",
       "    <tr>\n",
       "      <th>0</th>\n",
       "      <td>806160108</td>\n",
       "      <td>Existing Customer</td>\n",
       "      <td>1</td>\n",
       "      <td>Blue</td>\n",
       "      <td>56</td>\n",
       "      <td>2</td>\n",
       "      <td>3</td>\n",
       "      <td>3193.0</td>\n",
       "      <td>676.0</td>\n",
       "      <td>0.788</td>\n",
       "      <td>61</td>\n",
       "      <td>M</td>\n",
       "      <td>High School</td>\n",
       "      <td>Married</td>\n",
       "      <td>$40K - $60K</td>\n",
       "      <td>2</td>\n",
       "      <td>2517</td>\n",
       "      <td>1.831</td>\n",
       "      <td>1336</td>\n",
       "      <td>1.143</td>\n",
       "      <td>30</td>\n",
       "    </tr>\n",
       "    <tr>\n",
       "      <th>1</th>\n",
       "      <td>804424383</td>\n",
       "      <td>Existing Customer</td>\n",
       "      <td>1</td>\n",
       "      <td>Blue</td>\n",
       "      <td>56</td>\n",
       "      <td>3</td>\n",
       "      <td>2</td>\n",
       "      <td>10215.0</td>\n",
       "      <td>9205.0</td>\n",
       "      <td>0.099</td>\n",
       "      <td>63</td>\n",
       "      <td>M</td>\n",
       "      <td>Unknown</td>\n",
       "      <td>Married</td>\n",
       "      <td>$60K - $80K</td>\n",
       "      <td>3</td>\n",
       "      <td>1010</td>\n",
       "      <td>0.843</td>\n",
       "      <td>1904</td>\n",
       "      <td>1.000</td>\n",
       "      <td>40</td>\n",
       "    </tr>\n",
       "    <tr>\n",
       "      <th>2</th>\n",
       "      <td>708300483</td>\n",
       "      <td>Attrited Customer</td>\n",
       "      <td>0</td>\n",
       "      <td>Blue</td>\n",
       "      <td>56</td>\n",
       "      <td>4</td>\n",
       "      <td>3</td>\n",
       "      <td>7882.0</td>\n",
       "      <td>7277.0</td>\n",
       "      <td>0.077</td>\n",
       "      <td>66</td>\n",
       "      <td>F</td>\n",
       "      <td>Doctorate</td>\n",
       "      <td>Married</td>\n",
       "      <td>Unknown</td>\n",
       "      <td>5</td>\n",
       "      <td>605</td>\n",
       "      <td>1.052</td>\n",
       "      <td>704</td>\n",
       "      <td>0.143</td>\n",
       "      <td>16</td>\n",
       "    </tr>\n",
       "    <tr>\n",
       "      <th>3</th>\n",
       "      <td>808284783</td>\n",
       "      <td>Existing Customer</td>\n",
       "      <td>1</td>\n",
       "      <td>Blue</td>\n",
       "      <td>56</td>\n",
       "      <td>0</td>\n",
       "      <td>0</td>\n",
       "      <td>1438.3</td>\n",
       "      <td>1438.3</td>\n",
       "      <td>0.000</td>\n",
       "      <td>62</td>\n",
       "      <td>F</td>\n",
       "      <td>Unknown</td>\n",
       "      <td>Married</td>\n",
       "      <td>Less than $40K</td>\n",
       "      <td>6</td>\n",
       "      <td>0</td>\n",
       "      <td>0.813</td>\n",
       "      <td>1951</td>\n",
       "      <td>1.095</td>\n",
       "      <td>44</td>\n",
       "    </tr>\n",
       "    <tr>\n",
       "      <th>4</th>\n",
       "      <td>712720158</td>\n",
       "      <td>Existing Customer</td>\n",
       "      <td>1</td>\n",
       "      <td>Blue</td>\n",
       "      <td>56</td>\n",
       "      <td>2</td>\n",
       "      <td>3</td>\n",
       "      <td>13860.0</td>\n",
       "      <td>12208.0</td>\n",
       "      <td>0.119</td>\n",
       "      <td>68</td>\n",
       "      <td>M</td>\n",
       "      <td>Graduate</td>\n",
       "      <td>Married</td>\n",
       "      <td>Unknown</td>\n",
       "      <td>5</td>\n",
       "      <td>1652</td>\n",
       "      <td>1.255</td>\n",
       "      <td>1910</td>\n",
       "      <td>1.909</td>\n",
       "      <td>32</td>\n",
       "    </tr>\n",
       "    <tr>\n",
       "      <th>5</th>\n",
       "      <td>717296808</td>\n",
       "      <td>Existing Customer</td>\n",
       "      <td>1</td>\n",
       "      <td>Blue</td>\n",
       "      <td>56</td>\n",
       "      <td>3</td>\n",
       "      <td>2</td>\n",
       "      <td>3006.0</td>\n",
       "      <td>489.0</td>\n",
       "      <td>0.837</td>\n",
       "      <td>67</td>\n",
       "      <td>F</td>\n",
       "      <td>Graduate</td>\n",
       "      <td>Married</td>\n",
       "      <td>Less than $40K</td>\n",
       "      <td>4</td>\n",
       "      <td>2517</td>\n",
       "      <td>2.053</td>\n",
       "      <td>1661</td>\n",
       "      <td>1.000</td>\n",
       "      <td>32</td>\n",
       "    </tr>\n",
       "    <tr>\n",
       "      <th>6</th>\n",
       "      <td>809164083</td>\n",
       "      <td>Existing Customer</td>\n",
       "      <td>1</td>\n",
       "      <td>Blue</td>\n",
       "      <td>56</td>\n",
       "      <td>1</td>\n",
       "      <td>2</td>\n",
       "      <td>2619.0</td>\n",
       "      <td>840.0</td>\n",
       "      <td>0.679</td>\n",
       "      <td>63</td>\n",
       "      <td>M</td>\n",
       "      <td>Graduate</td>\n",
       "      <td>Married</td>\n",
       "      <td>$40K - $60K</td>\n",
       "      <td>2</td>\n",
       "      <td>1779</td>\n",
       "      <td>1.259</td>\n",
       "      <td>1450</td>\n",
       "      <td>0.947</td>\n",
       "      <td>37</td>\n",
       "    </tr>\n",
       "    <tr>\n",
       "      <th>7</th>\n",
       "      <td>787348608</td>\n",
       "      <td>Existing Customer</td>\n",
       "      <td>0</td>\n",
       "      <td>Blue</td>\n",
       "      <td>56</td>\n",
       "      <td>2</td>\n",
       "      <td>3</td>\n",
       "      <td>3252.0</td>\n",
       "      <td>1757.0</td>\n",
       "      <td>0.460</td>\n",
       "      <td>70</td>\n",
       "      <td>M</td>\n",
       "      <td>High School</td>\n",
       "      <td>Married</td>\n",
       "      <td>Less than $40K</td>\n",
       "      <td>3</td>\n",
       "      <td>1495</td>\n",
       "      <td>0.581</td>\n",
       "      <td>1227</td>\n",
       "      <td>0.875</td>\n",
       "      <td>15</td>\n",
       "    </tr>\n",
       "    <tr>\n",
       "      <th>8</th>\n",
       "      <td>778286433</td>\n",
       "      <td>Existing Customer</td>\n",
       "      <td>0</td>\n",
       "      <td>Blue</td>\n",
       "      <td>56</td>\n",
       "      <td>2</td>\n",
       "      <td>1</td>\n",
       "      <td>5876.0</td>\n",
       "      <td>4579.0</td>\n",
       "      <td>0.221</td>\n",
       "      <td>67</td>\n",
       "      <td>M</td>\n",
       "      <td>Graduate</td>\n",
       "      <td>Married</td>\n",
       "      <td>$40K - $60K</td>\n",
       "      <td>4</td>\n",
       "      <td>1297</td>\n",
       "      <td>1.012</td>\n",
       "      <td>2133</td>\n",
       "      <td>0.719</td>\n",
       "      <td>55</td>\n",
       "    </tr>\n",
       "    <tr>\n",
       "      <th>9</th>\n",
       "      <td>822969858</td>\n",
       "      <td>Existing Customer</td>\n",
       "      <td>0</td>\n",
       "      <td>Blue</td>\n",
       "      <td>56</td>\n",
       "      <td>1</td>\n",
       "      <td>3</td>\n",
       "      <td>5585.0</td>\n",
       "      <td>4120.0</td>\n",
       "      <td>0.262</td>\n",
       "      <td>61</td>\n",
       "      <td>F</td>\n",
       "      <td>Graduate</td>\n",
       "      <td>Married</td>\n",
       "      <td>Unknown</td>\n",
       "      <td>4</td>\n",
       "      <td>1465</td>\n",
       "      <td>1.503</td>\n",
       "      <td>1787</td>\n",
       "      <td>0.722</td>\n",
       "      <td>31</td>\n",
       "    </tr>\n",
       "  </tbody>\n",
       "</table>\n",
       "</div>"
      ],
      "text/plain": [
       "   clientnum     attrition_flag  dependent_count card_category  \\\n",
       "0  806160108  Existing Customer                1          Blue   \n",
       "1  804424383  Existing Customer                1          Blue   \n",
       "2  708300483  Attrited Customer                0          Blue   \n",
       "3  808284783  Existing Customer                1          Blue   \n",
       "4  712720158  Existing Customer                1          Blue   \n",
       "5  717296808  Existing Customer                1          Blue   \n",
       "6  809164083  Existing Customer                1          Blue   \n",
       "7  787348608  Existing Customer                0          Blue   \n",
       "8  778286433  Existing Customer                0          Blue   \n",
       "9  822969858  Existing Customer                0          Blue   \n",
       "\n",
       "   months_on_book  months_inactive_12_mon  contacts_count_12_mon  \\\n",
       "0              56                       2                      3   \n",
       "1              56                       3                      2   \n",
       "2              56                       4                      3   \n",
       "3              56                       0                      0   \n",
       "4              56                       2                      3   \n",
       "5              56                       3                      2   \n",
       "6              56                       1                      2   \n",
       "7              56                       2                      3   \n",
       "8              56                       2                      1   \n",
       "9              56                       1                      3   \n",
       "\n",
       "   credit_limit  avg_open_to_buy  avg_utilization_ratio  customer_age gender  \\\n",
       "0        3193.0            676.0                  0.788            61      M   \n",
       "1       10215.0           9205.0                  0.099            63      M   \n",
       "2        7882.0           7277.0                  0.077            66      F   \n",
       "3        1438.3           1438.3                  0.000            62      F   \n",
       "4       13860.0          12208.0                  0.119            68      M   \n",
       "5        3006.0            489.0                  0.837            67      F   \n",
       "6        2619.0            840.0                  0.679            63      M   \n",
       "7        3252.0           1757.0                  0.460            70      M   \n",
       "8        5876.0           4579.0                  0.221            67      M   \n",
       "9        5585.0           4120.0                  0.262            61      F   \n",
       "\n",
       "  education_level marital_status income_category  total_relationship_count  \\\n",
       "0     High School        Married     $40K - $60K                         2   \n",
       "1         Unknown        Married     $60K - $80K                         3   \n",
       "2       Doctorate        Married         Unknown                         5   \n",
       "3         Unknown        Married  Less than $40K                         6   \n",
       "4        Graduate        Married         Unknown                         5   \n",
       "5        Graduate        Married  Less than $40K                         4   \n",
       "6        Graduate        Married     $40K - $60K                         2   \n",
       "7     High School        Married  Less than $40K                         3   \n",
       "8        Graduate        Married     $40K - $60K                         4   \n",
       "9        Graduate        Married         Unknown                         4   \n",
       "\n",
       "   total_revolving_bal  total_amt_chng_q4_q1  total_trans_amt  \\\n",
       "0                 2517                 1.831             1336   \n",
       "1                 1010                 0.843             1904   \n",
       "2                  605                 1.052              704   \n",
       "3                    0                 0.813             1951   \n",
       "4                 1652                 1.255             1910   \n",
       "5                 2517                 2.053             1661   \n",
       "6                 1779                 1.259             1450   \n",
       "7                 1495                 0.581             1227   \n",
       "8                 1297                 1.012             2133   \n",
       "9                 1465                 1.503             1787   \n",
       "\n",
       "   total_ct_chng_q4_q1  total_trans_ct  \n",
       "0                1.143              30  \n",
       "1                1.000              40  \n",
       "2                0.143              16  \n",
       "3                1.095              44  \n",
       "4                1.909              32  \n",
       "5                1.000              32  \n",
       "6                0.947              37  \n",
       "7                0.875              15  \n",
       "8                0.719              55  \n",
       "9                0.722              31  "
      ]
     },
     "metadata": {},
     "output_type": "display_data"
    }
   ],
   "source": [
    "with pd.option_context('display.max_columns', None):\n",
    "    display(df_master.head(10))"
   ]
  },
  {
   "cell_type": "markdown",
   "id": "5b1b0f64",
   "metadata": {},
   "source": [
    "### Quality Check\n",
    "Quality is good!\n",
    "A few data type changes to make exploratory analysis easier:\n",
    "1. change `clientnum` to object\n",
    "2. change `attrition_flag`, `income_category`, `marital_status` and `gender` to categorical\n",
    "3. feature engineering:\n",
    " - create an `age_group` column, categorical\n",
    " - create a `inactivity_rate` column using the `months_inactive_12_mon` and the `months_on_book` columns, float64\n",
    "\n",
    "### Tidiness Check\n",
    "Data is tidy!"
   ]
  },
  {
   "cell_type": "code",
   "execution_count": 9,
   "id": "ed29c8f1",
   "metadata": {},
   "outputs": [
    {
     "name": "stdout",
     "output_type": "stream",
     "text": [
      "<class 'pandas.core.frame.DataFrame'>\n",
      "Int64Index: 10127 entries, 0 to 10126\n",
      "Data columns (total 21 columns):\n",
      " #   Column                    Non-Null Count  Dtype   \n",
      "---  ------                    --------------  -----   \n",
      " 0   clientnum                 10127 non-null  object  \n",
      " 1   attrition_flag            10127 non-null  category\n",
      " 2   dependent_count           10127 non-null  int64   \n",
      " 3   card_category             10127 non-null  object  \n",
      " 4   months_on_book            10127 non-null  int64   \n",
      " 5   months_inactive_12_mon    10127 non-null  int64   \n",
      " 6   contacts_count_12_mon     10127 non-null  int64   \n",
      " 7   credit_limit              10127 non-null  float64 \n",
      " 8   avg_open_to_buy           10127 non-null  float64 \n",
      " 9   avg_utilization_ratio     10127 non-null  float64 \n",
      " 10  customer_age              10127 non-null  int64   \n",
      " 11  gender                    10127 non-null  category\n",
      " 12  education_level           10127 non-null  category\n",
      " 13  marital_status            10127 non-null  category\n",
      " 14  income_category           10127 non-null  category\n",
      " 15  total_relationship_count  10127 non-null  int64   \n",
      " 16  total_revolving_bal       10127 non-null  int64   \n",
      " 17  total_amt_chng_q4_q1      10127 non-null  float64 \n",
      " 18  total_trans_amt           10127 non-null  int64   \n",
      " 19  total_ct_chng_q4_q1       10127 non-null  float64 \n",
      " 20  total_trans_ct            10127 non-null  int64   \n",
      "dtypes: category(5), float64(5), int64(9), object(2)\n",
      "memory usage: 1.4+ MB\n"
     ]
    }
   ],
   "source": [
    "\"\"\"TO DO\n",
    "- Change data types for exploratory analysis\n",
    "- Add feature engineering for exploratory analysis\n",
    "\"\"\"\n",
    "\n",
    "#create a copy of your master df\n",
    "df_mastercopy = df_master.copy()\n",
    "\n",
    "# change data types for clientnum using astype() use pd.Categorical for the rest\n",
    "df_mastercopy['clientnum'] = df_mastercopy['clientnum'].astype(str)\n",
    "df_mastercopy['attrition_flag'] = pd.Categorical(df_mastercopy.attrition_flag)\n",
    "df_mastercopy['income_category'] = pd.Categorical(df_mastercopy.income_category)\n",
    "df_mastercopy['marital_status'] = pd.Categorical(df_mastercopy.marital_status)\n",
    "df_mastercopy['education_level'] = pd.Categorical(df_mastercopy.education_level)\n",
    "df_mastercopy['gender'] = pd.Categorical(df_mastercopy.gender)\n",
    "\n",
    "#check your work\n",
    "df_mastercopy.info()"
   ]
  },
  {
   "cell_type": "code",
   "execution_count": 10,
   "id": "9b6e17b8",
   "metadata": {},
   "outputs": [
    {
     "name": "stdout",
     "output_type": "stream",
     "text": [
      "<class 'pandas.core.frame.DataFrame'>\n",
      "Int64Index: 10127 entries, 0 to 10126\n",
      "Data columns (total 22 columns):\n",
      " #   Column                    Non-Null Count  Dtype   \n",
      "---  ------                    --------------  -----   \n",
      " 0   clientnum                 10127 non-null  object  \n",
      " 1   attrition_flag            10127 non-null  category\n",
      " 2   dependent_count           10127 non-null  int64   \n",
      " 3   card_category             10127 non-null  object  \n",
      " 4   months_on_book            10127 non-null  int64   \n",
      " 5   months_inactive_12_mon    10127 non-null  int64   \n",
      " 6   contacts_count_12_mon     10127 non-null  int64   \n",
      " 7   credit_limit              10127 non-null  float64 \n",
      " 8   avg_open_to_buy           10127 non-null  float64 \n",
      " 9   avg_utilization_ratio     10127 non-null  float64 \n",
      " 10  customer_age              10127 non-null  int64   \n",
      " 11  gender                    10127 non-null  category\n",
      " 12  education_level           10127 non-null  category\n",
      " 13  marital_status            10127 non-null  category\n",
      " 14  income_category           10127 non-null  category\n",
      " 15  total_relationship_count  10127 non-null  int64   \n",
      " 16  total_revolving_bal       10127 non-null  int64   \n",
      " 17  total_amt_chng_q4_q1      10127 non-null  float64 \n",
      " 18  total_trans_amt           10127 non-null  int64   \n",
      " 19  total_ct_chng_q4_q1       10127 non-null  float64 \n",
      " 20  total_trans_ct            10127 non-null  int64   \n",
      " 21  inactivity_rate           10127 non-null  float64 \n",
      "dtypes: category(5), float64(6), int64(9), object(2)\n",
      "memory usage: 1.4+ MB\n"
     ]
    }
   ],
   "source": [
    "# feature engineering #1: create a churn_rate column\n",
    "df_mastercopy['inactivity_rate'] = (df_mastercopy['months_inactive_12_mon']/ df_mastercopy['months_on_book'])*100\n",
    "df_mastercopy['inactivity_rate'] = df_mastercopy['inactivity_rate'].astype(float)\n",
    "\n",
    "# check your work\n",
    "df_mastercopy.info()"
   ]
  },
  {
   "cell_type": "code",
   "execution_count": 11,
   "id": "259e18e3",
   "metadata": {},
   "outputs": [
    {
     "name": "stdout",
     "output_type": "stream",
     "text": [
      "<class 'pandas.core.frame.DataFrame'>\n",
      "Int64Index: 10127 entries, 0 to 10126\n",
      "Data columns (total 23 columns):\n",
      " #   Column                    Non-Null Count  Dtype   \n",
      "---  ------                    --------------  -----   \n",
      " 0   clientnum                 10127 non-null  object  \n",
      " 1   attrition_flag            10127 non-null  category\n",
      " 2   dependent_count           10127 non-null  int64   \n",
      " 3   card_category             10127 non-null  object  \n",
      " 4   months_on_book            10127 non-null  int64   \n",
      " 5   months_inactive_12_mon    10127 non-null  int64   \n",
      " 6   contacts_count_12_mon     10127 non-null  int64   \n",
      " 7   credit_limit              10127 non-null  float64 \n",
      " 8   avg_open_to_buy           10127 non-null  float64 \n",
      " 9   avg_utilization_ratio     10127 non-null  float64 \n",
      " 10  customer_age              10127 non-null  int64   \n",
      " 11  gender                    10127 non-null  category\n",
      " 12  education_level           10127 non-null  category\n",
      " 13  marital_status            10127 non-null  category\n",
      " 14  income_category           10127 non-null  category\n",
      " 15  total_relationship_count  10127 non-null  int64   \n",
      " 16  total_revolving_bal       10127 non-null  int64   \n",
      " 17  total_amt_chng_q4_q1      10127 non-null  float64 \n",
      " 18  total_trans_amt           10127 non-null  int64   \n",
      " 19  total_ct_chng_q4_q1       10127 non-null  float64 \n",
      " 20  total_trans_ct            10127 non-null  int64   \n",
      " 21  inactivity_rate           10127 non-null  float64 \n",
      " 22  age_group                 10127 non-null  category\n",
      "dtypes: category(6), float64(6), int64(9), object(2)\n",
      "memory usage: 1.4+ MB\n"
     ]
    }
   ],
   "source": [
    "# feature engineering #2: create an age group column, as categorical: \n",
    "\n",
    "# [Customer Age] < 30 THEN \"30 and Younger\"\n",
    "# [Customer Age] >= 30 AND [Customer Age] < 41 THEN \"30-40\"\n",
    "# [Customer Age] > 40 AND [Customer Age] < 51 THEN \"40-50\"\n",
    "# [Customer Age] > 50 AND [Customer Age] < 61 THEN \"50-60\"\n",
    "# Else \"60 and Older\"\n",
    "\n",
    "df_mastercopy['age_group'] = np.where(df_mastercopy['customer_age'] < 30, '30 and Younger',\n",
    "                                  np.where(np.logical_and(df_mastercopy['customer_age'] >= 30, df_mastercopy['customer_age'] < 41), '30-40',\n",
    "                                  np.where(np.logical_and(df_mastercopy['customer_age'] >= 40, df_mastercopy['customer_age'] < 51), '40-50',\n",
    "                                  np.where(np.logical_and(df_mastercopy['customer_age'] >= 50, df_mastercopy['customer_age'] < 61), '50-60',\n",
    "                                           '60 and Older'))))\n",
    "\n",
    "# convert to categorical\n",
    "df_mastercopy['age_group'] = pd.Categorical(df_mastercopy.age_group)\n",
    "\n",
    "\n",
    "# check your work\n",
    "df_mastercopy.info()"
   ]
  },
  {
   "cell_type": "markdown",
   "id": "85f7a6e8",
   "metadata": {},
   "source": [
    "# 1. SUMMARY STATISTICS\n",
    "## 1.1 Basic Statistics\n",
    "\n",
    "This section will cover some basic statistics\n",
    "\n",
    "**Missing Values** - from the `.info()` method above, we can see that all rows have **NON-NULL** values. No additional cleaning is needed."
   ]
  },
  {
   "cell_type": "markdown",
   "id": "67f0991e",
   "metadata": {},
   "source": [
    "### What is the distibution of inactivity by marital status?"
   ]
  },
  {
   "cell_type": "code",
   "execution_count": 12,
   "id": "c0878cdc",
   "metadata": {},
   "outputs": [
    {
     "data": {
      "text/html": [
       "<div>\n",
       "<style scoped>\n",
       "    .dataframe tbody tr th:only-of-type {\n",
       "        vertical-align: middle;\n",
       "    }\n",
       "\n",
       "    .dataframe tbody tr th {\n",
       "        vertical-align: top;\n",
       "    }\n",
       "\n",
       "    .dataframe thead th {\n",
       "        text-align: right;\n",
       "    }\n",
       "</style>\n",
       "<table border=\"1\" class=\"dataframe\">\n",
       "  <thead>\n",
       "    <tr style=\"text-align: right;\">\n",
       "      <th></th>\n",
       "      <th>count</th>\n",
       "      <th>mean</th>\n",
       "      <th>std</th>\n",
       "      <th>min</th>\n",
       "      <th>25%</th>\n",
       "      <th>50%</th>\n",
       "      <th>75%</th>\n",
       "      <th>max</th>\n",
       "    </tr>\n",
       "    <tr>\n",
       "      <th>marital_status</th>\n",
       "      <th></th>\n",
       "      <th></th>\n",
       "      <th></th>\n",
       "      <th></th>\n",
       "      <th></th>\n",
       "      <th></th>\n",
       "      <th></th>\n",
       "      <th></th>\n",
       "    </tr>\n",
       "  </thead>\n",
       "  <tbody>\n",
       "    <tr>\n",
       "      <th>Divorced</th>\n",
       "      <td>748.0</td>\n",
       "      <td>7.004703</td>\n",
       "      <td>3.507932</td>\n",
       "      <td>1.785714</td>\n",
       "      <td>4.651163</td>\n",
       "      <td>6.666667</td>\n",
       "      <td>8.333333</td>\n",
       "      <td>23.076923</td>\n",
       "    </tr>\n",
       "    <tr>\n",
       "      <th>Married</th>\n",
       "      <td>4687.0</td>\n",
       "      <td>6.757344</td>\n",
       "      <td>3.403844</td>\n",
       "      <td>0.000000</td>\n",
       "      <td>4.347826</td>\n",
       "      <td>6.451613</td>\n",
       "      <td>8.333333</td>\n",
       "      <td>46.153846</td>\n",
       "    </tr>\n",
       "    <tr>\n",
       "      <th>Single</th>\n",
       "      <td>3943.0</td>\n",
       "      <td>6.951196</td>\n",
       "      <td>3.505541</td>\n",
       "      <td>0.000000</td>\n",
       "      <td>4.545455</td>\n",
       "      <td>6.666667</td>\n",
       "      <td>8.333333</td>\n",
       "      <td>31.250000</td>\n",
       "    </tr>\n",
       "    <tr>\n",
       "      <th>Unknown</th>\n",
       "      <td>749.0</td>\n",
       "      <td>6.882329</td>\n",
       "      <td>3.370915</td>\n",
       "      <td>1.785714</td>\n",
       "      <td>4.651163</td>\n",
       "      <td>6.666667</td>\n",
       "      <td>8.333333</td>\n",
       "      <td>23.076923</td>\n",
       "    </tr>\n",
       "  </tbody>\n",
       "</table>\n",
       "</div>"
      ],
      "text/plain": [
       "                 count      mean       std       min       25%       50%  \\\n",
       "marital_status                                                             \n",
       "Divorced         748.0  7.004703  3.507932  1.785714  4.651163  6.666667   \n",
       "Married         4687.0  6.757344  3.403844  0.000000  4.347826  6.451613   \n",
       "Single          3943.0  6.951196  3.505541  0.000000  4.545455  6.666667   \n",
       "Unknown          749.0  6.882329  3.370915  1.785714  4.651163  6.666667   \n",
       "\n",
       "                     75%        max  \n",
       "marital_status                       \n",
       "Divorced        8.333333  23.076923  \n",
       "Married         8.333333  46.153846  \n",
       "Single          8.333333  31.250000  \n",
       "Unknown         8.333333  23.076923  "
      ]
     },
     "metadata": {},
     "output_type": "display_data"
    }
   ],
   "source": [
    "display(df_mastercopy.groupby('marital_status')['inactivity_rate'].describe())"
   ]
  },
  {
   "cell_type": "markdown",
   "id": "57c76d56",
   "metadata": {},
   "source": [
    "### What is the number of churned customers, grouped by marital status?"
   ]
  },
  {
   "cell_type": "code",
   "execution_count": 13,
   "id": "553c7444",
   "metadata": {},
   "outputs": [
    {
     "data": {
      "text/plain": [
       "attrition_flag             \n",
       "Attrited Customer  Married      709\n",
       "                   Single       668\n",
       "                   Unknown      129\n",
       "                   Divorced     121\n",
       "Existing Customer  Married     3978\n",
       "                   Single      3275\n",
       "                   Divorced     627\n",
       "                   Unknown      620\n",
       "Name: marital_status, dtype: int64"
      ]
     },
     "execution_count": 13,
     "metadata": {},
     "output_type": "execute_result"
    }
   ],
   "source": [
    "df_marital_stat = df_mastercopy.groupby('attrition_flag')['marital_status'].value_counts()\n",
    "df_marital_stat.head(10)"
   ]
  },
  {
   "cell_type": "markdown",
   "id": "a3d92f4f",
   "metadata": {},
   "source": [
    "### What is the proportion of churned customers by marital status?"
   ]
  },
  {
   "cell_type": "code",
   "execution_count": 14,
   "id": "e92ae977",
   "metadata": {},
   "outputs": [
    {
     "data": {
      "image/png": "[encoded data removed]",
      "text/plain": [
       "<Figure size 432x288 with 1 Axes>"
      ]
     },
     "metadata": {
      "needs_background": "light"
     },
     "output_type": "display_data"
    }
   ],
   "source": [
    "base_color = sb.color_palette()[1]\n",
    "ms_order = df_mastercopy.query(\"attrition_flag == 'Attrited Customer'\")['marital_status'].value_counts().index\n",
    "n_ms = df_mastercopy.query(\"attrition_flag == 'Attrited Customer'\")['marital_status'].value_counts().sum()\n",
    "ms_counts = df_mastercopy.query(\"attrition_flag == 'Attrited Customer'\")['marital_status'].value_counts()\n",
    "\n",
    "sb.countplot(data = df_mastercopy.query(\"attrition_flag == 'Attrited Customer'\"), y = 'marital_status',\n",
    "             color = base_color, order = ms_order);\n",
    "\n",
    "for i in range(ms_counts.shape[0]):\n",
    "    count = ms_counts[i]\n",
    "    pct_string = '{:0.1f}%'.format(100*count/n_ms)\n",
    "    plt.text(count+1, i, pct_string, va = 'center');\n"
   ]
  },
  {
   "cell_type": "markdown",
   "id": "9f246f05",
   "metadata": {},
   "source": [
    "### What is the distribution of inactivity by age group?"
   ]
  },
  {
   "cell_type": "code",
   "execution_count": 15,
   "id": "45a6572c",
   "metadata": {},
   "outputs": [
    {
     "data": {
      "text/html": [
       "<div>\n",
       "<style scoped>\n",
       "    .dataframe tbody tr th:only-of-type {\n",
       "        vertical-align: middle;\n",
       "    }\n",
       "\n",
       "    .dataframe tbody tr th {\n",
       "        vertical-align: top;\n",
       "    }\n",
       "\n",
       "    .dataframe thead th {\n",
       "        text-align: right;\n",
       "    }\n",
       "</style>\n",
       "<table border=\"1\" class=\"dataframe\">\n",
       "  <thead>\n",
       "    <tr style=\"text-align: right;\">\n",
       "      <th></th>\n",
       "      <th>count</th>\n",
       "      <th>mean</th>\n",
       "      <th>std</th>\n",
       "      <th>min</th>\n",
       "      <th>25%</th>\n",
       "      <th>50%</th>\n",
       "      <th>75%</th>\n",
       "      <th>max</th>\n",
       "    </tr>\n",
       "    <tr>\n",
       "      <th>age_group</th>\n",
       "      <th></th>\n",
       "      <th></th>\n",
       "      <th></th>\n",
       "      <th></th>\n",
       "      <th></th>\n",
       "      <th></th>\n",
       "      <th></th>\n",
       "      <th></th>\n",
       "    </tr>\n",
       "  </thead>\n",
       "  <tbody>\n",
       "    <tr>\n",
       "      <th>30 and Younger</th>\n",
       "      <td>195.0</td>\n",
       "      <td>11.361436</td>\n",
       "      <td>6.227759</td>\n",
       "      <td>0.0</td>\n",
       "      <td>5.555556</td>\n",
       "      <td>10.000000</td>\n",
       "      <td>15.384615</td>\n",
       "      <td>30.769231</td>\n",
       "    </tr>\n",
       "    <tr>\n",
       "      <th>30-40</th>\n",
       "      <td>2202.0</td>\n",
       "      <td>8.362652</td>\n",
       "      <td>4.072094</td>\n",
       "      <td>0.0</td>\n",
       "      <td>5.555556</td>\n",
       "      <td>8.333333</td>\n",
       "      <td>10.344828</td>\n",
       "      <td>46.153846</td>\n",
       "    </tr>\n",
       "    <tr>\n",
       "      <th>40-50</th>\n",
       "      <td>4652.0</td>\n",
       "      <td>6.765772</td>\n",
       "      <td>3.009774</td>\n",
       "      <td>0.0</td>\n",
       "      <td>5.000000</td>\n",
       "      <td>6.666667</td>\n",
       "      <td>8.333333</td>\n",
       "      <td>28.571429</td>\n",
       "    </tr>\n",
       "    <tr>\n",
       "      <th>50-60</th>\n",
       "      <td>2673.0</td>\n",
       "      <td>5.756462</td>\n",
       "      <td>2.628750</td>\n",
       "      <td>0.0</td>\n",
       "      <td>4.000000</td>\n",
       "      <td>5.555556</td>\n",
       "      <td>7.500000</td>\n",
       "      <td>16.666667</td>\n",
       "    </tr>\n",
       "    <tr>\n",
       "      <th>60 and Older</th>\n",
       "      <td>405.0</td>\n",
       "      <td>4.896753</td>\n",
       "      <td>2.294405</td>\n",
       "      <td>0.0</td>\n",
       "      <td>3.571429</td>\n",
       "      <td>5.357143</td>\n",
       "      <td>5.882353</td>\n",
       "      <td>12.000000</td>\n",
       "    </tr>\n",
       "  </tbody>\n",
       "</table>\n",
       "</div>"
      ],
      "text/plain": [
       "                 count       mean       std  min       25%        50%  \\\n",
       "age_group                                                               \n",
       "30 and Younger   195.0  11.361436  6.227759  0.0  5.555556  10.000000   \n",
       "30-40           2202.0   8.362652  4.072094  0.0  5.555556   8.333333   \n",
       "40-50           4652.0   6.765772  3.009774  0.0  5.000000   6.666667   \n",
       "50-60           2673.0   5.756462  2.628750  0.0  4.000000   5.555556   \n",
       "60 and Older     405.0   4.896753  2.294405  0.0  3.571429   5.357143   \n",
       "\n",
       "                      75%        max  \n",
       "age_group                             \n",
       "30 and Younger  15.384615  30.769231  \n",
       "30-40           10.344828  46.153846  \n",
       "40-50            8.333333  28.571429  \n",
       "50-60            7.500000  16.666667  \n",
       "60 and Older     5.882353  12.000000  "
      ]
     },
     "metadata": {},
     "output_type": "display_data"
    }
   ],
   "source": [
    "display(df_mastercopy.groupby('age_group')['inactivity_rate'].describe())"
   ]
  },
  {
   "cell_type": "code",
   "execution_count": 16,
   "id": "ad6f86a5",
   "metadata": {},
   "outputs": [
    {
     "name": "stdout",
     "output_type": "stream",
     "text": [
      "7.412\n",
      "3.626\n"
     ]
    }
   ],
   "source": [
    "# stdv indicates some variability from the mean in the 30 and younger, lets try to id any outliers.\n",
    "# create a lower and upper bound based on the average mean and stdv\n",
    "import statistics\n",
    "\n",
    "mean_1 = [11.36,8.3,6.76,5.75,4.89]\n",
    "standard = [6.22,4,3,2.62,2.29]\n",
    "print(statistics.mean(mean_1))\n",
    "print(statistics.mean(standard))"
   ]
  },
  {
   "cell_type": "code",
   "execution_count": 17,
   "id": "3c4c83ee",
   "metadata": {},
   "outputs": [
    {
     "name": "stdout",
     "output_type": "stream",
     "text": [
      "30 and younger outliers: 65 \n",
      " 30-40 outliers: 150 \n",
      " 40-50 outliers: 94 \n",
      " 50-60 outliers: 20 \n",
      " 60 and older outliers: 5\n",
      "total 334\n"
     ]
    }
   ],
   "source": [
    "# set up my upper and lower bounds using the standard deviation and mean\n",
    "upper = 7.41 + 3.6 * 2\n",
    "lower = 7.41 - 3.6 * 2\n",
    "\n",
    "# find the number of outliers for each age group\n",
    "less_30 = df_mastercopy.query(\"age_group == '30 and Younger'\").query(\"inactivity_rate < @lower | inactivity_rate > @upper\")['inactivity_rate'].value_counts().sum()\n",
    "thirty_40 = df_mastercopy.query(\"age_group == '30-40'\").query(\"inactivity_rate < @lower | inactivity_rate > @upper\")['inactivity_rate'].value_counts().sum()\n",
    "forty_50 = df_mastercopy.query(\"age_group == '40-50'\").query(\"inactivity_rate < @lower | inactivity_rate > @upper\")['inactivity_rate'].value_counts().sum()\n",
    "fifty_60 = df_mastercopy.query(\"age_group == '50-60'\").query(\"inactivity_rate < @lower | inactivity_rate > @upper\")['inactivity_rate'].value_counts().sum()\n",
    "up_60 = df_mastercopy.query(\"age_group == '60 and Older'\").query(\"inactivity_rate < @lower | inactivity_rate > @upper\")['inactivity_rate'].value_counts().sum()\n",
    "print(f\"30 and younger outliers: {less_30} \\n 30-40 outliers: {thirty_40} \\n 40-50 outliers: {forty_50} \\n 50-60 outliers: {fifty_60} \\n 60 and older outliers: {up_60}\")\n",
    "print(\"total\",less_30 + thirty_40 + forty_50 + fifty_60 + up_60)"
   ]
  },
  {
   "cell_type": "markdown",
   "id": "cff4dd39",
   "metadata": {},
   "source": [
    "### What is the number of churned customers, grouped by age group?"
   ]
  },
  {
   "cell_type": "code",
   "execution_count": 18,
   "id": "29281166",
   "metadata": {},
   "outputs": [
    {
     "data": {
      "text/plain": [
       "attrition_flag                   \n",
       "Attrited Customer  40-50              779\n",
       "                   50-60              448\n",
       "                   30-40              325\n",
       "                   60 and Older        58\n",
       "                   30 and Younger      17\n",
       "Existing Customer  40-50             3873\n",
       "                   50-60             2225\n",
       "                   30-40             1877\n",
       "                   60 and Older       347\n",
       "                   30 and Younger     178\n",
       "Name: age_group, dtype: int64"
      ]
     },
     "execution_count": 18,
     "metadata": {},
     "output_type": "execute_result"
    }
   ],
   "source": [
    "df_age = df_mastercopy.groupby('attrition_flag')['age_group'].value_counts()\n",
    "df_age.head(10)"
   ]
  },
  {
   "cell_type": "markdown",
   "id": "5fc0eaf9",
   "metadata": {},
   "source": [
    "### What is the proportion of churned customers by age group?"
   ]
  },
  {
   "cell_type": "code",
   "execution_count": 19,
   "id": "c8fee477",
   "metadata": {},
   "outputs": [
    {
     "data": {
      "image/png": "[encoded data removed]",
      "text/plain": [
       "<Figure size 432x288 with 1 Axes>"
      ]
     },
     "metadata": {
      "needs_background": "light"
     },
     "output_type": "display_data"
    }
   ],
   "source": [
    "\"\"\"create variable to order your data by its quantitative variables and include percentages\"\"\"\n",
    "\n",
    "base_color = sb.color_palette()[2]\n",
    "ag_order = df_mastercopy.query(\"attrition_flag == 'Attrited Customer'\")['age_group'].value_counts().index\n",
    "n_ag = df_mastercopy.query(\"attrition_flag == 'Attrited Customer'\")['age_group'].value_counts().sum()\n",
    "ag_counts = df_mastercopy.query(\"attrition_flag == 'Attrited Customer'\")['age_group'].value_counts()\n",
    "\n",
    "sb.countplot(data = df_mastercopy.query(\"attrition_flag == 'Attrited Customer'\"), y = 'age_group',\n",
    "             color = base_color, order = ag_order);\n",
    "\n",
    "for i in range(ag_counts.shape[0]):\n",
    "    count = ag_counts[i]\n",
    "    pct_string = '{:0.1f}%'.format(100*count/n_ag)\n",
    "    plt.text(count+1, i, pct_string, va = 'center');"
   ]
  },
  {
   "cell_type": "markdown",
   "id": "e8bf9c12",
   "metadata": {},
   "source": [
    "### What is the distribution of inactivity by gender?"
   ]
  },
  {
   "cell_type": "code",
   "execution_count": 20,
   "id": "4a4ca2e7",
   "metadata": {},
   "outputs": [
    {
     "data": {
      "text/html": [
       "<div>\n",
       "<style scoped>\n",
       "    .dataframe tbody tr th:only-of-type {\n",
       "        vertical-align: middle;\n",
       "    }\n",
       "\n",
       "    .dataframe tbody tr th {\n",
       "        vertical-align: top;\n",
       "    }\n",
       "\n",
       "    .dataframe thead th {\n",
       "        text-align: right;\n",
       "    }\n",
       "</style>\n",
       "<table border=\"1\" class=\"dataframe\">\n",
       "  <thead>\n",
       "    <tr style=\"text-align: right;\">\n",
       "      <th></th>\n",
       "      <th>count</th>\n",
       "      <th>mean</th>\n",
       "      <th>std</th>\n",
       "      <th>min</th>\n",
       "      <th>25%</th>\n",
       "      <th>50%</th>\n",
       "      <th>75%</th>\n",
       "      <th>max</th>\n",
       "    </tr>\n",
       "    <tr>\n",
       "      <th>gender</th>\n",
       "      <th></th>\n",
       "      <th></th>\n",
       "      <th></th>\n",
       "      <th></th>\n",
       "      <th></th>\n",
       "      <th></th>\n",
       "      <th></th>\n",
       "      <th></th>\n",
       "    </tr>\n",
       "  </thead>\n",
       "  <tbody>\n",
       "    <tr>\n",
       "      <th>F</th>\n",
       "      <td>5358.0</td>\n",
       "      <td>6.856579</td>\n",
       "      <td>3.407534</td>\n",
       "      <td>0.0</td>\n",
       "      <td>4.545455</td>\n",
       "      <td>6.521739</td>\n",
       "      <td>8.333333</td>\n",
       "      <td>31.250000</td>\n",
       "    </tr>\n",
       "    <tr>\n",
       "      <th>M</th>\n",
       "      <td>4769.0</td>\n",
       "      <td>6.864556</td>\n",
       "      <td>3.497467</td>\n",
       "      <td>0.0</td>\n",
       "      <td>4.444444</td>\n",
       "      <td>6.521739</td>\n",
       "      <td>8.333333</td>\n",
       "      <td>46.153846</td>\n",
       "    </tr>\n",
       "  </tbody>\n",
       "</table>\n",
       "</div>"
      ],
      "text/plain": [
       "         count      mean       std  min       25%       50%       75%  \\\n",
       "gender                                                                  \n",
       "F       5358.0  6.856579  3.407534  0.0  4.545455  6.521739  8.333333   \n",
       "M       4769.0  6.864556  3.497467  0.0  4.444444  6.521739  8.333333   \n",
       "\n",
       "              max  \n",
       "gender             \n",
       "F       31.250000  \n",
       "M       46.153846  "
      ]
     },
     "execution_count": 20,
     "metadata": {},
     "output_type": "execute_result"
    }
   ],
   "source": [
    "df_mastercopy.groupby('gender')['inactivity_rate'].describe()"
   ]
  },
  {
   "cell_type": "markdown",
   "id": "41cab63e",
   "metadata": {},
   "source": [
    "### What is the number of churned customers, grouped by age group?"
   ]
  },
  {
   "cell_type": "code",
   "execution_count": 21,
   "id": "0fa8441e",
   "metadata": {},
   "outputs": [
    {
     "data": {
      "text/plain": [
       "attrition_flag      \n",
       "Attrited Customer  F     930\n",
       "                   M     697\n",
       "Existing Customer  F    4428\n",
       "                   M    4072\n",
       "Name: gender, dtype: int64"
      ]
     },
     "execution_count": 21,
     "metadata": {},
     "output_type": "execute_result"
    }
   ],
   "source": [
    "df_gender = df_mastercopy.groupby('attrition_flag')['gender'].value_counts()\n",
    "df_gender.head(10)"
   ]
  },
  {
   "cell_type": "markdown",
   "id": "654664e7",
   "metadata": {},
   "source": [
    "### What is the proportion of churned customers by gender?"
   ]
  },
  {
   "cell_type": "code",
   "execution_count": 22,
   "id": "00bc32af",
   "metadata": {},
   "outputs": [
    {
     "data": {
      "image/png": "[encoded data removed]",
      "text/plain": [
       "<Figure size 432x288 with 1 Axes>"
      ]
     },
     "metadata": {
      "needs_background": "light"
     },
     "output_type": "display_data"
    }
   ],
   "source": [
    "\"\"\"create variable to order your data by its quantitative variables\"\"\"\n",
    "\n",
    "base_color = sb.color_palette()[2]\n",
    "gen_order = df_mastercopy.query(\"attrition_flag == 'Attrited Customer'\")['gender'].value_counts().index\n",
    "n_gen = df_mastercopy.query(\"attrition_flag == 'Attrited Customer'\")['gender'].value_counts().sum()\n",
    "gen_counts = df_mastercopy.query(\"attrition_flag == 'Attrited Customer'\")['gender'].value_counts()\n",
    "\n",
    "sb.countplot(data = df_mastercopy.query(\"attrition_flag == 'Attrited Customer'\"), y = 'gender', color = base_color, order = gen_order);\n",
    "\n",
    "for i in range(gen_counts.shape[0]):\n",
    "    count = gen_counts[i]\n",
    "    pct_string = '{:0.1f}%'.format(100*count/n_gen)\n",
    "    plt.text(count+1, i, pct_string, va = 'center');"
   ]
  },
  {
   "cell_type": "markdown",
   "id": "ca71a1f9",
   "metadata": {},
   "source": [
    "### What is the distribution of inactivity by income category?"
   ]
  },
  {
   "cell_type": "code",
   "execution_count": 23,
   "id": "bd98454b",
   "metadata": {},
   "outputs": [
    {
     "data": {
      "text/html": [
       "<div>\n",
       "<style scoped>\n",
       "    .dataframe tbody tr th:only-of-type {\n",
       "        vertical-align: middle;\n",
       "    }\n",
       "\n",
       "    .dataframe tbody tr th {\n",
       "        vertical-align: top;\n",
       "    }\n",
       "\n",
       "    .dataframe thead th {\n",
       "        text-align: right;\n",
       "    }\n",
       "</style>\n",
       "<table border=\"1\" class=\"dataframe\">\n",
       "  <thead>\n",
       "    <tr style=\"text-align: right;\">\n",
       "      <th></th>\n",
       "      <th>count</th>\n",
       "      <th>mean</th>\n",
       "      <th>std</th>\n",
       "      <th>min</th>\n",
       "      <th>25%</th>\n",
       "      <th>50%</th>\n",
       "      <th>75%</th>\n",
       "      <th>max</th>\n",
       "    </tr>\n",
       "    <tr>\n",
       "      <th>income_category</th>\n",
       "      <th></th>\n",
       "      <th></th>\n",
       "      <th></th>\n",
       "      <th></th>\n",
       "      <th></th>\n",
       "      <th></th>\n",
       "      <th></th>\n",
       "      <th></th>\n",
       "    </tr>\n",
       "  </thead>\n",
       "  <tbody>\n",
       "    <tr>\n",
       "      <th>$120K +</th>\n",
       "      <td>727.0</td>\n",
       "      <td>6.586232</td>\n",
       "      <td>3.042761</td>\n",
       "      <td>0.0</td>\n",
       "      <td>4.545455</td>\n",
       "      <td>6.250000</td>\n",
       "      <td>8.333333</td>\n",
       "      <td>23.076923</td>\n",
       "    </tr>\n",
       "    <tr>\n",
       "      <th>$40K - $60K</th>\n",
       "      <td>1790.0</td>\n",
       "      <td>6.752152</td>\n",
       "      <td>3.436023</td>\n",
       "      <td>0.0</td>\n",
       "      <td>4.166667</td>\n",
       "      <td>6.382979</td>\n",
       "      <td>8.333333</td>\n",
       "      <td>27.272727</td>\n",
       "    </tr>\n",
       "    <tr>\n",
       "      <th>$60K - $80K</th>\n",
       "      <td>1402.0</td>\n",
       "      <td>6.884368</td>\n",
       "      <td>3.419813</td>\n",
       "      <td>0.0</td>\n",
       "      <td>4.444444</td>\n",
       "      <td>6.666667</td>\n",
       "      <td>8.333333</td>\n",
       "      <td>31.250000</td>\n",
       "    </tr>\n",
       "    <tr>\n",
       "      <th>$80K - $120K</th>\n",
       "      <td>1535.0</td>\n",
       "      <td>6.723168</td>\n",
       "      <td>3.198018</td>\n",
       "      <td>0.0</td>\n",
       "      <td>4.444444</td>\n",
       "      <td>6.521739</td>\n",
       "      <td>8.333333</td>\n",
       "      <td>26.086957</td>\n",
       "    </tr>\n",
       "    <tr>\n",
       "      <th>Less than $40K</th>\n",
       "      <td>3561.0</td>\n",
       "      <td>6.955174</td>\n",
       "      <td>3.547513</td>\n",
       "      <td>0.0</td>\n",
       "      <td>4.651163</td>\n",
       "      <td>6.521739</td>\n",
       "      <td>8.333333</td>\n",
       "      <td>46.153846</td>\n",
       "    </tr>\n",
       "    <tr>\n",
       "      <th>Unknown</th>\n",
       "      <td>1112.0</td>\n",
       "      <td>7.069026</td>\n",
       "      <td>3.749705</td>\n",
       "      <td>0.0</td>\n",
       "      <td>4.545455</td>\n",
       "      <td>6.818182</td>\n",
       "      <td>8.571429</td>\n",
       "      <td>26.666667</td>\n",
       "    </tr>\n",
       "  </tbody>\n",
       "</table>\n",
       "</div>"
      ],
      "text/plain": [
       "                  count      mean       std  min       25%       50%  \\\n",
       "income_category                                                        \n",
       "$120K +           727.0  6.586232  3.042761  0.0  4.545455  6.250000   \n",
       "$40K - $60K      1790.0  6.752152  3.436023  0.0  4.166667  6.382979   \n",
       "$60K - $80K      1402.0  6.884368  3.419813  0.0  4.444444  6.666667   \n",
       "$80K - $120K     1535.0  6.723168  3.198018  0.0  4.444444  6.521739   \n",
       "Less than $40K   3561.0  6.955174  3.547513  0.0  4.651163  6.521739   \n",
       "Unknown          1112.0  7.069026  3.749705  0.0  4.545455  6.818182   \n",
       "\n",
       "                      75%        max  \n",
       "income_category                       \n",
       "$120K +          8.333333  23.076923  \n",
       "$40K - $60K      8.333333  27.272727  \n",
       "$60K - $80K      8.333333  31.250000  \n",
       "$80K - $120K     8.333333  26.086957  \n",
       "Less than $40K   8.333333  46.153846  \n",
       "Unknown          8.571429  26.666667  "
      ]
     },
     "metadata": {},
     "output_type": "display_data"
    }
   ],
   "source": [
    "display(df_mastercopy.groupby('income_category')['inactivity_rate'].describe())"
   ]
  },
  {
   "cell_type": "markdown",
   "id": "4c51bf8b",
   "metadata": {},
   "source": [
    "### What is the proportion of churned customers by income category?"
   ]
  },
  {
   "cell_type": "code",
   "execution_count": 24,
   "id": "38b4cbec",
   "metadata": {},
   "outputs": [
    {
     "data": {
      "image/png": "[encoded data removed]",
      "text/plain": [
       "<Figure size 432x288 with 1 Axes>"
      ]
     },
     "metadata": {
      "needs_background": "light"
     },
     "output_type": "display_data"
    }
   ],
   "source": [
    "\"\"\"create variable to order your data by its quantitative variables\"\"\"\n",
    "\n",
    "base_color = sb.color_palette()[2]\n",
    "ic_order = df_mastercopy.query(\"attrition_flag == 'Attrited Customer'\")['income_category'].value_counts().index\n",
    "n_ic = df_mastercopy.query(\"attrition_flag == 'Attrited Customer'\")['income_category'].value_counts().sum()\n",
    "ic_counts = df_mastercopy.query(\"attrition_flag == 'Attrited Customer'\")['income_category'].value_counts()\n",
    "\n",
    "sb.countplot(data = df_mastercopy.query(\"attrition_flag == 'Attrited Customer'\"), y = 'income_category', color = base_color, order = ic_order);\n",
    "\n",
    "for i in range(ic_counts.shape[0]):\n",
    "    count = ic_counts[i]\n",
    "    pct_string = '{:0.1f}%'.format(100*count/n_ic)\n",
    "    plt.text(count+1, i, pct_string, va = 'center');"
   ]
  },
  {
   "cell_type": "markdown",
   "id": "081aa26a",
   "metadata": {},
   "source": [
    "### What percentage of all customers are attrited customers?"
   ]
  },
  {
   "cell_type": "code",
   "execution_count": 25,
   "id": "32800e66",
   "metadata": {
    "scrolled": true
   },
   "outputs": [
    {
     "name": "stdout",
     "output_type": "stream",
     "text": [
      "1627\n"
     ]
    },
    {
     "data": {
      "text/plain": [
       "16.065962279055988"
      ]
     },
     "execution_count": 25,
     "metadata": {},
     "output_type": "execute_result"
    }
   ],
   "source": [
    "attrited_count = df_mastercopy['attrition_flag'].value_counts()['Attrited Customer']\n",
    "print(attrited_count)\n",
    "(attrited_count / df_mastercopy['attrition_flag'].count()) * 100"
   ]
  },
  {
   "cell_type": "markdown",
   "id": "7bde97f5",
   "metadata": {},
   "source": [
    "## 1.1 Summary of Findings\n",
    "\n",
    "Out of 10,127 customers, about 16% (1627) are attrited customers. An acceptable annual churn rate in this industry ranges from 5 - 7%.\n",
    "\n",
    "- `Marital Status`\n",
    "    - Inactiviy: Standard deviation across all categories is low, meaning all data points stay relatively close to the mean churn rate of 6.89.\n",
    "    - Churn: About 44% of all churned customers are Married, the largest contributing category of churned customers. The lowest contributing category are Divorced customers (7.4%).\n",
    "- `Age Group`\n",
    "    - Inactivity: the mean across all age groups has some variability. A deep dive identified 334 oultiers (based on inactivity rate), with 165 (about 45%) from the 30 - 40 age group. \n",
    "    - Churn: 48 % of all churned customers are from the 40 - 50 year age group.\n",
    "- `Gender`\n",
    "    - Inactivity: The standard devation is low, meaning most data points center around the mean. inactive rates are stable across both genders.\n",
    "    - Churn: 57.2% of all churned customers are female \n",
    "- `Income Category`\n",
    "    - Inactivity: About 35% (3,561) customers were in the less than 40K income category.\n",
    "    - Churn: This same category makes up 38% of all churned customers, making it the highest contributing category."
   ]
  },
  {
   "cell_type": "markdown",
   "id": "fa2440ae",
   "metadata": {},
   "source": [
    "## 1.2 Outlier Detection\n",
    "\n",
    "#### Goal: Identify variables with outliers and offer suggestions on how to handle them.\n",
    "Recommendations are placed after each comparison. "
   ]
  },
  {
   "cell_type": "markdown",
   "id": "104aba19",
   "metadata": {},
   "source": [
    "### What is the distribution of total transaction amounts by marital status?"
   ]
  },
  {
   "cell_type": "code",
   "execution_count": 26,
   "id": "b400fd21",
   "metadata": {},
   "outputs": [],
   "source": [
    "rcParams['figure.figsize'] = 8,12"
   ]
  },
  {
   "cell_type": "code",
   "execution_count": 27,
   "id": "3d3dcb6d",
   "metadata": {},
   "outputs": [
    {
     "data": {
      "image/png": "[encoded data removed]",
      "text/plain": [
       "<Figure size 576x864 with 1 Axes>"
      ]
     },
     "metadata": {
      "needs_background": "light"
     },
     "output_type": "display_data"
    }
   ],
   "source": [
    "basecolor = sb.color_palette()[6]\n",
    "sb.boxplot(data=df_mastercopy, y='marital_status', x='total_trans_ct',\n",
    "             color = basecolor);"
   ]
  },
  {
   "cell_type": "code",
   "execution_count": 28,
   "id": "2b1e1555",
   "metadata": {},
   "outputs": [
    {
     "data": {
      "text/plain": [
       "count    10127.000000\n",
       "mean        64.858695\n",
       "std         23.472570\n",
       "min         10.000000\n",
       "25%         45.000000\n",
       "50%         67.000000\n",
       "75%         81.000000\n",
       "max        139.000000\n",
       "Name: total_trans_ct, dtype: float64"
      ]
     },
     "execution_count": 28,
     "metadata": {},
     "output_type": "execute_result"
    }
   ],
   "source": [
    "df_mastercopy['total_trans_ct'].describe()"
   ]
  },
  {
   "cell_type": "code",
   "execution_count": 29,
   "id": "817892e1",
   "metadata": {},
   "outputs": [
    {
     "name": "stdout",
     "output_type": "stream",
     "text": [
      "431\n"
     ]
    }
   ],
   "source": [
    "upper = 64.9 + 23.5 * 2\n",
    "lower = 64.9 - 23.5 * 2\n",
    "outlier_trans = df_mastercopy.query(\"total_trans_ct < @lower | total_trans_ct > @upper\").value_counts().sum()\n",
    "print(outlier_trans)"
   ]
  },
  {
   "cell_type": "markdown",
   "id": "a39e7d1e",
   "metadata": {},
   "source": [
    "### Recommendations\n",
    "\n",
    "- 431 outliers appear to be focused on the Single marital status age group, possibly affecting the mean. I would remove them in order to have a more accurate representation of the spread of data for this category."
   ]
  },
  {
   "cell_type": "markdown",
   "id": "76979422",
   "metadata": {},
   "source": [
    "### What is the distribution of total relationship counts by age group?"
   ]
  },
  {
   "cell_type": "code",
   "execution_count": 30,
   "id": "6b1e86cf",
   "metadata": {},
   "outputs": [
    {
     "data": {
      "image/png": "[encoded data removed]",
      "text/plain": [
       "<Figure size 576x864 with 1 Axes>"
      ]
     },
     "metadata": {
      "needs_background": "light"
     },
     "output_type": "display_data"
    }
   ],
   "source": [
    "basecolor = sb.color_palette()[6]\n",
    "sb.boxplot(data=df_mastercopy, y='age_group', x='total_relationship_count',\n",
    "             color = basecolor);"
   ]
  },
  {
   "cell_type": "code",
   "execution_count": 31,
   "id": "bfed1ee2",
   "metadata": {},
   "outputs": [
    {
     "data": {
      "text/plain": [
       "count    10127.000000\n",
       "mean         3.812580\n",
       "std          1.554408\n",
       "min          1.000000\n",
       "25%          3.000000\n",
       "50%          4.000000\n",
       "75%          5.000000\n",
       "max          6.000000\n",
       "Name: total_relationship_count, dtype: float64"
      ]
     },
     "execution_count": 31,
     "metadata": {},
     "output_type": "execute_result"
    }
   ],
   "source": [
    "df_mastercopy['total_relationship_count'].describe()"
   ]
  },
  {
   "cell_type": "markdown",
   "id": "ef113a07",
   "metadata": {},
   "source": [
    "### Recommendations\n",
    "\n",
    "- No outliers detected"
   ]
  },
  {
   "cell_type": "markdown",
   "id": "00539334",
   "metadata": {},
   "source": [
    "### What is the distribution of total transaction amounts by income category?"
   ]
  },
  {
   "cell_type": "code",
   "execution_count": 32,
   "id": "fe2983ef",
   "metadata": {},
   "outputs": [
    {
     "data": {
      "image/png": "[encoded data removed]",
      "text/plain": [
       "<Figure size 576x864 with 1 Axes>"
      ]
     },
     "metadata": {
      "needs_background": "light"
     },
     "output_type": "display_data"
    }
   ],
   "source": [
    "basecolor = sb.color_palette()[6]\n",
    "sb.boxplot(data=df_mastercopy, y='income_category', x='total_trans_amt',\n",
    "             color = basecolor);"
   ]
  },
  {
   "cell_type": "code",
   "execution_count": 33,
   "id": "f66348a1",
   "metadata": {},
   "outputs": [
    {
     "data": {
      "text/plain": [
       "count    10127.000000\n",
       "mean      4404.086304\n",
       "std       3397.129254\n",
       "min        510.000000\n",
       "25%       2155.500000\n",
       "50%       3899.000000\n",
       "75%       4741.000000\n",
       "max      18484.000000\n",
       "Name: total_trans_amt, dtype: float64"
      ]
     },
     "execution_count": 33,
     "metadata": {},
     "output_type": "execute_result"
    }
   ],
   "source": [
    "df_mastercopy['total_trans_amt'].describe()"
   ]
  },
  {
   "cell_type": "code",
   "execution_count": 34,
   "id": "8577a929",
   "metadata": {},
   "outputs": [
    {
     "name": "stdout",
     "output_type": "stream",
     "text": [
      "747\n"
     ]
    }
   ],
   "source": [
    "# use the mean and stdv to identity the number of outliers\n",
    "upper = 4404.1 + 3397.12 * 2\n",
    "lower = 4404.1 - 3397.12 * 2\n",
    "outlier_sum_trans = df_mastercopy.query(\"total_trans_amt < @lower | total_trans_amt > @upper\").value_counts().sum()\n",
    "print(outlier_sum_trans)"
   ]
  },
  {
   "cell_type": "markdown",
   "id": "00c12ac5",
   "metadata": {},
   "source": [
    "### Recomendations\n",
    "\n",
    "- There are 747 outliers distributed across all income categories. With a high standard deviation, I would not remove outliers based on these variables."
   ]
  },
  {
   "cell_type": "markdown",
   "id": "fdbc02e9",
   "metadata": {},
   "source": [
    "### What is the distribution of the change in transaction amounts by gender?"
   ]
  },
  {
   "cell_type": "code",
   "execution_count": 35,
   "id": "ba23cd94",
   "metadata": {},
   "outputs": [
    {
     "data": {
      "image/png": "[encoded data removed]",
      "text/plain": [
       "<Figure size 576x864 with 1 Axes>"
      ]
     },
     "metadata": {
      "needs_background": "light"
     },
     "output_type": "display_data"
    }
   ],
   "source": [
    "basecolor = sb.color_palette()[6]\n",
    "sb.boxplot(data=df_mastercopy, y='gender', x='total_amt_chng_q4_q1',\n",
    "             color = basecolor);"
   ]
  },
  {
   "cell_type": "code",
   "execution_count": 36,
   "id": "d4204748",
   "metadata": {},
   "outputs": [
    {
     "data": {
      "text/plain": [
       "count    10127.000000\n",
       "mean         0.759941\n",
       "std          0.219207\n",
       "min          0.000000\n",
       "25%          0.631000\n",
       "50%          0.736000\n",
       "75%          0.859000\n",
       "max          3.397000\n",
       "Name: total_amt_chng_q4_q1, dtype: float64"
      ]
     },
     "execution_count": 36,
     "metadata": {},
     "output_type": "execute_result"
    }
   ],
   "source": [
    "df_mastercopy['total_amt_chng_q4_q1'].describe()"
   ]
  },
  {
   "cell_type": "code",
   "execution_count": 37,
   "id": "270c4bf8",
   "metadata": {},
   "outputs": [
    {
     "name": "stdout",
     "output_type": "stream",
     "text": [
      "427\n"
     ]
    }
   ],
   "source": [
    "# use the mean and stdv to identity the number of outliers\n",
    "upper = 0.76 + 0.22 * 2\n",
    "lower = 0.76 - 0.22 * 2\n",
    "outlier_sum_trans = df_mastercopy.query(\"total_amt_chng_q4_q1 < @lower | total_amt_chng_q4_q1 > @upper\").value_counts().sum()\n",
    "print(outlier_sum_trans)"
   ]
  },
  {
   "cell_type": "markdown",
   "id": "42089d78",
   "metadata": {},
   "source": [
    "### Recommendations\n",
    "\n",
    "- with a low standard deviation, I would recommend removing outliers based on the `total_amt_chng_2q-q1` variable."
   ]
  },
  {
   "cell_type": "markdown",
   "id": "75626c28",
   "metadata": {},
   "source": [
    "# 2. DATA CLEANING\n",
    "### Completed in the *Data Wrangling* Step\n",
    "\n",
    "# 3. Distribution Analysis\n",
    "Goal: Identify specific variables that may be impacting this company."
   ]
  },
  {
   "cell_type": "markdown",
   "id": "b66e68d9",
   "metadata": {},
   "source": [
    "### `Attrition_Flag`\n",
    "Internal event (customer activity) variable - if the client had churned (attrited) or not (existing)."
   ]
  },
  {
   "cell_type": "code",
   "execution_count": 38,
   "id": "704e0a6e",
   "metadata": {},
   "outputs": [],
   "source": [
    "rcParams['figure.figsize'] = 6,4"
   ]
  },
  {
   "cell_type": "code",
   "execution_count": 39,
   "id": "7287f50e",
   "metadata": {},
   "outputs": [
    {
     "data": {
      "image/png": "[encoded data removed]",
      "text/plain": [
       "<Figure size 432x288 with 1 Axes>"
      ]
     },
     "metadata": {
      "needs_background": "light"
     },
     "output_type": "display_data"
    }
   ],
   "source": [
    "\"\"\"create variable to order your data by its quantitative variables and include percentages\"\"\"\n",
    "\n",
    "base_color = sb.color_palette()[9]\n",
    "af_order = df_mastercopy['attrition_flag'].value_counts().index\n",
    "n_af = df_mastercopy['attrition_flag'].value_counts().sum()\n",
    "af_counts = df_mastercopy['attrition_flag'].value_counts()\n",
    "\n",
    "sb.countplot(data = df_mastercopy, y = 'attrition_flag',\n",
    "             color = base_color, order = af_order);\n",
    "\n",
    "for i in range(af_counts.shape[0]):\n",
    "    count = af_counts[i]\n",
    "    pct_string = '{:0.1f}%'.format(100*count/n_af)\n",
    "    plt.text(count+1, i, pct_string, va = 'center');"
   ]
  },
  {
   "cell_type": "markdown",
   "id": "0c916e7b",
   "metadata": {},
   "source": [
    "### `Dependent_Count`\n",
    "Demographic variable - Number of dependents"
   ]
  },
  {
   "cell_type": "code",
   "execution_count": 40,
   "id": "5dc9a002",
   "metadata": {},
   "outputs": [
    {
     "data": {
      "text/plain": [
       "count    10127.000000\n",
       "mean         2.346203\n",
       "std          1.298908\n",
       "min          0.000000\n",
       "25%          1.000000\n",
       "50%          2.000000\n",
       "75%          3.000000\n",
       "max          5.000000\n",
       "Name: dependent_count, dtype: float64"
      ]
     },
     "execution_count": 40,
     "metadata": {},
     "output_type": "execute_result"
    }
   ],
   "source": [
    "df_mastercopy['dependent_count'].describe()"
   ]
  },
  {
   "cell_type": "code",
   "execution_count": 41,
   "id": "d00f710d",
   "metadata": {},
   "outputs": [
    {
     "data": {
      "image/png": "[encoded data removed]",
      "text/plain": [
       "<Figure size 432x288 with 1 Axes>"
      ]
     },
     "metadata": {
      "needs_background": "light"
     },
     "output_type": "display_data"
    }
   ],
   "source": [
    "def plot_1(data, x, x_label, y_label):\n",
    "    \"\"\"Plotting histogram x vs y\"\"\"\n",
    "    # set up bin sizes\n",
    "    bins = np.arange(0,data[x].max()+1,1)\n",
    "    # plot your data\n",
    "    plt.hist(data = data, x = x, bins = bins, edgecolor = 'black');\n",
    "    plt.xlabel(x_label)\n",
    "    plt.ylabel(y_label);\n",
    "    \n",
    "plot_1(data = df_mastercopy, x = \"dependent_count\", x_label = \"Number of Dependants\", y_label = \"Number of Clients\")"
   ]
  },
  {
   "cell_type": "markdown",
   "id": "8c05dda5",
   "metadata": {},
   "source": [
    "### `Card_Category`\n",
    "Product Variable - Type of Card (Blue, Silver, Gold, Platinum)"
   ]
  },
  {
   "cell_type": "code",
   "execution_count": 42,
   "id": "84e50658",
   "metadata": {},
   "outputs": [
    {
     "data": {
      "image/png": "[encoded data removed]",
      "text/plain": [
       "<Figure size 432x288 with 1 Axes>"
      ]
     },
     "metadata": {
      "needs_background": "light"
     },
     "output_type": "display_data"
    }
   ],
   "source": [
    "base_color = sb.color_palette()[9]\n",
    "x_order = df_mastercopy['card_category'].value_counts().index\n",
    "n_x = df_mastercopy['card_category'].value_counts().sum()\n",
    "x_counts = df_mastercopy['card_category'].value_counts()\n",
    "\n",
    "sb.countplot(data = df_mastercopy, y = 'card_category',\n",
    "             color = base_color, order = x_order);\n",
    "\n",
    "for i in range(x_counts.shape[0]):\n",
    "    count = x_counts[i]\n",
    "    pct_string = '{:0.1f}%'.format(100*count/n_x)\n",
    "    plt.text(count+1, i, pct_string, va = 'center');"
   ]
  },
  {
   "cell_type": "markdown",
   "id": "462933f9",
   "metadata": {},
   "source": [
    "### `Months_on_Book`\n",
    "Period of relationship with the bank"
   ]
  },
  {
   "cell_type": "code",
   "execution_count": 43,
   "id": "988f333c",
   "metadata": {},
   "outputs": [
    {
     "data": {
      "text/plain": [
       "count    10127.000000\n",
       "mean        35.928409\n",
       "std          7.986416\n",
       "min         13.000000\n",
       "25%         31.000000\n",
       "50%         36.000000\n",
       "75%         40.000000\n",
       "max         56.000000\n",
       "Name: months_on_book, dtype: float64"
      ]
     },
     "execution_count": 43,
     "metadata": {},
     "output_type": "execute_result"
    }
   ],
   "source": [
    "df_mastercopy['months_on_book'].describe()"
   ]
  },
  {
   "cell_type": "code",
   "execution_count": 44,
   "id": "73404a6f",
   "metadata": {},
   "outputs": [
    {
     "data": {
      "image/png": "[encoded data removed]",
      "text/plain": [
       "<Figure size 432x288 with 1 Axes>"
      ]
     },
     "metadata": {
      "needs_background": "light"
     },
     "output_type": "display_data"
    }
   ],
   "source": [
    "bins = np.arange(0,df_mastercopy['months_on_book'].max()+13,5)\n",
    "plt.hist(data = df_mastercopy, x = 'months_on_book', bins = bins, edgecolor = 'black');\n",
    "plt.xlabel('# Months with the Bank')\n",
    "plt.ylabel('# Clients');"
   ]
  },
  {
   "cell_type": "markdown",
   "id": "8e69df36",
   "metadata": {},
   "source": [
    "### `Months_Inactive_12_Mon`\n",
    "No. of months inactive in the last 12 months"
   ]
  },
  {
   "cell_type": "code",
   "execution_count": 45,
   "id": "41b544a4",
   "metadata": {},
   "outputs": [
    {
     "data": {
      "image/png": "[encoded data removed]",
      "text/plain": [
       "<Figure size 432x288 with 1 Axes>"
      ]
     },
     "metadata": {
      "needs_background": "light"
     },
     "output_type": "display_data"
    }
   ],
   "source": [
    "plot_1(data = df_mastercopy, x = \"months_inactive_12_mon\", x_label = \"# Months Inactive\", y_label = \"# Clients\")"
   ]
  },
  {
   "cell_type": "markdown",
   "id": "bb516ddf",
   "metadata": {},
   "source": [
    "### `Contacts_Count_12_Mon`\n",
    "How often the client was contacted in the last 12 months"
   ]
  },
  {
   "cell_type": "code",
   "execution_count": 46,
   "id": "f866d2bf",
   "metadata": {},
   "outputs": [
    {
     "data": {
      "image/png": "[encoded data removed]",
      "text/plain": [
       "<Figure size 432x288 with 1 Axes>"
      ]
     },
     "metadata": {
      "needs_background": "light"
     },
     "output_type": "display_data"
    }
   ],
   "source": [
    "plot_1(data = df_mastercopy, x = \"contacts_count_12_mon\", x_label = \"# Times Contacted\", y_label = \"# Clients\")"
   ]
  },
  {
   "cell_type": "markdown",
   "id": "c5a0acba",
   "metadata": {},
   "source": [
    "### `Credit_Limit`\n",
    "Credit Limit on the Credit Card"
   ]
  },
  {
   "cell_type": "code",
   "execution_count": 47,
   "id": "f4c61faf",
   "metadata": {},
   "outputs": [
    {
     "data": {
      "text/plain": [
       "count    10127.000000\n",
       "mean      8631.953698\n",
       "std       9088.776650\n",
       "min       1438.300000\n",
       "25%       2555.000000\n",
       "50%       4549.000000\n",
       "75%      11067.500000\n",
       "max      34516.000000\n",
       "Name: credit_limit, dtype: float64"
      ]
     },
     "execution_count": 47,
     "metadata": {},
     "output_type": "execute_result"
    }
   ],
   "source": [
    "df_mastercopy['credit_limit'].describe()"
   ]
  },
  {
   "cell_type": "code",
   "execution_count": 48,
   "id": "12adec68",
   "metadata": {},
   "outputs": [
    {
     "data": {
      "image/png": "[encoded data removed]",
      "text/plain": [
       "<Figure size 432x288 with 1 Axes>"
      ]
     },
     "metadata": {
      "needs_background": "light"
     },
     "output_type": "display_data"
    }
   ],
   "source": [
    "def plot_2(data, x, x_label, y_label):\n",
    "    \"\"\"Plotting histogram x vs y\"\"\"\n",
    "    # set up bin sizes\n",
    "    bins = np.arange(0,data[x].max()+1500,5000)\n",
    "    # plot your data\n",
    "    plt.hist(data = data, x = x, bins = bins, edgecolor = 'black');\n",
    "    plt.xlabel(x_label)\n",
    "    plt.ylabel(y_label);\n",
    "\n",
    "plot_2(data = df_mastercopy, x = 'credit_limit', x_label = 'Credit Limit (USD)', y_label = \"# Clients\")"
   ]
  },
  {
   "cell_type": "markdown",
   "id": "c52d792d",
   "metadata": {},
   "source": [
    "### `Avg_Open_to_Buy`\n",
    "The amount of credit available to a borrower on a revolving credit account."
   ]
  },
  {
   "cell_type": "code",
   "execution_count": 49,
   "id": "c07f18f4",
   "metadata": {},
   "outputs": [
    {
     "data": {
      "text/plain": [
       "count    10127.000000\n",
       "mean      7469.139637\n",
       "std       9090.685324\n",
       "min          3.000000\n",
       "25%       1324.500000\n",
       "50%       3474.000000\n",
       "75%       9859.000000\n",
       "max      34516.000000\n",
       "Name: avg_open_to_buy, dtype: float64"
      ]
     },
     "execution_count": 49,
     "metadata": {},
     "output_type": "execute_result"
    }
   ],
   "source": [
    "df_mastercopy['avg_open_to_buy'].describe()"
   ]
  },
  {
   "cell_type": "code",
   "execution_count": 50,
   "id": "7532fccf",
   "metadata": {},
   "outputs": [
    {
     "data": {
      "image/png": "[encoded data removed]",
      "text/plain": [
       "<Figure size 432x288 with 1 Axes>"
      ]
     },
     "metadata": {
      "needs_background": "light"
     },
     "output_type": "display_data"
    }
   ],
   "source": [
    "plot_2(data = df_mastercopy, x = 'avg_open_to_buy', x_label = 'Average Open to Buy (Credit Line) in USD', y_label = \"# Clients\")"
   ]
  },
  {
   "cell_type": "markdown",
   "id": "3db27648",
   "metadata": {},
   "source": [
    "### `Avg_Utilization_Ratio`\n",
    "Average Card Utilization Ratio"
   ]
  },
  {
   "cell_type": "code",
   "execution_count": 51,
   "id": "37cf1cc6",
   "metadata": {},
   "outputs": [
    {
     "data": {
      "text/plain": [
       "count    10127.000000\n",
       "mean         0.274894\n",
       "std          0.275691\n",
       "min          0.000000\n",
       "25%          0.023000\n",
       "50%          0.176000\n",
       "75%          0.503000\n",
       "max          0.999000\n",
       "Name: avg_utilization_ratio, dtype: float64"
      ]
     },
     "execution_count": 51,
     "metadata": {},
     "output_type": "execute_result"
    }
   ],
   "source": [
    "df_mastercopy['avg_utilization_ratio'].describe()"
   ]
  },
  {
   "cell_type": "code",
   "execution_count": 52,
   "id": "adc1537b",
   "metadata": {},
   "outputs": [
    {
     "data": {
      "image/png": "[encoded data removed]",
      "text/plain": [
       "<Figure size 432x288 with 1 Axes>"
      ]
     },
     "metadata": {
      "needs_background": "light"
     },
     "output_type": "display_data"
    }
   ],
   "source": [
    "bins = np.arange(0,df_mastercopy['avg_utilization_ratio'].max()+0.1,0.1)\n",
    "plt.hist(data = df_mastercopy, x = 'avg_utilization_ratio', bins = bins, edgecolor = 'black');\n",
    "plt.xlabel('# Average Utilization Ratio')\n",
    "plt.ylabel('# Clients');"
   ]
  },
  {
   "cell_type": "markdown",
   "id": "cd33bbda",
   "metadata": {},
   "source": [
    "### `Age_Group`\n",
    "Demographic Variable - Customer's age in years.\n",
    "- 30 and Younger\n",
    "- 30-40\n",
    "- 40-50\n",
    "- 50-60\n",
    "- 60 and Older"
   ]
  },
  {
   "cell_type": "code",
   "execution_count": 53,
   "id": "889dbe27",
   "metadata": {},
   "outputs": [
    {
     "data": {
      "image/png": "[encoded data removed]",
      "text/plain": [
       "<Figure size 432x288 with 1 Axes>"
      ]
     },
     "metadata": {
      "needs_background": "light"
     },
     "output_type": "display_data"
    }
   ],
   "source": [
    "def count_plot(data, x, y):\n",
    "    base_color = sb.color_palette()[9]\n",
    "    x_order = data[x].value_counts().index\n",
    "    n_x = data[x].value_counts().sum()\n",
    "    x_counts = data[x].value_counts()\n",
    "\n",
    "    sb.countplot(data = data, y = y,\n",
    "                 color = base_color, order = x_order);\n",
    "\n",
    "    for i in range(x_counts.shape[0]):\n",
    "        count = x_counts[i]\n",
    "        pct_string = '{:0.1f}%'.format(100*count/n_x)\n",
    "        plt.text(count+1, i, pct_string, va = 'center')\n",
    "\n",
    "\n",
    "count_plot(df_mastercopy, 'age_group', 'age_group')"
   ]
  },
  {
   "cell_type": "markdown",
   "id": "ffa7badb",
   "metadata": {},
   "source": [
    "### `Gender`\n",
    " Demographic variable - M=Male, F=Female"
   ]
  },
  {
   "cell_type": "code",
   "execution_count": 54,
   "id": "6f94b20c",
   "metadata": {},
   "outputs": [
    {
     "data": {
      "image/png": "[encoded data removed]",
      "text/plain": [
       "<Figure size 432x288 with 1 Axes>"
      ]
     },
     "metadata": {
      "needs_background": "light"
     },
     "output_type": "display_data"
    }
   ],
   "source": [
    "count_plot(df_mastercopy, 'gender', 'gender')"
   ]
  },
  {
   "cell_type": "markdown",
   "id": "da293156",
   "metadata": {},
   "source": [
    "### `Education_Level`\n",
    "Demographic variable - Educational Qualification of the account holder (example: high school, college graduate, etc."
   ]
  },
  {
   "cell_type": "code",
   "execution_count": 55,
   "id": "0714a5bb",
   "metadata": {},
   "outputs": [
    {
     "data": {
      "image/png": "[encoded data removed]",
      "text/plain": [
       "<Figure size 432x288 with 1 Axes>"
      ]
     },
     "metadata": {
      "needs_background": "light"
     },
     "output_type": "display_data"
    }
   ],
   "source": [
    "count_plot(df_mastercopy, 'education_level', 'education_level')"
   ]
  },
  {
   "cell_type": "markdown",
   "id": "66b27017",
   "metadata": {},
   "source": [
    "### `Marital_Status`\n",
    "Demographic variable - Married, Single, Divorced, Unknown"
   ]
  },
  {
   "cell_type": "code",
   "execution_count": 56,
   "id": "729b1c62",
   "metadata": {},
   "outputs": [
    {
     "data": {
      "image/png": "[encoded data removed]",
      "text/plain": [
       "<Figure size 432x288 with 1 Axes>"
      ]
     },
     "metadata": {
      "needs_background": "light"
     },
     "output_type": "display_data"
    }
   ],
   "source": [
    "count_plot(df_mastercopy, 'marital_status', 'marital_status')"
   ]
  },
  {
   "cell_type": "markdown",
   "id": "c467255e",
   "metadata": {},
   "source": [
    "### `Income_Category`\n",
    "Demographic variable - Annual Income Category of the account holder (< 40K, 40K - 60K, 60K - 80K, 80K-120K, > 120K, Unknown)"
   ]
  },
  {
   "cell_type": "code",
   "execution_count": 57,
   "id": "f772aa64",
   "metadata": {},
   "outputs": [
    {
     "data": {
      "image/png": "[encoded data removed]",
      "text/plain": [
       "<Figure size 432x288 with 1 Axes>"
      ]
     },
     "metadata": {
      "needs_background": "light"
     },
     "output_type": "display_data"
    }
   ],
   "source": [
    "count_plot(df_mastercopy, 'income_category', 'income_category')"
   ]
  },
  {
   "cell_type": "markdown",
   "id": "eab01e78",
   "metadata": {},
   "source": [
    "### `Total_Relationship_Count`\n",
    "Total no. of products held by the customer"
   ]
  },
  {
   "cell_type": "code",
   "execution_count": 58,
   "id": "00d9521c",
   "metadata": {},
   "outputs": [
    {
     "data": {
      "image/png": "[encoded data removed]",
      "text/plain": [
       "<Figure size 432x288 with 1 Axes>"
      ]
     },
     "metadata": {
      "needs_background": "light"
     },
     "output_type": "display_data"
    }
   ],
   "source": [
    "plot_1(data = df_mastercopy, x = 'total_relationship_count', x_label = \"# Products Held by Customer\", y_label = \"# Clients\")"
   ]
  },
  {
   "cell_type": "markdown",
   "id": "20557e92",
   "metadata": {},
   "source": [
    "### `Total_Revolving_Bal`\n",
    "Total Revolving Balance on the Credit Card"
   ]
  },
  {
   "cell_type": "code",
   "execution_count": 59,
   "id": "c8bebb9b",
   "metadata": {},
   "outputs": [
    {
     "data": {
      "text/plain": [
       "count    10127.000000\n",
       "mean      1162.814061\n",
       "std        814.987335\n",
       "min          0.000000\n",
       "25%        359.000000\n",
       "50%       1276.000000\n",
       "75%       1784.000000\n",
       "max       2517.000000\n",
       "Name: total_revolving_bal, dtype: float64"
      ]
     },
     "execution_count": 59,
     "metadata": {},
     "output_type": "execute_result"
    }
   ],
   "source": [
    "df_mastercopy['total_revolving_bal'].describe()"
   ]
  },
  {
   "cell_type": "code",
   "execution_count": 60,
   "id": "5dfcc81a",
   "metadata": {},
   "outputs": [
    {
     "data": {
      "image/png": "[encoded data removed]",
      "text/plain": [
       "<Figure size 432x288 with 1 Axes>"
      ]
     },
     "metadata": {
      "needs_background": "light"
     },
     "output_type": "display_data"
    }
   ],
   "source": [
    "plt.hist(data = df_mastercopy, x = 'total_revolving_bal', bins = 10, edgecolor = 'black');\n",
    "plt.xlabel('Total Revolving Balance (USD)')\n",
    "plt.ylabel('# Clients');"
   ]
  },
  {
   "cell_type": "markdown",
   "id": "0d22381c",
   "metadata": {},
   "source": [
    "### `Total_Amt_Chng_Q4_Q1`\n",
    "Change in Transaction Amount (Q4 over Q1)"
   ]
  },
  {
   "cell_type": "code",
   "execution_count": 61,
   "id": "31fa1215",
   "metadata": {},
   "outputs": [
    {
     "data": {
      "text/plain": [
       "count    10127.000000\n",
       "mean         0.759941\n",
       "std          0.219207\n",
       "min          0.000000\n",
       "25%          0.631000\n",
       "50%          0.736000\n",
       "75%          0.859000\n",
       "max          3.397000\n",
       "Name: total_amt_chng_q4_q1, dtype: float64"
      ]
     },
     "execution_count": 61,
     "metadata": {},
     "output_type": "execute_result"
    }
   ],
   "source": [
    "df_mastercopy['total_amt_chng_q4_q1'].describe()"
   ]
  },
  {
   "cell_type": "code",
   "execution_count": 62,
   "id": "35d9548f",
   "metadata": {},
   "outputs": [
    {
     "data": {
      "image/png": "[encoded data removed]",
      "text/plain": [
       "<Figure size 432x288 with 1 Axes>"
      ]
     },
     "metadata": {
      "needs_background": "light"
     },
     "output_type": "display_data"
    }
   ],
   "source": [
    "bins = np.arange(0,df_mastercopy['total_amt_chng_q4_q1'].max()+0.1,0.1)\n",
    "plt.hist(data = df_mastercopy, x = 'total_amt_chng_q4_q1', bins = bins, edgecolor = 'black');\n",
    "plt.xlabel('Change in Transaction Amount')\n",
    "plt.ylabel('# Clients');"
   ]
  },
  {
   "cell_type": "markdown",
   "id": "68ff54be",
   "metadata": {},
   "source": [
    "### `Total_Trans_Amt`\n",
    "Total Transaction Amount (Last 12 months)"
   ]
  },
  {
   "cell_type": "code",
   "execution_count": 63,
   "id": "07d03695",
   "metadata": {},
   "outputs": [
    {
     "data": {
      "text/plain": [
       "count    10127.000000\n",
       "mean      4404.086304\n",
       "std       3397.129254\n",
       "min        510.000000\n",
       "25%       2155.500000\n",
       "50%       3899.000000\n",
       "75%       4741.000000\n",
       "max      18484.000000\n",
       "Name: total_trans_amt, dtype: float64"
      ]
     },
     "execution_count": 63,
     "metadata": {},
     "output_type": "execute_result"
    }
   ],
   "source": [
    "df_mastercopy['total_trans_amt'].describe()"
   ]
  },
  {
   "cell_type": "code",
   "execution_count": 64,
   "id": "5ac38950",
   "metadata": {},
   "outputs": [
    {
     "data": {
      "image/png": "[encoded data removed]",
      "text/plain": [
       "<Figure size 432x288 with 1 Axes>"
      ]
     },
     "metadata": {
      "needs_background": "light"
     },
     "output_type": "display_data"
    }
   ],
   "source": [
    "bins = np.arange(0,df_mastercopy['total_trans_amt'].max()+1000,2500)\n",
    "plt.hist(data = df_mastercopy, x = 'total_trans_amt', bins = bins, edgecolor = 'black');\n",
    "plt.xlabel('Total Transaction Amount (12 Months)')\n",
    "plt.ylabel('# Clients');"
   ]
  },
  {
   "cell_type": "markdown",
   "id": "0a8118d7",
   "metadata": {},
   "source": [
    "### `Total_Trans_Ct`\n",
    "Total Transaction Count (Last 12 months)"
   ]
  },
  {
   "cell_type": "code",
   "execution_count": 65,
   "id": "eee6bee5",
   "metadata": {},
   "outputs": [
    {
     "data": {
      "text/plain": [
       "count    10127.000000\n",
       "mean        64.858695\n",
       "std         23.472570\n",
       "min         10.000000\n",
       "25%         45.000000\n",
       "50%         67.000000\n",
       "75%         81.000000\n",
       "max        139.000000\n",
       "Name: total_trans_ct, dtype: float64"
      ]
     },
     "execution_count": 65,
     "metadata": {},
     "output_type": "execute_result"
    }
   ],
   "source": [
    "df_mastercopy['total_trans_ct'].describe()"
   ]
  },
  {
   "cell_type": "code",
   "execution_count": 66,
   "id": "33741300",
   "metadata": {},
   "outputs": [
    {
     "data": {
      "image/png": "[encoded data removed]",
      "text/plain": [
       "<Figure size 432x288 with 1 Axes>"
      ]
     },
     "metadata": {
      "needs_background": "light"
     },
     "output_type": "display_data"
    }
   ],
   "source": [
    "bins = np.arange(0,df_mastercopy['total_trans_ct'].max()+10,10)\n",
    "plt.hist(data = df_mastercopy, x = 'total_trans_ct', bins = bins, edgecolor = 'black');\n",
    "plt.xlabel('Total Transaction Count (12 Months)')\n",
    "plt.ylabel('# Clients');"
   ]
  },
  {
   "cell_type": "markdown",
   "id": "73c3d2bc",
   "metadata": {},
   "source": [
    "### `Total_Ct_Chng_Q4_Q1`\n",
    "Change in Transaction Count (Q4 over Q1)"
   ]
  },
  {
   "cell_type": "code",
   "execution_count": 67,
   "id": "89906244",
   "metadata": {},
   "outputs": [
    {
     "data": {
      "text/plain": [
       "count    10127.000000\n",
       "mean         0.712222\n",
       "std          0.238086\n",
       "min          0.000000\n",
       "25%          0.582000\n",
       "50%          0.702000\n",
       "75%          0.818000\n",
       "max          3.714000\n",
       "Name: total_ct_chng_q4_q1, dtype: float64"
      ]
     },
     "execution_count": 67,
     "metadata": {},
     "output_type": "execute_result"
    }
   ],
   "source": [
    "df_mastercopy['total_ct_chng_q4_q1'].describe()"
   ]
  },
  {
   "cell_type": "code",
   "execution_count": 68,
   "id": "69c0b45a",
   "metadata": {},
   "outputs": [
    {
     "data": {
      "image/png": "[encoded data removed]",
      "text/plain": [
       "<Figure size 432x288 with 1 Axes>"
      ]
     },
     "metadata": {
      "needs_background": "light"
     },
     "output_type": "display_data"
    }
   ],
   "source": [
    "bins = np.arange(0,df_mastercopy['total_ct_chng_q4_q1'].max(),0.25)\n",
    "plt.hist(data = df_mastercopy, x = 'total_ct_chng_q4_q1', bins = bins, edgecolor = 'black');\n",
    "plt.xlabel('Change in Transaction Count (Q4 over Q1)')\n",
    "plt.ylabel('# Clients');"
   ]
  },
  {
   "cell_type": "markdown",
   "id": "84b629e8",
   "metadata": {},
   "source": [
    "## DISTRIBUTION ANALYSIS\n",
    "### FINDINGS\n",
    "\n",
    "#### There are others, but here is what stood out to me the most:\n",
    "\n",
    "- **93 % of all customers have the Blue credit card. Making some demographic comparisons might shed some new insights on attrited customers.**\n",
    "- distribution of months on book is between 10 - 60 months, with most customers having been on book for 35 - 40 months.\n",
    "- months inactive 12 month - distribution leans towards 2-4 months, with the largest distribution at 4 months\n",
    "- credit limit - distribution indicates there are some noticeable outliers here! While most customers have 5000 credit limit, less than 1000 customers have as high as 35,000. The amount of available credit shows similar numbers.\n",
    "- credit utilization ratio has some outliers as well, the highest listed was 100%, but the peak of the distribution is at 10%. This distribution is right skewed, so the number of customers decreases as the utilization ratio increases.\n",
    "- **46 % of all customers are ages 40-50. Which peaks my interest for a number of reasons:**\n",
    "\t- **Is this because card benefits only appeal to this age group?**\n",
    "\t- **Is there a way to sell this product to the younger demographic?**\n",
    "\t- **ONLY 1% of all churned customers are of the 30 and Younger demographic, compared with the 40-50yr age group (48%). Perhaps appealing to this age group may improve churn rates.**\n",
    "- A total of 41% of all customers have had some higher education. I would like to compare demographic information and see if perhaps a student card offering would appeal to more customers of a younger demographic. \n",
    "- **Income category also peaked my interest as well. 38% of all churned customers are in the less than 40K income category, and this same category makes up 37% of all customers.** \n",
    "- **The distribution of the number of products held by each customer also yielded some unexpected results. It is left-skewed, meaning the number of clients increases as the number of the products increases. The highest peak is at 5!**"
   ]
  },
  {
   "cell_type": "markdown",
   "id": "b5e822f8",
   "metadata": {},
   "source": [
    "# 4. Cross-Correlation Analysis\n",
    "Each Question/Statement and Observation will be followed by a summary of findings"
   ]
  },
  {
   "cell_type": "markdown",
   "id": "156b4f81",
   "metadata": {},
   "source": [
    "### What can we learn from a correlation heatmap?"
   ]
  },
  {
   "cell_type": "code",
   "execution_count": 69,
   "id": "af81b029",
   "metadata": {},
   "outputs": [],
   "source": [
    "churn_stats = ['customer_age', 'credit_limit', 'avg_open_to_buy', 'avg_utilization_ratio', \n",
    "               'total_relationship_count', 'total_trans_ct', 'total_trans_amt']"
   ]
  },
  {
   "cell_type": "code",
   "execution_count": 70,
   "id": "e357338f",
   "metadata": {},
   "outputs": [
    {
     "data": {
      "image/png": "[encoded data removed]",
      "text/plain": [
       "<Figure size 432x288 with 2 Axes>"
      ]
     },
     "metadata": {
      "needs_background": "light"
     },
     "output_type": "display_data"
    }
   ],
   "source": [
    "# use our churn_stats variable for the heatmap. reverse coloring using `cmap`,\n",
    "# and add labels in decimal format up to two places\n",
    "\n",
    "sb.heatmap(df_mastercopy[churn_stats].corr(), cmap = 'rocket_r', annot = True,\n",
    "          fmt = '.2f', vmin = 0);"
   ]
  },
  {
   "cell_type": "code",
   "execution_count": 71,
   "id": "cb410322",
   "metadata": {},
   "outputs": [
    {
     "data": {
      "image/png": "[encoded data removed]",
      "text/plain": [
       "<Figure size 1260x1260 with 56 Axes>"
      ]
     },
     "metadata": {
      "needs_background": "light"
     },
     "output_type": "display_data"
    }
   ],
   "source": [
    "g = sb.PairGrid(data = df_mastercopy, vars = churn_stats);\n",
    "\n",
    "# use a scatter plot for numerical data on the off diagonals for reasons below\n",
    "g.map_offdiag(plt.scatter);\n",
    "\n",
    "# the diagonals for a scatterplot will be a straght line, since the column and row variable will be the same.\n",
    "# lets change the chart type for these only.\n",
    "g.map_diag(plt.hist);"
   ]
  },
  {
   "cell_type": "markdown",
   "id": "45668c58",
   "metadata": {},
   "source": [
    "### FINDINGS\n",
    "\n",
    "- A strong correlation between total transaction counts and total transaction amounts.\n",
    "- Another strong correlation between average open to buy and credit limit\n",
    "- Interesting insights from the facet grid include:\n",
    "    - Although there is no correlation, the credit limit vs total transaction amount indicate the highest density of data points under 5000 USD, across all credit limits.\n",
    "    - I also noticed the total transaction amount vs customer age comparison showed the highest density under the 5000 USD range, across all age groups. After age 60 there are much fewer data points."
   ]
  },
  {
   "cell_type": "markdown",
   "id": "9646eb98",
   "metadata": {},
   "source": [
    "### Transaction Amount Vs Transaction Count Comparison\n",
    "Quantitative Vs Quantitative"
   ]
  },
  {
   "cell_type": "code",
   "execution_count": 72,
   "id": "12a281c4",
   "metadata": {},
   "outputs": [],
   "source": [
    "rcParams['figure.figsize'] = 16,8"
   ]
  },
  {
   "cell_type": "code",
   "execution_count": 73,
   "id": "137d3d22",
   "metadata": {},
   "outputs": [
    {
     "data": {
      "text/html": [
       "<div>\n",
       "<style scoped>\n",
       "    .dataframe tbody tr th:only-of-type {\n",
       "        vertical-align: middle;\n",
       "    }\n",
       "\n",
       "    .dataframe tbody tr th {\n",
       "        vertical-align: top;\n",
       "    }\n",
       "\n",
       "    .dataframe thead th {\n",
       "        text-align: right;\n",
       "    }\n",
       "</style>\n",
       "<table border=\"1\" class=\"dataframe\">\n",
       "  <thead>\n",
       "    <tr style=\"text-align: right;\">\n",
       "      <th></th>\n",
       "      <th>total_trans_amt</th>\n",
       "      <th>total_trans_ct</th>\n",
       "    </tr>\n",
       "  </thead>\n",
       "  <tbody>\n",
       "    <tr>\n",
       "      <th>count</th>\n",
       "      <td>10127.000000</td>\n",
       "      <td>10127.000000</td>\n",
       "    </tr>\n",
       "    <tr>\n",
       "      <th>mean</th>\n",
       "      <td>4404.086304</td>\n",
       "      <td>64.858695</td>\n",
       "    </tr>\n",
       "    <tr>\n",
       "      <th>std</th>\n",
       "      <td>3397.129254</td>\n",
       "      <td>23.472570</td>\n",
       "    </tr>\n",
       "    <tr>\n",
       "      <th>min</th>\n",
       "      <td>510.000000</td>\n",
       "      <td>10.000000</td>\n",
       "    </tr>\n",
       "    <tr>\n",
       "      <th>25%</th>\n",
       "      <td>2155.500000</td>\n",
       "      <td>45.000000</td>\n",
       "    </tr>\n",
       "    <tr>\n",
       "      <th>50%</th>\n",
       "      <td>3899.000000</td>\n",
       "      <td>67.000000</td>\n",
       "    </tr>\n",
       "    <tr>\n",
       "      <th>75%</th>\n",
       "      <td>4741.000000</td>\n",
       "      <td>81.000000</td>\n",
       "    </tr>\n",
       "    <tr>\n",
       "      <th>max</th>\n",
       "      <td>18484.000000</td>\n",
       "      <td>139.000000</td>\n",
       "    </tr>\n",
       "  </tbody>\n",
       "</table>\n",
       "</div>"
      ],
      "text/plain": [
       "       total_trans_amt  total_trans_ct\n",
       "count     10127.000000    10127.000000\n",
       "mean       4404.086304       64.858695\n",
       "std        3397.129254       23.472570\n",
       "min         510.000000       10.000000\n",
       "25%        2155.500000       45.000000\n",
       "50%        3899.000000       67.000000\n",
       "75%        4741.000000       81.000000\n",
       "max       18484.000000      139.000000"
      ]
     },
     "execution_count": 73,
     "metadata": {},
     "output_type": "execute_result"
    }
   ],
   "source": [
    "df_mastercopy[['total_trans_amt','total_trans_ct']].describe()"
   ]
  },
  {
   "cell_type": "code",
   "execution_count": 74,
   "id": "c1b94978",
   "metadata": {},
   "outputs": [
    {
     "data": {
      "image/png": "[encoded data removed]",
      "text/plain": [
       "<Figure size 1152x576 with 2 Axes>"
      ]
     },
     "metadata": {
      "needs_background": "light"
     },
     "output_type": "display_data"
    }
   ],
   "source": [
    "# set up bins for the heatmap\n",
    "bins_x = np.arange(0,df_mastercopy['total_trans_amt'].max()+1000,2000)\n",
    "bins_y = np.arange(0,df_mastercopy['total_trans_ct'].max()+10,10)\n",
    "\n",
    "# create a heatmap - set the zero value as white to remove unnecessary coloring `cmin`, and reverse the color mapping\n",
    "# to indicate higher values as darker `cmap`.\n",
    "plt.hist2d(data = df_mastercopy, x = 'total_trans_amt', y = 'total_trans_ct', cmin = 0.5,\n",
    "          cmap = 'viridis_r', bins = [bins_x, bins_y]);\n",
    "\n",
    "#place the colorbar on the chart\n",
    "plt.colorbar(label='# of Customers')\n",
    "\n",
    "# add labels to each axis for clarity\n",
    "plt.title(\"Transaction Comparison\")\n",
    "plt.xlabel('Transaction Amount (USD)')\n",
    "plt.ylabel('Transaction Count');"
   ]
  },
  {
   "cell_type": "markdown",
   "id": "613658bd",
   "metadata": {},
   "source": [
    "### FINDINGS\n",
    "\n",
    "- The highest density of customers (1200+) made a total of 80 transactions totaling 6000 USD.\n",
    "- There is a concentration of customers (500-800) around the 20-80 transaction counts, with total transaction amounts ranging from 2K - 6K USD.\n",
    "- Less than 200 customers have total transaction amounts that exceed 6000 USD. For these customers the total transaction counts are higher as well."
   ]
  },
  {
   "cell_type": "markdown",
   "id": "54273b7d",
   "metadata": {},
   "source": [
    "# 5. Raising Data Questions\n",
    "\n",
    "Each question and observation will be followed by a summary of findings:"
   ]
  },
  {
   "cell_type": "markdown",
   "id": "81bf28f6",
   "metadata": {},
   "source": [
    "### Q1. Is there a Difference in Transaction Counts by Age Groups for CHURNED and EXISTING CUSTOMERS?\n",
    "2 Quantitative vs 1 Qualitative"
   ]
  },
  {
   "cell_type": "code",
   "execution_count": 75,
   "id": "4d7e8034",
   "metadata": {},
   "outputs": [
    {
     "data": {
      "image/png": "[encoded data removed]",
      "text/plain": [
       "<Figure size 1152x576 with 1 Axes>"
      ]
     },
     "metadata": {
      "needs_background": "light"
     },
     "output_type": "display_data"
    },
    {
     "data": {
      "text/plain": [
       "<Figure size 1152x576 with 0 Axes>"
      ]
     },
     "metadata": {},
     "output_type": "display_data"
    }
   ],
   "source": [
    "# you can also create a pointplot:\n",
    "sb.barplot(data=df_mastercopy, x='attrition_flag', y='total_trans_ct', hue = 'age_group',\n",
    "             ci = 'sd')\n",
    "            \n",
    "# add labels to each axis for clarity\n",
    "plt.xlabel('Attrition Status');\n",
    "plt.ylabel('Number of Transactions');\n",
    "\n",
    "plt.figure(figsize=(16,8));\n"
   ]
  },
  {
   "cell_type": "markdown",
   "id": "1f9ac15a",
   "metadata": {},
   "source": [
    "### FINDINGS\n",
    "\n",
    "- Transaction counts do not exceed more than 50 for all attrited customers, across all age groups.\n",
    "- For existing Customers, the 40 - 50 age group makes the most transactions compared with all other age groups."
   ]
  },
  {
   "cell_type": "markdown",
   "id": "5f254053",
   "metadata": {},
   "source": [
    "### Q2. About 93% of all customers have the Blue Card. What is the distribution of blue card holders across age groups and gender?"
   ]
  },
  {
   "cell_type": "code",
   "execution_count": 76,
   "id": "e301577a",
   "metadata": {},
   "outputs": [
    {
     "data": {
      "image/png": "[encoded data removed]",
      "text/plain": [
       "<Figure size 1152x576 with 1 Axes>"
      ]
     },
     "metadata": {
      "needs_background": "light"
     },
     "output_type": "display_data"
    }
   ],
   "source": [
    "# Filter for blue card category holders\n",
    "df_blue = df_mastercopy[df_mastercopy['card_category'] == 'Blue']\n",
    "\n",
    "# Group by gender\n",
    "grouped_gender_age = df_blue.groupby(['gender', 'age_group'])['clientnum'].count().reset_index()\n",
    "\n",
    "# Plot bar chart with the total number of blue card category holders for each gender\n",
    "sb.barplot(x=grouped_gender_age['gender'], y=grouped_gender_age['clientnum'], \n",
    "           hue=grouped_gender_age['age_group'])\n",
    "\n",
    "# Add labels to the x and y axis for clarity\n",
    "plt.xlabel('Gender')\n",
    "plt.ylabel('Number of Blue Card Category Holders');"
   ]
  },
  {
   "cell_type": "markdown",
   "id": "a34cff95",
   "metadata": {},
   "source": [
    "#### FINDINGS\n",
    "\n",
    "- The 40-50 age group make up most of the blue card holders for both genders.\n",
    "- The 30 and younger age group has the fewest blue card holders.\n",
    "- There are more female blue card holders than male blue card holders."
   ]
  },
  {
   "cell_type": "markdown",
   "id": "b407d31b",
   "metadata": {},
   "source": [
    "### Q3. What is the proportion of all customers by age group, and how does that compare with churned customers?"
   ]
  },
  {
   "cell_type": "code",
   "execution_count": 78,
   "id": "540f1d05",
   "metadata": {},
   "outputs": [
    {
     "data": {
      "image/png": "[encoded data removed]",
      "text/plain": [
       "<Figure size 1152x576 with 1 Axes>"
      ]
     },
     "metadata": {
      "needs_background": "light"
     },
     "output_type": "display_data"
    }
   ],
   "source": [
    "# create a grouped df for your pointplot\n",
    "grouped_gender_age = df_mastercopy.groupby(['gender','age_group'])['clientnum'].count().reset_index()\n",
    "\n",
    "# pointplot\n",
    "sb.barplot(data=grouped_gender_age, x=grouped_gender_age['age_group'], y=grouped_gender_age['clientnum'], hue = 'gender')\n",
    "             \n",
    "# add labels to each axis for clarity\n",
    "plt.xlabel('Age Group')\n",
    "plt.ylabel('Number of Customers');"
   ]
  },
  {
   "cell_type": "code",
   "execution_count": 88,
   "id": "ab4b2321-16cb-42e3-884b-394844806cd6",
   "metadata": {},
   "outputs": [
    {
     "data": {
      "image/png": "[encoded data removed]",
      "text/plain": [
       "<Figure size 1152x576 with 1 Axes>"
      ]
     },
     "metadata": {
      "needs_background": "light"
     },
     "output_type": "display_data"
    }
   ],
   "source": [
    "# create a grouped df for your pointplot\n",
    "grouped_gender_age = df_mastercopy.query(\"attrition_flag == 'Attrited Customer'\").groupby(['gender','age_group'])['clientnum'].count().reset_index()\n",
    "\n",
    "# pointplot\n",
    "sb.barplot(data=grouped_gender_age, x=grouped_gender_age['age_group'], y=grouped_gender_age['clientnum'], hue = 'gender')\n",
    "             \n",
    "# add labels to each axis for clarity\n",
    "plt.xlabel('Age Group')\n",
    "plt.ylabel('Number of Customers');"
   ]
  },
  {
   "cell_type": "markdown",
   "id": "2f9be4e7",
   "metadata": {},
   "source": [
    "#### FINDINGS\n",
    "\n",
    "- The 30 and younger demographic has the fewest number of customers, less than 200.\n",
    "- The 40-50 year age group is the largest demographic of customers for both genders. It's also the largest demographic of churned customers."
   ]
  },
  {
   "cell_type": "markdown",
   "id": "833a4aac",
   "metadata": {},
   "source": [
    "### Q4. What is the distribution of card types by education level across all customers, and how does that compare with churned customers?"
   ]
  },
  {
   "cell_type": "code",
   "execution_count": 84,
   "id": "382b0e2f",
   "metadata": {},
   "outputs": [
    {
     "data": {
      "image/png": "[encoded data removed]",
      "text/plain": [
       "<Figure size 1152x576 with 1 Axes>"
      ]
     },
     "metadata": {
      "needs_background": "light"
     },
     "output_type": "display_data"
    }
   ],
   "source": [
    "#compare heatmap to clustered bar chart, with color differentiation using the trans_type column\n",
    "sb.countplot(data = df_mastercopy, x = 'education_level', hue = 'card_category');"
   ]
  },
  {
   "cell_type": "code",
   "execution_count": 85,
   "id": "f6e55539-6639-437a-b7b4-d34688ebc9a0",
   "metadata": {},
   "outputs": [
    {
     "data": {
      "image/png": "[encoded data removed]",
      "text/plain": [
       "<Figure size 1152x576 with 1 Axes>"
      ]
     },
     "metadata": {
      "needs_background": "light"
     },
     "output_type": "display_data"
    }
   ],
   "source": [
    "# new df for attrited customers only\n",
    "grouped_gender_age = df_mastercopy.query(\"attrition_flag == 'Attrited Customer'\")\n",
    "\n",
    "# create plot\n",
    "sb.countplot(data = grouped_gender_age, x = 'education_level', hue = 'card_category');"
   ]
  },
  {
   "cell_type": "markdown",
   "id": "5a1cf2b6",
   "metadata": {},
   "source": [
    "#### FINDINGS\n",
    "\n",
    "- Most Blue card holders are in the Graduate demographic.\n",
    "- The second highest number of blue card holders are of the High School education level.\n",
    "- Both categories hold the same ranking in churned customers."
   ]
  },
  {
   "cell_type": "markdown",
   "id": "6d9b220c",
   "metadata": {},
   "source": [
    "## DATA QUESTIONS *SUMMARY*"
   ]
  },
  {
   "cell_type": "markdown",
   "id": "64c3c685-acd2-434d-b0c9-2aecb55a40ad",
   "metadata": {},
   "source": [
    "`Is there a Difference in Transaction Counts by Age Groups for CHURNED and EXISTING CUSTOMERS?`\n",
    "> **YES:**\n",
    "- Transaction counts do not exceed more than 50 for all attrited customers, across all age groups.\n",
    "- For existing Customers, the 40 - 50 age group makes the most transactions compared with all other age groups.\n",
    "\n",
    "`About 93% of all customers have the Blue Card. What is the distribution of blue card holders across age groups and gender?`\n",
    "> **The 40-50 age group make up most of the blue card holders for both genders.**\n",
    "> **The 30 and younger age group has the fewest blue card holders.**\n",
    "> **There are more female blue card holders than male blue card holders.**\n",
    "\n",
    "`What is the proportion of all customers by age group, and how does that compare with churned customers?`\n",
    "> **The 40-50 demographic make up almost 50% of all customers, and the 30 and Younger demographic makes up the smallest proportion of customers.**\n",
    "> **All demographics across all age groups hold the same rankings in the churned customer category.**\n",
    "\n",
    "`What is the distribution of card types by education level across all customers, and how does that compare with churned customers?`\n",
    "> **Most Blue card holders are in the Graduate demographic.**\n",
    "> **The second highest number of blue card holders are of the High School education level.**\n",
    "> **Both categories hold the same ranking in churned customers.**\n"
   ]
  },
  {
   "cell_type": "markdown",
   "id": "73e3bfb9-b402-48c9-84c0-6afb9edcba87",
   "metadata": {},
   "source": [
    "# 6. Data Enrichment\n",
    "*If you were told you have unlimited resources, budget, and anything you need, how would you enrich the existing data?*\n",
    "\n",
    "### Suggestion \n",
    "An *annual churn rate* would be helpful, since annual bank churn ranges from 5-7% (this data set is at 16%). I did not observe any time data that could help calculate an annual churn rate, which would be helpful in determining a ‘recovery goal’ for lost customers. "
   ]
  },
  {
   "cell_type": "markdown",
   "id": "2072d24f-17e4-4af9-a12d-7f63527cc6d4",
   "metadata": {},
   "source": [
    "# 7. Recommendations\n",
    "\n"
   ]
  },
  {
   "cell_type": "code",
   "execution_count": null,
   "id": "bba04c3b-02c4-4a34-b3bd-5831e5118952",
   "metadata": {},
   "outputs": [],
   "source": []
  }
 ],
 "metadata": {
  "kernelspec": {
   "display_name": "Python 3 (ipykernel)",
   "language": "python",
   "name": "python3"
  },
  "language_info": {
   "codemirror_mode": {
    "name": "ipython",
    "version": 3
   },
   "file_extension": ".py",
   "mimetype": "text/x-python",
   "name": "python",
   "nbconvert_exporter": "python",
   "pygments_lexer": "ipython3",
   "version": "3.9.12"
  }
 },
 "nbformat": 4,
 "nbformat_minor": 5
}
