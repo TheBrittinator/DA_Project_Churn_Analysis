{
 "cells": [
  {
   "cell_type": "markdown",
   "id": "f77accfd-4d93-4080-b73e-bfb23f3b89b2",
   "metadata": {},
   "source": [
    "# Customer Churn Analysis\n",
    "\n",
    "Here you can find the description of all the tasks. Same info and more can be found on this Project [Page](https://cms.master.school/final-project-jan23)\n",
    "\n",
    "First review the project on this page and if you decide to work on this dataset follow the steps mentioned on above Project page\n"
   ]
  },
  {
   "cell_type": "markdown",
   "id": "002c3e9c-baa6-4804-86e6-1777aab23ae9",
   "metadata": {},
   "source": [
    "# The story Behind The Data\n",
    "A bank is concerned that more and more customers are leaving its credit card services. They would really appreciate if someone could analyze it for them, in order to understand the main reasons for leaving the services, and to come up with recommendations for how the bank can mitigate that. Eventually, the bank would like to proactively implement these recommendations in order to keep their customers happy."
   ]
  },
  {
   "cell_type": "markdown",
   "id": "28a328f4-b93a-494a-b16a-4a616e416212",
   "metadata": {},
   "source": [
    "**A full ERD can be found [here](https://dbdiagram.io/d/638cdd8abae3ed7c45449eed)**\n",
    "\n",
    "# Data Description\n",
    "In this task, few datasets are provided:\n",
    "\n",
    "1. **`BankChurners.csv`**   - this file contains basic information about each client (10 columns). The columns are:\n",
    "    - `CLIENTNUM` - Client number. Unique identifier for the customer holding the account;\n",
    "    - `Attrition Flag` - Internal event (customer activity) variable - if the client had churned (attrited) or not (existing).\n",
    "    - `Dependent Count` - Demographic variable - Number of dependents\n",
    "    - `Card_Category` - Product Variable - Type of Card (Blue, Silver, Gold, Platinum)\n",
    "    - `Months_on_book` - Period of relationship with bank\n",
    "    - `Months_Inactive_12_mon` - No. of months inactive in the last 12 months\n",
    "    - `Contacts_Count_12_mon` - No. of Contacts in the last 12 months\n",
    "    - `Credit_Limit` - Credit Limit on the Credit Card\n",
    "    - `Avg_Open_To_Buy` - Open to Buy Credit Line (Average of last 12 months)\n",
    "    - `Avg_Utilization_Ratio` - Average Card Utilization Ratio\n",
    "2. **`basic_client_info.csv`** - this file contains some basic client info per each client (6 columns) -\n",
    "    - `CLIENTNUM` - Client number. Unique identifier for the customer holding the account\n",
    "    - `Customer Age` - Demographic variable - Customer's Age in Years\n",
    "    - `Gender` - Demographic variable - M=Male, F=Female\n",
    "    - `Education_Level` - Demographic variable - Educational Qualification of the account holder (example: high school, college graduate, etc.`\n",
    "    - `Marital_Status` - Demographic variable - Married, Single, Divorced, Unknown\n",
    "    - `Income_Category` - Demographic variable - Annual Income Category of the account holder (< $40K, $40K - 60K, $60K - $80K, $80K-$120K, > $120K, Unknown)\n",
    "3. **`enriched_churn_data.csv`** - this file contains some enriched data about each client (7 columns) -\n",
    "    - `CLIENTNUM` - Client number. Unique identifier for the customer holding the account\n",
    "    - `Total_Relationship_Count` - Total no. of products held by the customer\n",
    "    - `Total_Revolving_Bal` - Total Revolving Balance on the Credit Card\n",
    "    - `Total_Amt_Chng_Q4_Q1` - Change in Transaction Amount (Q4 over Q1)\n",
    "    - `Total_Trans_Amt` - Total Transaction Amount (Last 12 months)\n",
    "    - `Total_Trans_Ct` - Total Transaction Count (Last 12 months)\n",
    "    - `Total_Ct_Chng_Q4_Q1` - Change in Transaction Count (Q4 over Q1)"
   ]
  },
  {
   "cell_type": "markdown",
   "id": "88c477bc-ca42-44df-8a56-eb3e1b6d6585",
   "metadata": {},
   "source": [
    "# SQL tasks\n",
    "\n",
    "1. How many clients does the bank have and are above the age of 50?\n",
    "2. What’s the distribution (in %) between male and female clients?\n",
    "3. Let’s define a new variable called `age_group`:\n",
    "    - 10 < x ≤ 30\n",
    "    - 30 < x ≤ 40\n",
    "    - 40 < x ≤ 50\n",
    "    - 50 < x ≤ 60\n",
    "    - 60 <x ≤ 120\n",
    "    \n",
    "    Per each `age_group`, `marital_status` and `income_category`, find out the following values:\n",
    "    \n",
    "    a. Churn_rate (in %)\n",
    "    \n",
    "    b. Average `Total_Relationship_Count`\n",
    "    \n",
    "    c. Minimum value of `Total_Amt_Chng_Q4_Q1`\n",
    "    \n",
    "    d. Count of customers\n",
    "    \n",
    "    Make sure to order the data by the number of customers in a descending order***\n",
    "    \n",
    "4. Out of the male clients, who holds the “blue” card, how many (in %) hold the income category 40K - 60K?\n",
    "\n",
    "5. Without the usage of group by at all, find the 3rd and 4th highest client IDs (`CLIENTNUM`’s) of `Total_Amt_Chng_Q4_Q1`?\n",
    "\n",
    "6. We’re interested in knowing which client (CLIENTNUM) has the 2nd highest `Total_Trans_Amt`, Per each `Marital_Status`. \n",
    "\n",
    "The bank will create a dedicated campaign and target these specific clients moving forward. In this step, help the bank find these clients."
   ]
  },
  {
   "cell_type": "markdown",
   "id": "de3c8846-6779-4ad5-a1c3-b49030324b4e",
   "metadata": {},
   "source": [
    "In order to start writing and running SQL queries here in Workspace, you have a SQL type cell. New cell can be added by clicking on \"Add SQL\". Masterschool hosts a Postgres DB with all Capstone project datasets. To connect to MS server you need to choose relevant integration. Choose according to the dataset you explore. "
   ]
  },
  {
   "cell_type": "code",
   "execution_count": 11,
   "id": "132a501d-8c52-47db-a384-31e4eac14bb6",
   "metadata": {
    "customType": "sql",
    "dataFrameVariableName": "df",
    "executionTime": 1974,
    "initial": false,
    "integrationId": "340d6f6b-e6bc-4eae-a902-e9a40ad6dfb1",
    "lastSuccessfullyExecutedCode": "-- Start writing your SQL query here \n\nSELECT * from bankchurners LIMIT 10"
   },
   "outputs": [
    {
     "data": {
      "application/com.datacamp.data-table.v1+json": {
       "table": {
        "data": [
         {
          "attrition_flag": "Existing Customer",
          "avg_open_to_buy": 676,
          "avg_utilization_ratio": 0.788,
          "card_category": "Blue",
          "clientnum": 806160108,
          "contacts_count_12_mon": 3,
          "credit_limit": 3193,
          "dependent_count": 1,
          "index": 0,
          "months_inactive_12_mon": 2,
          "months_on_book": 56
         },
         {
          "attrition_flag": "Existing Customer",
          "avg_open_to_buy": 9205,
          "avg_utilization_ratio": 0.099,
          "card_category": "Blue",
          "clientnum": 804424383,
          "contacts_count_12_mon": 2,
          "credit_limit": 10215,
          "dependent_count": 1,
          "index": 1,
          "months_inactive_12_mon": 3,
          "months_on_book": 56
         },
         {
          "attrition_flag": "Attrited Customer",
          "avg_open_to_buy": 7277,
          "avg_utilization_ratio": 0.077,
          "card_category": "Blue",
          "clientnum": 708300483,
          "contacts_count_12_mon": 3,
          "credit_limit": 7882,
          "dependent_count": 0,
          "index": 2,
          "months_inactive_12_mon": 4,
          "months_on_book": 56
         },
         {
          "attrition_flag": "Existing Customer",
          "avg_open_to_buy": 1438.3,
          "avg_utilization_ratio": 0,
          "card_category": "Blue",
          "clientnum": 808284783,
          "contacts_count_12_mon": 0,
          "credit_limit": 1438.3,
          "dependent_count": 1,
          "index": 3,
          "months_inactive_12_mon": 0,
          "months_on_book": 56
         },
         {
          "attrition_flag": "Existing Customer",
          "avg_open_to_buy": 12208,
          "avg_utilization_ratio": 0.119,
          "card_category": "Blue",
          "clientnum": 712720158,
          "contacts_count_12_mon": 3,
          "credit_limit": 13860,
          "dependent_count": 1,
          "index": 4,
          "months_inactive_12_mon": 2,
          "months_on_book": 56
         },
         {
          "attrition_flag": "Existing Customer",
          "avg_open_to_buy": 489,
          "avg_utilization_ratio": 0.837,
          "card_category": "Blue",
          "clientnum": 717296808,
          "contacts_count_12_mon": 2,
          "credit_limit": 3006,
          "dependent_count": 1,
          "index": 5,
          "months_inactive_12_mon": 3,
          "months_on_book": 56
         },
         {
          "attrition_flag": "Existing Customer",
          "avg_open_to_buy": 840,
          "avg_utilization_ratio": 0.679,
          "card_category": "Blue",
          "clientnum": 809164083,
          "contacts_count_12_mon": 2,
          "credit_limit": 2619,
          "dependent_count": 1,
          "index": 6,
          "months_inactive_12_mon": 1,
          "months_on_book": 56
         },
         {
          "attrition_flag": "Existing Customer",
          "avg_open_to_buy": 1757,
          "avg_utilization_ratio": 0.46,
          "card_category": "Blue",
          "clientnum": 787348608,
          "contacts_count_12_mon": 3,
          "credit_limit": 3252,
          "dependent_count": 0,
          "index": 7,
          "months_inactive_12_mon": 2,
          "months_on_book": 56
         },
         {
          "attrition_flag": "Existing Customer",
          "avg_open_to_buy": 4579,
          "avg_utilization_ratio": 0.221,
          "card_category": "Blue",
          "clientnum": 778286433,
          "contacts_count_12_mon": 1,
          "credit_limit": 5876,
          "dependent_count": 0,
          "index": 8,
          "months_inactive_12_mon": 2,
          "months_on_book": 56
         },
         {
          "attrition_flag": "Existing Customer",
          "avg_open_to_buy": 4120,
          "avg_utilization_ratio": 0.262,
          "card_category": "Blue",
          "clientnum": 822969858,
          "contacts_count_12_mon": 3,
          "credit_limit": 5585,
          "dependent_count": 0,
          "index": 9,
          "months_inactive_12_mon": 1,
          "months_on_book": 56
         }
        ],
        "schema": {
         "fields": [
          {
           "name": "index",
           "type": "integer"
          },
          {
           "name": "clientnum",
           "type": "integer"
          },
          {
           "name": "attrition_flag",
           "type": "string"
          },
          {
           "name": "dependent_count",
           "type": "integer"
          },
          {
           "name": "card_category",
           "type": "string"
          },
          {
           "name": "months_on_book",
           "type": "integer"
          },
          {
           "name": "months_inactive_12_mon",
           "type": "integer"
          },
          {
           "name": "contacts_count_12_mon",
           "type": "integer"
          },
          {
           "name": "credit_limit",
           "type": "number"
          },
          {
           "name": "avg_open_to_buy",
           "type": "number"
          },
          {
           "name": "avg_utilization_ratio",
           "type": "number"
          }
         ],
         "pandas_version": "1.4.0",
         "primaryKey": [
          "index"
         ]
        }
       },
       "total_rows": 10,
       "truncation_type": null
      },
      "text/html": [
       "<div>\n",
       "<style scoped>\n",
       "    .dataframe tbody tr th:only-of-type {\n",
       "        vertical-align: middle;\n",
       "    }\n",
       "\n",
       "    .dataframe tbody tr th {\n",
       "        vertical-align: top;\n",
       "    }\n",
       "\n",
       "    .dataframe thead th {\n",
       "        text-align: right;\n",
       "    }\n",
       "</style>\n",
       "<table border=\"1\" class=\"dataframe\">\n",
       "  <thead>\n",
       "    <tr style=\"text-align: right;\">\n",
       "      <th></th>\n",
       "      <th>clientnum</th>\n",
       "      <th>attrition_flag</th>\n",
       "      <th>dependent_count</th>\n",
       "      <th>card_category</th>\n",
       "      <th>months_on_book</th>\n",
       "      <th>months_inactive_12_mon</th>\n",
       "      <th>contacts_count_12_mon</th>\n",
       "      <th>credit_limit</th>\n",
       "      <th>avg_open_to_buy</th>\n",
       "      <th>avg_utilization_ratio</th>\n",
       "    </tr>\n",
       "  </thead>\n",
       "  <tbody>\n",
       "    <tr>\n",
       "      <th>0</th>\n",
       "      <td>806160108</td>\n",
       "      <td>Existing Customer</td>\n",
       "      <td>1</td>\n",
       "      <td>Blue</td>\n",
       "      <td>56</td>\n",
       "      <td>2</td>\n",
       "      <td>3</td>\n",
       "      <td>3193.0</td>\n",
       "      <td>676.0</td>\n",
       "      <td>0.788</td>\n",
       "    </tr>\n",
       "    <tr>\n",
       "      <th>1</th>\n",
       "      <td>804424383</td>\n",
       "      <td>Existing Customer</td>\n",
       "      <td>1</td>\n",
       "      <td>Blue</td>\n",
       "      <td>56</td>\n",
       "      <td>3</td>\n",
       "      <td>2</td>\n",
       "      <td>10215.0</td>\n",
       "      <td>9205.0</td>\n",
       "      <td>0.099</td>\n",
       "    </tr>\n",
       "    <tr>\n",
       "      <th>2</th>\n",
       "      <td>708300483</td>\n",
       "      <td>Attrited Customer</td>\n",
       "      <td>0</td>\n",
       "      <td>Blue</td>\n",
       "      <td>56</td>\n",
       "      <td>4</td>\n",
       "      <td>3</td>\n",
       "      <td>7882.0</td>\n",
       "      <td>7277.0</td>\n",
       "      <td>0.077</td>\n",
       "    </tr>\n",
       "    <tr>\n",
       "      <th>3</th>\n",
       "      <td>808284783</td>\n",
       "      <td>Existing Customer</td>\n",
       "      <td>1</td>\n",
       "      <td>Blue</td>\n",
       "      <td>56</td>\n",
       "      <td>0</td>\n",
       "      <td>0</td>\n",
       "      <td>1438.3</td>\n",
       "      <td>1438.3</td>\n",
       "      <td>0.000</td>\n",
       "    </tr>\n",
       "    <tr>\n",
       "      <th>4</th>\n",
       "      <td>712720158</td>\n",
       "      <td>Existing Customer</td>\n",
       "      <td>1</td>\n",
       "      <td>Blue</td>\n",
       "      <td>56</td>\n",
       "      <td>2</td>\n",
       "      <td>3</td>\n",
       "      <td>13860.0</td>\n",
       "      <td>12208.0</td>\n",
       "      <td>0.119</td>\n",
       "    </tr>\n",
       "    <tr>\n",
       "      <th>5</th>\n",
       "      <td>717296808</td>\n",
       "      <td>Existing Customer</td>\n",
       "      <td>1</td>\n",
       "      <td>Blue</td>\n",
       "      <td>56</td>\n",
       "      <td>3</td>\n",
       "      <td>2</td>\n",
       "      <td>3006.0</td>\n",
       "      <td>489.0</td>\n",
       "      <td>0.837</td>\n",
       "    </tr>\n",
       "    <tr>\n",
       "      <th>6</th>\n",
       "      <td>809164083</td>\n",
       "      <td>Existing Customer</td>\n",
       "      <td>1</td>\n",
       "      <td>Blue</td>\n",
       "      <td>56</td>\n",
       "      <td>1</td>\n",
       "      <td>2</td>\n",
       "      <td>2619.0</td>\n",
       "      <td>840.0</td>\n",
       "      <td>0.679</td>\n",
       "    </tr>\n",
       "    <tr>\n",
       "      <th>7</th>\n",
       "      <td>787348608</td>\n",
       "      <td>Existing Customer</td>\n",
       "      <td>0</td>\n",
       "      <td>Blue</td>\n",
       "      <td>56</td>\n",
       "      <td>2</td>\n",
       "      <td>3</td>\n",
       "      <td>3252.0</td>\n",
       "      <td>1757.0</td>\n",
       "      <td>0.460</td>\n",
       "    </tr>\n",
       "    <tr>\n",
       "      <th>8</th>\n",
       "      <td>778286433</td>\n",
       "      <td>Existing Customer</td>\n",
       "      <td>0</td>\n",
       "      <td>Blue</td>\n",
       "      <td>56</td>\n",
       "      <td>2</td>\n",
       "      <td>1</td>\n",
       "      <td>5876.0</td>\n",
       "      <td>4579.0</td>\n",
       "      <td>0.221</td>\n",
       "    </tr>\n",
       "    <tr>\n",
       "      <th>9</th>\n",
       "      <td>822969858</td>\n",
       "      <td>Existing Customer</td>\n",
       "      <td>0</td>\n",
       "      <td>Blue</td>\n",
       "      <td>56</td>\n",
       "      <td>1</td>\n",
       "      <td>3</td>\n",
       "      <td>5585.0</td>\n",
       "      <td>4120.0</td>\n",
       "      <td>0.262</td>\n",
       "    </tr>\n",
       "  </tbody>\n",
       "</table>\n",
       "</div>"
      ],
      "text/plain": [
       "   clientnum     attrition_flag  ...  avg_open_to_buy avg_utilization_ratio\n",
       "0  806160108  Existing Customer  ...            676.0                 0.788\n",
       "1  804424383  Existing Customer  ...           9205.0                 0.099\n",
       "2  708300483  Attrited Customer  ...           7277.0                 0.077\n",
       "3  808284783  Existing Customer  ...           1438.3                 0.000\n",
       "4  712720158  Existing Customer  ...          12208.0                 0.119\n",
       "5  717296808  Existing Customer  ...            489.0                 0.837\n",
       "6  809164083  Existing Customer  ...            840.0                 0.679\n",
       "7  787348608  Existing Customer  ...           1757.0                 0.460\n",
       "8  778286433  Existing Customer  ...           4579.0                 0.221\n",
       "9  822969858  Existing Customer  ...           4120.0                 0.262\n",
       "\n",
       "[10 rows x 10 columns]"
      ]
     },
     "execution_count": 11,
     "metadata": {},
     "output_type": "execute_result"
    }
   ],
   "source": [
    "-- Start writing your SQL query here \n",
    "\n",
    "SELECT * from bankchurners LIMIT 10"
   ]
  },
  {
   "cell_type": "markdown",
   "id": "b68ad162-e1b7-42f4-88e8-72d8a729aa45",
   "metadata": {},
   "source": [
    "## Tableau Tasks\n",
    "\n",
    "This Tableau task lets you be creative with the way you build your dashboard and only gives guidance on the types of visualizations you should use.\n",
    "\n",
    "Create a dashboard that will contain at least 5 out of the 8 requirements defined below:\n",
    "\n",
    "1. **At least 2 KPIs** as Big Ass Numbers. Choose the metrics on your own that will fit with the rest of your analysis. Examples of metrics:\n",
    "    - Total number of clients\n",
    "    - Churn rate %\n",
    "    - Average transaction amount per customer\n",
    "    - Average transaction amount before churn\n",
    "    - etc.\n",
    "2. **Churn rate %** among different **age groups**. You will need to:\n",
    "    - Use the Bins function to split client age into age ranges\n",
    "    - Define Churn rate % as a calculated field\n",
    "    - Choose the way of visualizing the comparison\n",
    "3. **A Scatterplot** visualizing certain customer spending behaviors and their connection to the churn if exists. For example, you can compare Total transaction amount and Total transaction count of each client and use color to mark churned and existing customers. \n",
    "4. **A Highlight Table** comparing Churn rate % among two demographic dimensions (from *basic_client_info* table), where one is placed on Rows and another on Columns, forming a matrix. \n",
    "5. **A Bar Chart** with multiple metrics by Clientnum, where each row represents one Client and has multiple metrics as columns. Add a few filters or parameters to let user drill down into the set of clients they are interested in.\n",
    "6. **A Pareto Analysis** based on custom defined **customer segment**. \n",
    "    - Segment can include values from the demographic information of the client. For example,\n",
    "        - Gender | Income\n",
    "        - Gender | Income | Marital status\n",
    "        - etc.\n",
    "    - Choose the metric to analyse. For example,\n",
    "        - Total number of clients (People from which customer segments most often become our clients?)\n",
    "        - Churn rate absolute (How many churned customers we have in each segment?)\n",
    "        - Churn rate % (What is the relative churn rate in each customer segment?)\n",
    "        - etc.\n",
    "7. **At least 1 parameter** that allows dashboard user to interact with the dashboard. For example,\n",
    "    - to change the metric used in the chart(s)\n",
    "    - to change the value of a benchmark\n",
    "8. At least one **more visualization of your choice** adds value to your analysis."
   ]
  },
  {
   "cell_type": "markdown",
   "id": "c57e784f-3936-4f38-9169-d7d817db0e83",
   "metadata": {},
   "source": [
    "_Use this cell to add your Tableau links. We encourage you also to add here screenshots from your Tableau dashboard with explanations._"
   ]
  },
  {
   "cell_type": "markdown",
   "id": "45c37b12-6ea2-42d2-9f15-199a66dcfc0b",
   "metadata": {},
   "source": [
    "_For_ deep dive analysis and EDA follow the guidelines on project [page](https://cms.master.school/final-project-jan23)"
   ]
  },
  {
   "cell_type": "code",
   "execution_count": 12,
   "id": "18acb0f3-de36-4082-bc29-88410cce1a12",
   "metadata": {
    "executionTime": 40,
    "lastSuccessfullyExecutedCode": "# Let's see how we can easily query the data\n# Start working here if you choose to use Python for this part of the project\n# Libraries\nimport numpy as np # linear algebra\nimport pandas as pd\nimport matplotlib.pyplot as plt\nimport seaborn as sns"
   },
   "outputs": [],
   "source": [
    "# Let's see how we can easily query the data\n",
    "# Start working here if you choose to use Python for this part of the project\n",
    "# Libraries\n",
    "import numpy as np # linear algebra\n",
    "import pandas as pd\n",
    "import matplotlib.pyplot as plt\n",
    "import seaborn as sns"
   ]
  },
  {
   "cell_type": "code",
   "execution_count": 13,
   "id": "a99bf1a7-22e8-4d17-85fe-b49b32543a2f",
   "metadata": {
    "executionTime": 36,
    "lastSuccessfullyExecutedCode": "# Loading + let's see the head of each file we have\nbank_churners_df = pd.read_csv('bankchurners.csv')\nbasic_client_info_df = pd.read_csv('basic_client_info.csv')\nenriched_churn_df = pd.read_csv('enriched_churn_data.csv')\nbank_churners_df.head(3)"
   },
   "outputs": [
    {
     "data": {
      "application/com.datacamp.data-table.v1+json": {
       "table": {
        "data": [
         {
          "attrition_flag": "Existing Customer",
          "avg_open_to_buy": 676,
          "avg_utilization_ratio": 0.788,
          "card_category": "Blue",
          "clientnum": 806160108,
          "contacts_count_12_mon": 3,
          "credit_limit": 3193,
          "dependent_count": 1,
          "index": 0,
          "months_inactive_12_mon": 2,
          "months_on_book": 56
         },
         {
          "attrition_flag": "Existing Customer",
          "avg_open_to_buy": 9205,
          "avg_utilization_ratio": 0.099,
          "card_category": "Blue",
          "clientnum": 804424383,
          "contacts_count_12_mon": 2,
          "credit_limit": 10215,
          "dependent_count": 1,
          "index": 1,
          "months_inactive_12_mon": 3,
          "months_on_book": 56
         },
         {
          "attrition_flag": "Attrited Customer",
          "avg_open_to_buy": 7277,
          "avg_utilization_ratio": 0.077,
          "card_category": "Blue",
          "clientnum": 708300483,
          "contacts_count_12_mon": 3,
          "credit_limit": 7882,
          "dependent_count": 0,
          "index": 2,
          "months_inactive_12_mon": 4,
          "months_on_book": 56
         }
        ],
        "schema": {
         "fields": [
          {
           "name": "index",
           "type": "integer"
          },
          {
           "name": "clientnum",
           "type": "integer"
          },
          {
           "name": "attrition_flag",
           "type": "string"
          },
          {
           "name": "dependent_count",
           "type": "integer"
          },
          {
           "name": "card_category",
           "type": "string"
          },
          {
           "name": "months_on_book",
           "type": "integer"
          },
          {
           "name": "months_inactive_12_mon",
           "type": "integer"
          },
          {
           "name": "contacts_count_12_mon",
           "type": "integer"
          },
          {
           "name": "credit_limit",
           "type": "number"
          },
          {
           "name": "avg_open_to_buy",
           "type": "number"
          },
          {
           "name": "avg_utilization_ratio",
           "type": "number"
          }
         ],
         "pandas_version": "1.4.0",
         "primaryKey": [
          "index"
         ]
        }
       },
       "total_rows": 3,
       "truncation_type": null
      },
      "text/html": [
       "<div>\n",
       "<style scoped>\n",
       "    .dataframe tbody tr th:only-of-type {\n",
       "        vertical-align: middle;\n",
       "    }\n",
       "\n",
       "    .dataframe tbody tr th {\n",
       "        vertical-align: top;\n",
       "    }\n",
       "\n",
       "    .dataframe thead th {\n",
       "        text-align: right;\n",
       "    }\n",
       "</style>\n",
       "<table border=\"1\" class=\"dataframe\">\n",
       "  <thead>\n",
       "    <tr style=\"text-align: right;\">\n",
       "      <th></th>\n",
       "      <th>clientnum</th>\n",
       "      <th>attrition_flag</th>\n",
       "      <th>dependent_count</th>\n",
       "      <th>card_category</th>\n",
       "      <th>months_on_book</th>\n",
       "      <th>months_inactive_12_mon</th>\n",
       "      <th>contacts_count_12_mon</th>\n",
       "      <th>credit_limit</th>\n",
       "      <th>avg_open_to_buy</th>\n",
       "      <th>avg_utilization_ratio</th>\n",
       "    </tr>\n",
       "  </thead>\n",
       "  <tbody>\n",
       "    <tr>\n",
       "      <th>0</th>\n",
       "      <td>806160108</td>\n",
       "      <td>Existing Customer</td>\n",
       "      <td>1</td>\n",
       "      <td>Blue</td>\n",
       "      <td>56</td>\n",
       "      <td>2</td>\n",
       "      <td>3</td>\n",
       "      <td>3193.0</td>\n",
       "      <td>676.0</td>\n",
       "      <td>0.788</td>\n",
       "    </tr>\n",
       "    <tr>\n",
       "      <th>1</th>\n",
       "      <td>804424383</td>\n",
       "      <td>Existing Customer</td>\n",
       "      <td>1</td>\n",
       "      <td>Blue</td>\n",
       "      <td>56</td>\n",
       "      <td>3</td>\n",
       "      <td>2</td>\n",
       "      <td>10215.0</td>\n",
       "      <td>9205.0</td>\n",
       "      <td>0.099</td>\n",
       "    </tr>\n",
       "    <tr>\n",
       "      <th>2</th>\n",
       "      <td>708300483</td>\n",
       "      <td>Attrited Customer</td>\n",
       "      <td>0</td>\n",
       "      <td>Blue</td>\n",
       "      <td>56</td>\n",
       "      <td>4</td>\n",
       "      <td>3</td>\n",
       "      <td>7882.0</td>\n",
       "      <td>7277.0</td>\n",
       "      <td>0.077</td>\n",
       "    </tr>\n",
       "  </tbody>\n",
       "</table>\n",
       "</div>"
      ],
      "text/plain": [
       "   clientnum     attrition_flag  ...  avg_open_to_buy avg_utilization_ratio\n",
       "0  806160108  Existing Customer  ...            676.0                 0.788\n",
       "1  804424383  Existing Customer  ...           9205.0                 0.099\n",
       "2  708300483  Attrited Customer  ...           7277.0                 0.077\n",
       "\n",
       "[3 rows x 10 columns]"
      ]
     },
     "execution_count": 13,
     "metadata": {},
     "output_type": "execute_result"
    }
   ],
   "source": [
    "# Loading + let's see the head of each file we have\n",
    "bank_churners_df = pd.read_csv('bankchurners.csv')\n",
    "basic_client_info_df = pd.read_csv('basic_client_info.csv')\n",
    "enriched_churn_df = pd.read_csv('enriched_churn_data.csv')\n",
    "bank_churners_df.head(3)"
   ]
  },
  {
   "cell_type": "code",
   "execution_count": 14,
   "id": "c88fd744-6cf5-4b8a-af45-874c68aafa9a",
   "metadata": {
    "executionTime": 32,
    "lastSuccessfullyExecutedCode": "basic_client_info_df.head(3)"
   },
   "outputs": [
    {
     "data": {
      "application/com.datacamp.data-table.v1+json": {
       "table": {
        "data": [
         {
          "clientnum": 708082083,
          "customer_age": 45,
          "education_level": "High School",
          "gender": "F",
          "income_category": "Less than $40K",
          "index": 0,
          "marital_status": "Married"
         },
         {
          "clientnum": 708083283,
          "customer_age": 58,
          "education_level": "Unknown",
          "gender": "M",
          "income_category": "$40K - $60K",
          "index": 1,
          "marital_status": "Single"
         },
         {
          "clientnum": 708084558,
          "customer_age": 46,
          "education_level": "Doctorate",
          "gender": "M",
          "income_category": "$80K - $120K",
          "index": 2,
          "marital_status": "Divorced"
         }
        ],
        "schema": {
         "fields": [
          {
           "name": "index",
           "type": "integer"
          },
          {
           "name": "clientnum",
           "type": "integer"
          },
          {
           "name": "customer_age",
           "type": "integer"
          },
          {
           "name": "gender",
           "type": "string"
          },
          {
           "name": "education_level",
           "type": "string"
          },
          {
           "name": "marital_status",
           "type": "string"
          },
          {
           "name": "income_category",
           "type": "string"
          }
         ],
         "pandas_version": "1.4.0",
         "primaryKey": [
          "index"
         ]
        }
       },
       "total_rows": 3,
       "truncation_type": null
      },
      "text/html": [
       "<div>\n",
       "<style scoped>\n",
       "    .dataframe tbody tr th:only-of-type {\n",
       "        vertical-align: middle;\n",
       "    }\n",
       "\n",
       "    .dataframe tbody tr th {\n",
       "        vertical-align: top;\n",
       "    }\n",
       "\n",
       "    .dataframe thead th {\n",
       "        text-align: right;\n",
       "    }\n",
       "</style>\n",
       "<table border=\"1\" class=\"dataframe\">\n",
       "  <thead>\n",
       "    <tr style=\"text-align: right;\">\n",
       "      <th></th>\n",
       "      <th>clientnum</th>\n",
       "      <th>customer_age</th>\n",
       "      <th>gender</th>\n",
       "      <th>education_level</th>\n",
       "      <th>marital_status</th>\n",
       "      <th>income_category</th>\n",
       "    </tr>\n",
       "  </thead>\n",
       "  <tbody>\n",
       "    <tr>\n",
       "      <th>0</th>\n",
       "      <td>708082083</td>\n",
       "      <td>45</td>\n",
       "      <td>F</td>\n",
       "      <td>High School</td>\n",
       "      <td>Married</td>\n",
       "      <td>Less than $40K</td>\n",
       "    </tr>\n",
       "    <tr>\n",
       "      <th>1</th>\n",
       "      <td>708083283</td>\n",
       "      <td>58</td>\n",
       "      <td>M</td>\n",
       "      <td>Unknown</td>\n",
       "      <td>Single</td>\n",
       "      <td>$40K - $60K</td>\n",
       "    </tr>\n",
       "    <tr>\n",
       "      <th>2</th>\n",
       "      <td>708084558</td>\n",
       "      <td>46</td>\n",
       "      <td>M</td>\n",
       "      <td>Doctorate</td>\n",
       "      <td>Divorced</td>\n",
       "      <td>$80K - $120K</td>\n",
       "    </tr>\n",
       "  </tbody>\n",
       "</table>\n",
       "</div>"
      ],
      "text/plain": [
       "   clientnum  customer_age  ... marital_status income_category\n",
       "0  708082083            45  ...        Married  Less than $40K\n",
       "1  708083283            58  ...         Single     $40K - $60K\n",
       "2  708084558            46  ...       Divorced    $80K - $120K\n",
       "\n",
       "[3 rows x 6 columns]"
      ]
     },
     "execution_count": 14,
     "metadata": {},
     "output_type": "execute_result"
    }
   ],
   "source": [
    "basic_client_info_df.head(3)"
   ]
  },
  {
   "cell_type": "code",
   "execution_count": 15,
   "id": "bf6555e3-c9a0-4f88-9555-b9331fe8b383",
   "metadata": {
    "executionTime": 60,
    "lastSuccessfullyExecutedCode": "enriched_churn_df.head(3)"
   },
   "outputs": [
    {
     "data": {
      "application/com.datacamp.data-table.v1+json": {
       "table": {
        "data": [
         {
          "clientnum": 828343083,
          "index": 0,
          "total_amt_chng_q4_q1": 0.803,
          "total_ct_chng_q4_q1": 0.659,
          "total_relationship_count": 3,
          "total_revolving_bal": 1793,
          "total_trans_amt": 3646,
          "total_trans_ct": 68
         },
         {
          "clientnum": 828298908,
          "index": 1,
          "total_amt_chng_q4_q1": 0.613,
          "total_ct_chng_q4_q1": 0.741,
          "total_relationship_count": 4,
          "total_revolving_bal": 2035,
          "total_trans_amt": 1770,
          "total_trans_ct": 47
         },
         {
          "clientnum": 828294933,
          "index": 2,
          "total_amt_chng_q4_q1": 0.765,
          "total_ct_chng_q4_q1": 0.565,
          "total_relationship_count": 3,
          "total_revolving_bal": 2437,
          "total_trans_amt": 2519,
          "total_trans_ct": 36
         }
        ],
        "schema": {
         "fields": [
          {
           "name": "index",
           "type": "integer"
          },
          {
           "name": "clientnum",
           "type": "integer"
          },
          {
           "name": "total_relationship_count",
           "type": "integer"
          },
          {
           "name": "total_revolving_bal",
           "type": "integer"
          },
          {
           "name": "total_amt_chng_q4_q1",
           "type": "number"
          },
          {
           "name": "total_trans_amt",
           "type": "integer"
          },
          {
           "name": "total_ct_chng_q4_q1",
           "type": "number"
          },
          {
           "name": "total_trans_ct",
           "type": "integer"
          }
         ],
         "pandas_version": "1.4.0",
         "primaryKey": [
          "index"
         ]
        }
       },
       "total_rows": 3,
       "truncation_type": null
      },
      "text/html": [
       "<div>\n",
       "<style scoped>\n",
       "    .dataframe tbody tr th:only-of-type {\n",
       "        vertical-align: middle;\n",
       "    }\n",
       "\n",
       "    .dataframe tbody tr th {\n",
       "        vertical-align: top;\n",
       "    }\n",
       "\n",
       "    .dataframe thead th {\n",
       "        text-align: right;\n",
       "    }\n",
       "</style>\n",
       "<table border=\"1\" class=\"dataframe\">\n",
       "  <thead>\n",
       "    <tr style=\"text-align: right;\">\n",
       "      <th></th>\n",
       "      <th>clientnum</th>\n",
       "      <th>total_relationship_count</th>\n",
       "      <th>total_revolving_bal</th>\n",
       "      <th>total_amt_chng_q4_q1</th>\n",
       "      <th>total_trans_amt</th>\n",
       "      <th>total_ct_chng_q4_q1</th>\n",
       "      <th>total_trans_ct</th>\n",
       "    </tr>\n",
       "  </thead>\n",
       "  <tbody>\n",
       "    <tr>\n",
       "      <th>0</th>\n",
       "      <td>828343083</td>\n",
       "      <td>3</td>\n",
       "      <td>1793</td>\n",
       "      <td>0.803</td>\n",
       "      <td>3646</td>\n",
       "      <td>0.659</td>\n",
       "      <td>68</td>\n",
       "    </tr>\n",
       "    <tr>\n",
       "      <th>1</th>\n",
       "      <td>828298908</td>\n",
       "      <td>4</td>\n",
       "      <td>2035</td>\n",
       "      <td>0.613</td>\n",
       "      <td>1770</td>\n",
       "      <td>0.741</td>\n",
       "      <td>47</td>\n",
       "    </tr>\n",
       "    <tr>\n",
       "      <th>2</th>\n",
       "      <td>828294933</td>\n",
       "      <td>3</td>\n",
       "      <td>2437</td>\n",
       "      <td>0.765</td>\n",
       "      <td>2519</td>\n",
       "      <td>0.565</td>\n",
       "      <td>36</td>\n",
       "    </tr>\n",
       "  </tbody>\n",
       "</table>\n",
       "</div>"
      ],
      "text/plain": [
       "   clientnum  total_relationship_count  ...  total_ct_chng_q4_q1  total_trans_ct\n",
       "0  828343083                         3  ...                0.659              68\n",
       "1  828298908                         4  ...                0.741              47\n",
       "2  828294933                         3  ...                0.565              36\n",
       "\n",
       "[3 rows x 7 columns]"
      ]
     },
     "execution_count": 15,
     "metadata": {},
     "output_type": "execute_result"
    }
   ],
   "source": [
    "enriched_churn_df.head(3)"
   ]
  },
  {
   "cell_type": "code",
   "execution_count": 17,
   "id": "2207f7ae-bedc-4017-9ca6-a74807e9be62",
   "metadata": {
    "customType": "sql",
    "dataFrameVariableName": "df",
    "executionTime": 1903,
    "initial": false,
    "integrationId": "340d6f6b-e6bc-4eae-a902-e9a40ad6dfb1",
    "lastSuccessfullyExecutedCode": "SELECT * \nFROM churn_join\nLIMIT 5;"
   },
   "outputs": [
    {
     "data": {
      "application/com.datacamp.data-table.v1+json": {
       "table": {
        "data": [
         {
          "age": 45,
          "age_group": "41_50",
          "attrition_flag": "Existing Customer",
          "clientnum": 708082083,
          "gender": "F",
          "income_category": "Less than $40K",
          "index": 0,
          "marital_status": "Married",
          "total_amt_chg": 0.831,
          "total_rlt_ct": 4
         },
         {
          "age": 58,
          "age_group": "51_60",
          "attrition_flag": "Attrited Customer",
          "clientnum": 708083283,
          "gender": "M",
          "income_category": "$40K - $60K",
          "index": 1,
          "marital_status": "Single",
          "total_amt_chg": 0.992,
          "total_rlt_ct": 3
         },
         {
          "age": 46,
          "age_group": "41_50",
          "attrition_flag": "Attrited Customer",
          "clientnum": 708084558,
          "gender": "M",
          "income_category": "$80K - $120K",
          "index": 2,
          "marital_status": "Divorced",
          "total_amt_chg": 0,
          "total_rlt_ct": 6
         },
         {
          "age": 34,
          "age_group": "31_40",
          "attrition_flag": "Existing Customer",
          "clientnum": 708085458,
          "gender": "F",
          "income_category": "Less than $40K",
          "index": 3,
          "marital_status": "Single",
          "total_amt_chg": 0.827,
          "total_rlt_ct": 6
         },
         {
          "age": 49,
          "age_group": "41_50",
          "attrition_flag": "Existing Customer",
          "clientnum": 708086958,
          "gender": "F",
          "income_category": "Unknown",
          "index": 4,
          "marital_status": "Married",
          "total_amt_chg": 0.598,
          "total_rlt_ct": 3
         }
        ],
        "schema": {
         "fields": [
          {
           "name": "index",
           "type": "integer"
          },
          {
           "name": "clientnum",
           "type": "integer"
          },
          {
           "name": "attrition_flag",
           "type": "string"
          },
          {
           "name": "age",
           "type": "integer"
          },
          {
           "name": "gender",
           "type": "string"
          },
          {
           "name": "age_group",
           "type": "string"
          },
          {
           "name": "marital_status",
           "type": "string"
          },
          {
           "name": "income_category",
           "type": "string"
          },
          {
           "name": "total_rlt_ct",
           "type": "integer"
          },
          {
           "name": "total_amt_chg",
           "type": "number"
          }
         ],
         "pandas_version": "1.4.0",
         "primaryKey": [
          "index"
         ]
        }
       },
       "total_rows": 5,
       "truncation_type": null
      },
      "text/html": [
       "<div>\n",
       "<style scoped>\n",
       "    .dataframe tbody tr th:only-of-type {\n",
       "        vertical-align: middle;\n",
       "    }\n",
       "\n",
       "    .dataframe tbody tr th {\n",
       "        vertical-align: top;\n",
       "    }\n",
       "\n",
       "    .dataframe thead th {\n",
       "        text-align: right;\n",
       "    }\n",
       "</style>\n",
       "<table border=\"1\" class=\"dataframe\">\n",
       "  <thead>\n",
       "    <tr style=\"text-align: right;\">\n",
       "      <th></th>\n",
       "      <th>clientnum</th>\n",
       "      <th>attrition_flag</th>\n",
       "      <th>age</th>\n",
       "      <th>gender</th>\n",
       "      <th>age_group</th>\n",
       "      <th>marital_status</th>\n",
       "      <th>income_category</th>\n",
       "      <th>total_rlt_ct</th>\n",
       "      <th>total_amt_chg</th>\n",
       "    </tr>\n",
       "  </thead>\n",
       "  <tbody>\n",
       "    <tr>\n",
       "      <th>0</th>\n",
       "      <td>708082083</td>\n",
       "      <td>Existing Customer</td>\n",
       "      <td>45</td>\n",
       "      <td>F</td>\n",
       "      <td>41_50</td>\n",
       "      <td>Married</td>\n",
       "      <td>Less than $40K</td>\n",
       "      <td>4</td>\n",
       "      <td>0.831</td>\n",
       "    </tr>\n",
       "    <tr>\n",
       "      <th>1</th>\n",
       "      <td>708083283</td>\n",
       "      <td>Attrited Customer</td>\n",
       "      <td>58</td>\n",
       "      <td>M</td>\n",
       "      <td>51_60</td>\n",
       "      <td>Single</td>\n",
       "      <td>$40K - $60K</td>\n",
       "      <td>3</td>\n",
       "      <td>0.992</td>\n",
       "    </tr>\n",
       "    <tr>\n",
       "      <th>2</th>\n",
       "      <td>708084558</td>\n",
       "      <td>Attrited Customer</td>\n",
       "      <td>46</td>\n",
       "      <td>M</td>\n",
       "      <td>41_50</td>\n",
       "      <td>Divorced</td>\n",
       "      <td>$80K - $120K</td>\n",
       "      <td>6</td>\n",
       "      <td>0.000</td>\n",
       "    </tr>\n",
       "    <tr>\n",
       "      <th>3</th>\n",
       "      <td>708085458</td>\n",
       "      <td>Existing Customer</td>\n",
       "      <td>34</td>\n",
       "      <td>F</td>\n",
       "      <td>31_40</td>\n",
       "      <td>Single</td>\n",
       "      <td>Less than $40K</td>\n",
       "      <td>6</td>\n",
       "      <td>0.827</td>\n",
       "    </tr>\n",
       "    <tr>\n",
       "      <th>4</th>\n",
       "      <td>708086958</td>\n",
       "      <td>Existing Customer</td>\n",
       "      <td>49</td>\n",
       "      <td>F</td>\n",
       "      <td>41_50</td>\n",
       "      <td>Married</td>\n",
       "      <td>Unknown</td>\n",
       "      <td>3</td>\n",
       "      <td>0.598</td>\n",
       "    </tr>\n",
       "  </tbody>\n",
       "</table>\n",
       "</div>"
      ],
      "text/plain": [
       "   clientnum     attrition_flag  ...  total_rlt_ct total_amt_chg\n",
       "0  708082083  Existing Customer  ...             4         0.831\n",
       "1  708083283  Attrited Customer  ...             3         0.992\n",
       "2  708084558  Attrited Customer  ...             6         0.000\n",
       "3  708085458  Existing Customer  ...             6         0.827\n",
       "4  708086958  Existing Customer  ...             3         0.598\n",
       "\n",
       "[5 rows x 9 columns]"
      ]
     },
     "execution_count": 17,
     "metadata": {},
     "output_type": "execute_result"
    }
   ],
   "source": [
    "SELECT * \n",
    "FROM churn_join\n",
    "LIMIT 5;"
   ]
  },
  {
   "cell_type": "code",
   "execution_count": 16,
   "id": "37ece5db-bf29-43ab-92a3-5d491c99beff",
   "metadata": {
    "customType": "sql",
    "dataFrameVariableName": "df",
    "executionTime": 1595,
    "initial": false,
    "integrationId": "340d6f6b-e6bc-4eae-a902-e9a40ad6dfb1",
    "lastSuccessfullyExecutedCode": "CREATE VIEW churn_join AS\nSELECT b.clientnum AS clientnum\n,b.attrition_flag AS attrition_flag\n,c.customer_age AS age\n,c.gender AS gender\n,CASE\nWHEN c.customer_age <= 30 THEN '10_30'\nWHEN c.customer_age > 30 AND c.customer_age <= 40 THEN '31_40'\nWHEN c.customer_age > 40 AND c.customer_age <= 50 THEN '41_50'\nWHEN c.customer_age > 50 AND c.customer_age <= 60 THEN '51_60'\nWHEN c.customer_age > 60 THEN '61+'\nEND AS age_group\n,c.marital_status AS marital_status\n,c.income_category AS income_category\n,e.total_relationship_count AS total_rlt_ct\n,e.total_amt_chng_q4_q1 AS total_amt_chg\nFROM bankchurners AS b\nJOIN basic_client_info AS c\nON b.clientnum = c.clientnum\nJOIN enriched_churn_data AS e\nON c.clientnum = e.clientnum"
   },
   "outputs": [
    {
     "data": {
      "application/com.datacamp.data-table.v1+json": {
       "table": {
        "data": [],
        "schema": {
         "fields": [
          {
           "name": "index",
           "type": "string"
          }
         ],
         "pandas_version": "1.4.0",
         "primaryKey": [
          "index"
         ]
        }
       },
       "total_rows": 0,
       "truncation_type": null
      },
      "text/html": [
       "<div>\n",
       "<style scoped>\n",
       "    .dataframe tbody tr th:only-of-type {\n",
       "        vertical-align: middle;\n",
       "    }\n",
       "\n",
       "    .dataframe tbody tr th {\n",
       "        vertical-align: top;\n",
       "    }\n",
       "\n",
       "    .dataframe thead th {\n",
       "        text-align: right;\n",
       "    }\n",
       "</style>\n",
       "<table border=\"1\" class=\"dataframe\">\n",
       "  <thead>\n",
       "    <tr style=\"text-align: right;\">\n",
       "      <th></th>\n",
       "    </tr>\n",
       "  </thead>\n",
       "  <tbody>\n",
       "  </tbody>\n",
       "</table>\n",
       "</div>"
      ],
      "text/plain": [
       "Empty DataFrame\n",
       "Columns: []\n",
       "Index: []"
      ]
     },
     "execution_count": 16,
     "metadata": {},
     "output_type": "execute_result"
    }
   ],
   "source": [
    "CREATE VIEW churn_join AS\n",
    "SELECT b.clientnum AS clientnum\n",
    ",b.attrition_flag AS attrition_flag\n",
    ",c.customer_age AS age\n",
    ",c.gender AS gender\n",
    ",CASE\n",
    "WHEN c.customer_age <= 30 THEN '10_30'\n",
    "WHEN c.customer_age > 30 AND c.customer_age <= 40 THEN '31_40'\n",
    "WHEN c.customer_age > 40 AND c.customer_age <= 50 THEN '41_50'\n",
    "WHEN c.customer_age > 50 AND c.customer_age <= 60 THEN '51_60'\n",
    "WHEN c.customer_age > 60 THEN '61+'\n",
    "END AS age_group\n",
    ",c.marital_status AS marital_status\n",
    ",c.income_category AS income_category\n",
    ",e.total_relationship_count AS total_rlt_ct\n",
    ",e.total_amt_chng_q4_q1 AS total_amt_chg\n",
    "FROM bankchurners AS b\n",
    "JOIN basic_client_info AS c\n",
    "ON b.clientnum = c.clientnum\n",
    "JOIN enriched_churn_data AS e\n",
    "ON c.clientnum = e.clientnum"
   ]
  },
  {
   "cell_type": "code",
   "execution_count": 20,
   "id": "3b3a6b1e-b52c-41de-b7f7-21ba820c784f",
   "metadata": {
    "customType": "sql",
    "dataFrameVariableName": "df",
    "executionTime": 1624,
    "initial": false,
    "integrationId": "340d6f6b-e6bc-4eae-a902-e9a40ad6dfb1",
    "lastSuccessfullyExecutedCode": "With churn as \n    (SELECT\n        clientnum,\n        count(CASE WHEN attrition_flag = 'Attrited Customer' THEN 1 ELSE NULL END) AS churned,\n        count(CASE WHEN attrition_flag = 'Existing Customer' THEN 1 ELSE NULL END) as current,\n        count(attrition_flag) as total\n    FROM bankchurners\n    group by clientnum)\n    SELECT SUM(churned)/SUM(total)*100\n    FROM churn"
   },
   "outputs": [
    {
     "data": {
      "application/com.datacamp.data-table.v1+json": {
       "table": {
        "data": [
         {
          "?column?": 16.0659622791,
          "index": 0
         }
        ],
        "schema": {
         "fields": [
          {
           "name": "index",
           "type": "integer"
          },
          {
           "name": "?column?",
           "type": "number"
          }
         ],
         "pandas_version": "1.4.0",
         "primaryKey": [
          "index"
         ]
        }
       },
       "total_rows": 1,
       "truncation_type": null
      },
      "text/html": [
       "<div>\n",
       "<style scoped>\n",
       "    .dataframe tbody tr th:only-of-type {\n",
       "        vertical-align: middle;\n",
       "    }\n",
       "\n",
       "    .dataframe tbody tr th {\n",
       "        vertical-align: top;\n",
       "    }\n",
       "\n",
       "    .dataframe thead th {\n",
       "        text-align: right;\n",
       "    }\n",
       "</style>\n",
       "<table border=\"1\" class=\"dataframe\">\n",
       "  <thead>\n",
       "    <tr style=\"text-align: right;\">\n",
       "      <th></th>\n",
       "      <th>?column?</th>\n",
       "    </tr>\n",
       "  </thead>\n",
       "  <tbody>\n",
       "    <tr>\n",
       "      <th>0</th>\n",
       "      <td>16.065962</td>\n",
       "    </tr>\n",
       "  </tbody>\n",
       "</table>\n",
       "</div>"
      ],
      "text/plain": [
       "    ?column?\n",
       "0  16.065962"
      ]
     },
     "execution_count": 20,
     "metadata": {},
     "output_type": "execute_result"
    }
   ],
   "source": [
    "With churn as \n",
    "    (SELECT\n",
    "        clientnum,\n",
    "        count(CASE WHEN attrition_flag = 'Attrited Customer' THEN 1 ELSE NULL END) AS churned,\n",
    "        count(CASE WHEN attrition_flag = 'Existing Customer' THEN 1 ELSE NULL END) as current,\n",
    "        count(attrition_flag) as total\n",
    "    FROM bankchurners\n",
    "    group by clientnum)\n",
    "    SELECT SUM(churned)/SUM(total)*100\n",
    "    FROM churn"
   ]
  },
  {
   "cell_type": "markdown",
   "id": "e555c9d9-f245-4509-b647-610532d626ef",
   "metadata": {},
   "source": [
    "## 1. How many clients does the bank have and are above the age of 50?\n",
    "\n",
    "3078"
   ]
  },
  {
   "cell_type": "code",
   "execution_count": 18,
   "id": "2ee69134-e9b4-4325-9df7-35a736a53577",
   "metadata": {
    "customType": "sql",
    "dataFrameVariableName": "df",
    "executionTime": 1608,
    "initial": false,
    "integrationId": "340d6f6b-e6bc-4eae-a902-e9a40ad6dfb1",
    "lastSuccessfullyExecutedCode": "SELECT COUNT(clientnum) num_clients_over50\nFROM churn_join\nWHERE age > 50;"
   },
   "outputs": [
    {
     "data": {
      "application/com.datacamp.data-table.v1+json": {
       "table": {
        "data": [
         {
          "index": 0,
          "num_clients_over50": 3078
         }
        ],
        "schema": {
         "fields": [
          {
           "name": "index",
           "type": "integer"
          },
          {
           "name": "num_clients_over50",
           "type": "integer"
          }
         ],
         "pandas_version": "1.4.0",
         "primaryKey": [
          "index"
         ]
        }
       },
       "total_rows": 1,
       "truncation_type": null
      },
      "text/html": [
       "<div>\n",
       "<style scoped>\n",
       "    .dataframe tbody tr th:only-of-type {\n",
       "        vertical-align: middle;\n",
       "    }\n",
       "\n",
       "    .dataframe tbody tr th {\n",
       "        vertical-align: top;\n",
       "    }\n",
       "\n",
       "    .dataframe thead th {\n",
       "        text-align: right;\n",
       "    }\n",
       "</style>\n",
       "<table border=\"1\" class=\"dataframe\">\n",
       "  <thead>\n",
       "    <tr style=\"text-align: right;\">\n",
       "      <th></th>\n",
       "      <th>num_clients_over50</th>\n",
       "    </tr>\n",
       "  </thead>\n",
       "  <tbody>\n",
       "    <tr>\n",
       "      <th>0</th>\n",
       "      <td>3078</td>\n",
       "    </tr>\n",
       "  </tbody>\n",
       "</table>\n",
       "</div>"
      ],
      "text/plain": [
       "   num_clients_over50\n",
       "0                3078"
      ]
     },
     "execution_count": 18,
     "metadata": {},
     "output_type": "execute_result"
    }
   ],
   "source": [
    "SELECT COUNT(clientnum) num_clients_over50\n",
    "FROM churn_join\n",
    "WHERE age > 50;"
   ]
  },
  {
   "cell_type": "markdown",
   "id": "fff92467-de50-4478-9ff5-3902653917a9",
   "metadata": {},
   "source": [
    "## 2. What’s the distribution (in %) between male and female clients?\n",
    "\n",
    "Male: 47%\n",
    "Female: 53%"
   ]
  },
  {
   "cell_type": "code",
   "execution_count": 21,
   "id": "c63f3620-7319-4e2b-aaf4-bf526ba2e6c0",
   "metadata": {
    "customType": "sql",
    "dataFrameVariableName": "df",
    "executionTime": 1572,
    "initial": false,
    "integrationId": "340d6f6b-e6bc-4eae-a902-e9a40ad6dfb1",
    "lastSuccessfullyExecutedCode": "WITH total_clients AS (\n  SELECT COUNT(*) as total_clients\n  FROM churn_join\n)\nSELECT \n  gender,\n  ROUND((COUNT(clientnum) * 100.0 / (SELECT total_clients FROM total_clients))::NUMERIC, 2) AS percentage\nFROM churn_join\nGROUP BY 1\n\n\n"
   },
   "outputs": [
    {
     "data": {
      "application/com.datacamp.data-table.v1+json": {
       "table": {
        "data": [
         {
          "gender": "M",
          "index": 0,
          "percentage": 47.09
         },
         {
          "gender": "F",
          "index": 1,
          "percentage": 52.91
         }
        ],
        "schema": {
         "fields": [
          {
           "name": "index",
           "type": "integer"
          },
          {
           "name": "gender",
           "type": "string"
          },
          {
           "name": "percentage",
           "type": "number"
          }
         ],
         "pandas_version": "1.4.0",
         "primaryKey": [
          "index"
         ]
        }
       },
       "total_rows": 2,
       "truncation_type": null
      },
      "text/html": [
       "<div>\n",
       "<style scoped>\n",
       "    .dataframe tbody tr th:only-of-type {\n",
       "        vertical-align: middle;\n",
       "    }\n",
       "\n",
       "    .dataframe tbody tr th {\n",
       "        vertical-align: top;\n",
       "    }\n",
       "\n",
       "    .dataframe thead th {\n",
       "        text-align: right;\n",
       "    }\n",
       "</style>\n",
       "<table border=\"1\" class=\"dataframe\">\n",
       "  <thead>\n",
       "    <tr style=\"text-align: right;\">\n",
       "      <th></th>\n",
       "      <th>gender</th>\n",
       "      <th>percentage</th>\n",
       "    </tr>\n",
       "  </thead>\n",
       "  <tbody>\n",
       "    <tr>\n",
       "      <th>0</th>\n",
       "      <td>M</td>\n",
       "      <td>47.09</td>\n",
       "    </tr>\n",
       "    <tr>\n",
       "      <th>1</th>\n",
       "      <td>F</td>\n",
       "      <td>52.91</td>\n",
       "    </tr>\n",
       "  </tbody>\n",
       "</table>\n",
       "</div>"
      ],
      "text/plain": [
       "  gender  percentage\n",
       "0      M       47.09\n",
       "1      F       52.91"
      ]
     },
     "execution_count": 21,
     "metadata": {},
     "output_type": "execute_result"
    }
   ],
   "source": [
    "WITH total_clients AS (\n",
    "  SELECT COUNT(*) as total_clients\n",
    "  FROM churn_join\n",
    ")\n",
    "SELECT \n",
    "  gender,\n",
    "  ROUND((COUNT(clientnum) * 100.0 / (SELECT total_clients FROM total_clients))::NUMERIC, 2) AS percentage\n",
    "FROM churn_join\n",
    "GROUP BY 1\n",
    "\n",
    "\n"
   ]
  },
  {
   "cell_type": "markdown",
   "id": "2d0c8cfe-5b39-48e1-b93a-08a73322b10d",
   "metadata": {},
   "source": [
    "## 3. Per each `age_group`, `marital_status` and `income_category`, find out the following values:\n",
    " - a. Churn_rate (in %) ✅\n",
    " - b. Average Total_Relationship_Count ✅\n",
    " - c. Minimum value of Total_Amt_Chng_Q4_Q1 ✅\n",
    " - d. Count of customers ✅"
   ]
  },
  {
   "cell_type": "code",
   "execution_count": 27,
   "id": "9d65c701-a90b-4450-8945-2903f181a80e",
   "metadata": {
    "customType": "sql",
    "dataFrameVariableName": "df",
    "executionTime": 1871,
    "initial": false,
    "integrationId": "340d6f6b-e6bc-4eae-a902-e9a40ad6dfb1",
    "lastSuccessfullyExecutedCode": "WITH churn AS \n    (SELECT\n        clientnum,\n        count(CASE WHEN attrition_flag = 'Attrited Customer' THEN 1 ELSE NULL END) AS churned,\n        count(CASE WHEN attrition_flag = 'Existing Customer' THEN 1 ELSE NULL END) as current,\n        count(attrition_flag) as total\n    FROM bankchurners\n    group by clientnum)\n    SELECT c.age_group AS age_group\n        ,c.marital_status AS marital_status\n        ,c.income_category AS income_category\n        ,ROUND((SUM(ch.churned)/SUM(ch.total))*100, 2) AS churn_rate_percent\n        ,ROUND(AVG(c.total_rlt_ct ),2) AS avg_total_relationship_count\n        ,MIN(c.total_amt_chg) AS min_total_amt_chng_q4_q1\n        ,COUNT(*) AS num_clients\n    FROM churn_join AS c\n    JOIN bankchurners AS b\n    ON c.clientnum = b.clientnum\n    JOIN churn AS ch\n    ON c.clientnum = ch.clientnum\n    GROUP BY 1,2,3\n    ORDER BY 1,7\n        DESC;"
   },
   "outputs": [
    {
     "data": {
      "application/com.datacamp.data-table.v1+json": {
       "table": {
        "data": [
         {
          "age_group": "10_30",
          "avg_total_relationship_count": 4.12,
          "churn_rate_percent": 14.49,
          "income_category": "Less than $40K",
          "index": 0,
          "marital_status": "Single",
          "min_total_amt_chng_q4_q1": 0.299,
          "num_clients": 69
         },
         {
          "age_group": "10_30",
          "avg_total_relationship_count": 3.61,
          "churn_rate_percent": 11.11,
          "income_category": "Less than $40K",
          "index": 1,
          "marital_status": "Married",
          "min_total_amt_chng_q4_q1": 0.549,
          "num_clients": 36
         },
         {
          "age_group": "10_30",
          "avg_total_relationship_count": 4.38,
          "churn_rate_percent": 10.34,
          "income_category": "$40K - $60K",
          "index": 2,
          "marital_status": "Single",
          "min_total_amt_chng_q4_q1": 0.331,
          "num_clients": 29
         },
         {
          "age_group": "10_30",
          "avg_total_relationship_count": 4,
          "churn_rate_percent": 7.41,
          "income_category": "Unknown",
          "index": 3,
          "marital_status": "Single",
          "min_total_amt_chng_q4_q1": 0.391,
          "num_clients": 27
         },
         {
          "age_group": "10_30",
          "avg_total_relationship_count": 4.5,
          "churn_rate_percent": 25,
          "income_category": "Less than $40K",
          "index": 4,
          "marital_status": "Divorced",
          "min_total_amt_chng_q4_q1": 0.632,
          "num_clients": 16
         },
         {
          "age_group": "10_30",
          "avg_total_relationship_count": 3.73,
          "churn_rate_percent": 6.67,
          "income_category": "$40K - $60K",
          "index": 5,
          "marital_status": "Married",
          "min_total_amt_chng_q4_q1": 0.371,
          "num_clients": 15
         },
         {
          "age_group": "10_30",
          "avg_total_relationship_count": 4.4,
          "churn_rate_percent": 13.33,
          "income_category": "$60K - $80K",
          "index": 6,
          "marital_status": "Single",
          "min_total_amt_chng_q4_q1": 0.502,
          "num_clients": 15
         },
         {
          "age_group": "10_30",
          "avg_total_relationship_count": 3.44,
          "churn_rate_percent": 11.11,
          "income_category": "Unknown",
          "index": 7,
          "marital_status": "Married",
          "min_total_amt_chng_q4_q1": 0.521,
          "num_clients": 9
         },
         {
          "age_group": "10_30",
          "avg_total_relationship_count": 3.33,
          "churn_rate_percent": 11.11,
          "income_category": "$60K - $80K",
          "index": 8,
          "marital_status": "Married",
          "min_total_amt_chng_q4_q1": 0.616,
          "num_clients": 9
         },
         {
          "age_group": "10_30",
          "avg_total_relationship_count": 5,
          "churn_rate_percent": 0,
          "income_category": "Unknown",
          "index": 9,
          "marital_status": "Divorced",
          "min_total_amt_chng_q4_q1": 0.587,
          "num_clients": 7
         },
         {
          "age_group": "10_30",
          "avg_total_relationship_count": 2.67,
          "churn_rate_percent": 0,
          "income_category": "Less than $40K",
          "index": 10,
          "marital_status": "Unknown",
          "min_total_amt_chng_q4_q1": 0.469,
          "num_clients": 6
         },
         {
          "age_group": "10_30",
          "avg_total_relationship_count": 3.25,
          "churn_rate_percent": 0,
          "income_category": "Unknown",
          "index": 11,
          "marital_status": "Unknown",
          "min_total_amt_chng_q4_q1": 0.623,
          "num_clients": 4
         },
         {
          "age_group": "10_30",
          "avg_total_relationship_count": 4.25,
          "churn_rate_percent": 0,
          "income_category": "$80K - $120K",
          "index": 12,
          "marital_status": "Married",
          "min_total_amt_chng_q4_q1": 0.778,
          "num_clients": 4
         },
         {
          "age_group": "10_30",
          "avg_total_relationship_count": 4,
          "churn_rate_percent": 0,
          "income_category": "$40K - $60K",
          "index": 13,
          "marital_status": "Divorced",
          "min_total_amt_chng_q4_q1": 0.643,
          "num_clients": 3
         },
         {
          "age_group": "10_30",
          "avg_total_relationship_count": 2.33,
          "churn_rate_percent": 66.67,
          "income_category": "$60K - $80K",
          "index": 14,
          "marital_status": "Divorced",
          "min_total_amt_chng_q4_q1": 0.381,
          "num_clients": 3
         },
         {
          "age_group": "10_30",
          "avg_total_relationship_count": 5,
          "churn_rate_percent": 0,
          "income_category": "$80K - $120K",
          "index": 15,
          "marital_status": "Single",
          "min_total_amt_chng_q4_q1": 0.786,
          "num_clients": 2
         },
         {
          "age_group": "10_30",
          "avg_total_relationship_count": 4,
          "churn_rate_percent": 50,
          "income_category": "$120K +",
          "index": 16,
          "marital_status": "Single",
          "min_total_amt_chng_q4_q1": 0.558,
          "num_clients": 2
         },
         {
          "age_group": "10_30",
          "avg_total_relationship_count": 6,
          "churn_rate_percent": 0,
          "income_category": "$80K - $120K",
          "index": 17,
          "marital_status": "Divorced",
          "min_total_amt_chng_q4_q1": 0.59,
          "num_clients": 2
         },
         {
          "age_group": "10_30",
          "avg_total_relationship_count": 3.5,
          "churn_rate_percent": 0,
          "income_category": "$120K +",
          "index": 18,
          "marital_status": "Married",
          "min_total_amt_chng_q4_q1": 0.52,
          "num_clients": 2
         },
         {
          "age_group": "10_30",
          "avg_total_relationship_count": 4.5,
          "churn_rate_percent": 50,
          "income_category": "$40K - $60K",
          "index": 19,
          "marital_status": "Unknown",
          "min_total_amt_chng_q4_q1": 0.535,
          "num_clients": 2
         },
         {
          "age_group": "10_30",
          "avg_total_relationship_count": 1,
          "churn_rate_percent": 0,
          "income_category": "$80K - $120K",
          "index": 20,
          "marital_status": "Unknown",
          "min_total_amt_chng_q4_q1": 0.715,
          "num_clients": 1
         },
         {
          "age_group": "10_30",
          "avg_total_relationship_count": 3,
          "churn_rate_percent": 0,
          "income_category": "$120K +",
          "index": 21,
          "marital_status": "Divorced",
          "min_total_amt_chng_q4_q1": 0.828,
          "num_clients": 1
         },
         {
          "age_group": "10_30",
          "avg_total_relationship_count": 3,
          "churn_rate_percent": 0,
          "income_category": "$60K - $80K",
          "index": 22,
          "marital_status": "Unknown",
          "min_total_amt_chng_q4_q1": 0.524,
          "num_clients": 1
         },
         {
          "age_group": "31_40",
          "avg_total_relationship_count": 3.98,
          "churn_rate_percent": 17.12,
          "income_category": "Less than $40K",
          "index": 23,
          "marital_status": "Single",
          "min_total_amt_chng_q4_q1": 0.262,
          "num_clients": 333
         },
         {
          "age_group": "31_40",
          "avg_total_relationship_count": 3.89,
          "churn_rate_percent": 13.64,
          "income_category": "Less than $40K",
          "index": 24,
          "marital_status": "Married",
          "min_total_amt_chng_q4_q1": 0.24,
          "num_clients": 330
         },
         {
          "age_group": "31_40",
          "avg_total_relationship_count": 3.87,
          "churn_rate_percent": 13.11,
          "income_category": "$40K - $60K",
          "index": 25,
          "marital_status": "Married",
          "min_total_amt_chng_q4_q1": 0,
          "num_clients": 183
         },
         {
          "age_group": "31_40",
          "avg_total_relationship_count": 3.85,
          "churn_rate_percent": 13.02,
          "income_category": "$40K - $60K",
          "index": 26,
          "marital_status": "Single",
          "min_total_amt_chng_q4_q1": 0.12,
          "num_clients": 169
         },
         {
          "age_group": "31_40",
          "avg_total_relationship_count": 4.33,
          "churn_rate_percent": 12.34,
          "income_category": "$60K - $80K",
          "index": 27,
          "marital_status": "Married",
          "min_total_amt_chng_q4_q1": 0.324,
          "num_clients": 154
         },
         {
          "age_group": "31_40",
          "avg_total_relationship_count": 4.33,
          "churn_rate_percent": 12.59,
          "income_category": "$80K - $120K",
          "index": 28,
          "marital_status": "Married",
          "min_total_amt_chng_q4_q1": 0.262,
          "num_clients": 143
         },
         {
          "age_group": "31_40",
          "avg_total_relationship_count": 3.91,
          "churn_rate_percent": 13.39,
          "income_category": "$80K - $120K",
          "index": 29,
          "marital_status": "Single",
          "min_total_amt_chng_q4_q1": 0.175,
          "num_clients": 127
         },
         {
          "age_group": "31_40",
          "avg_total_relationship_count": 3.88,
          "churn_rate_percent": 13.39,
          "income_category": "$60K - $80K",
          "index": 30,
          "marital_status": "Single",
          "min_total_amt_chng_q4_q1": 0.358,
          "num_clients": 112
         },
         {
          "age_group": "31_40",
          "avg_total_relationship_count": 4,
          "churn_rate_percent": 12.38,
          "income_category": "Unknown",
          "index": 31,
          "marital_status": "Single",
          "min_total_amt_chng_q4_q1": 0.359,
          "num_clients": 105
         },
         {
          "age_group": "31_40",
          "avg_total_relationship_count": 3.84,
          "churn_rate_percent": 14.94,
          "income_category": "Unknown",
          "index": 32,
          "marital_status": "Married",
          "min_total_amt_chng_q4_q1": 0.236,
          "num_clients": 87
         },
         {
          "age_group": "31_40",
          "avg_total_relationship_count": 4.07,
          "churn_rate_percent": 24.56,
          "income_category": "$120K +",
          "index": 33,
          "marital_status": "Married",
          "min_total_amt_chng_q4_q1": 0.153,
          "num_clients": 57
         },
         {
          "age_group": "31_40",
          "avg_total_relationship_count": 3.84,
          "churn_rate_percent": 14.29,
          "income_category": "$120K +",
          "index": 34,
          "marital_status": "Single",
          "min_total_amt_chng_q4_q1": 0.371,
          "num_clients": 49
         },
         {
          "age_group": "31_40",
          "avg_total_relationship_count": 3.39,
          "churn_rate_percent": 10.87,
          "income_category": "Less than $40K",
          "index": 35,
          "marital_status": "Divorced",
          "min_total_amt_chng_q4_q1": 0.391,
          "num_clients": 46
         },
         {
          "age_group": "31_40",
          "avg_total_relationship_count": 3.42,
          "churn_rate_percent": 22.22,
          "income_category": "Less than $40K",
          "index": 36,
          "marital_status": "Unknown",
          "min_total_amt_chng_q4_q1": 0.417,
          "num_clients": 45
         },
         {
          "age_group": "31_40",
          "avg_total_relationship_count": 3.34,
          "churn_rate_percent": 18.75,
          "income_category": "$80K - $120K",
          "index": 37,
          "marital_status": "Unknown",
          "min_total_amt_chng_q4_q1": 0.399,
          "num_clients": 32
         },
         {
          "age_group": "31_40",
          "avg_total_relationship_count": 3.52,
          "churn_rate_percent": 10.34,
          "income_category": "$40K - $60K",
          "index": 38,
          "marital_status": "Divorced",
          "min_total_amt_chng_q4_q1": 0.461,
          "num_clients": 29
         },
         {
          "age_group": "31_40",
          "avg_total_relationship_count": 3.81,
          "churn_rate_percent": 22.22,
          "income_category": "$40K - $60K",
          "index": 39,
          "marital_status": "Unknown",
          "min_total_amt_chng_q4_q1": 0.349,
          "num_clients": 27
         },
         {
          "age_group": "31_40",
          "avg_total_relationship_count": 4.05,
          "churn_rate_percent": 14.29,
          "income_category": "$60K - $80K",
          "index": 40,
          "marital_status": "Divorced",
          "min_total_amt_chng_q4_q1": 0.49,
          "num_clients": 21
         },
         {
          "age_group": "31_40",
          "avg_total_relationship_count": 4.19,
          "churn_rate_percent": 19.05,
          "income_category": "Unknown",
          "index": 41,
          "marital_status": "Divorced",
          "min_total_amt_chng_q4_q1": 0.481,
          "num_clients": 21
         },
         {
          "age_group": "31_40",
          "avg_total_relationship_count": 3.58,
          "churn_rate_percent": 15.79,
          "income_category": "$80K - $120K",
          "index": 42,
          "marital_status": "Divorced",
          "min_total_amt_chng_q4_q1": 0.202,
          "num_clients": 19
         },
         {
          "age_group": "31_40",
          "avg_total_relationship_count": 3.88,
          "churn_rate_percent": 18.75,
          "income_category": "Unknown",
          "index": 43,
          "marital_status": "Unknown",
          "min_total_amt_chng_q4_q1": 0.431,
          "num_clients": 16
         },
         {
          "age_group": "31_40",
          "avg_total_relationship_count": 3.75,
          "churn_rate_percent": 25,
          "income_category": "$60K - $80K",
          "index": 44,
          "marital_status": "Unknown",
          "min_total_amt_chng_q4_q1": 0.395,
          "num_clients": 12
         },
         {
          "age_group": "31_40",
          "avg_total_relationship_count": 3.89,
          "churn_rate_percent": 0,
          "income_category": "$120K +",
          "index": 45,
          "marital_status": "Divorced",
          "min_total_amt_chng_q4_q1": 0.557,
          "num_clients": 9
         },
         {
          "age_group": "31_40",
          "avg_total_relationship_count": 4.67,
          "churn_rate_percent": 0,
          "income_category": "$120K +",
          "index": 46,
          "marital_status": "Unknown",
          "min_total_amt_chng_q4_q1": 0.516,
          "num_clients": 6
         },
         {
          "age_group": "41_50",
          "avg_total_relationship_count": 3.76,
          "churn_rate_percent": 18.64,
          "income_category": "Less than $40K",
          "index": 47,
          "marital_status": "Married",
          "min_total_amt_chng_q4_q1": 0.061,
          "num_clients": 735
         },
         {
          "age_group": "41_50",
          "avg_total_relationship_count": 3.72,
          "churn_rate_percent": 17.77,
          "income_category": "Less than $40K",
          "index": 48,
          "marital_status": "Single",
          "min_total_amt_chng_q4_q1": 0.275,
          "num_clients": 557
         },
         {
          "age_group": "41_50",
          "avg_total_relationship_count": 3.79,
          "churn_rate_percent": 19.13,
          "income_category": "$40K - $60K",
          "index": 49,
          "marital_status": "Married",
          "min_total_amt_chng_q4_q1": 0.196,
          "num_clients": 366
         },
         {
          "age_group": "41_50",
          "avg_total_relationship_count": 3.69,
          "churn_rate_percent": 15.14,
          "income_category": "$80K - $120K",
          "index": 50,
          "marital_status": "Married",
          "min_total_amt_chng_q4_q1": 0.313,
          "num_clients": 350
         },
         {
          "age_group": "41_50",
          "avg_total_relationship_count": 3.58,
          "churn_rate_percent": 14.02,
          "income_category": "$60K - $80K",
          "index": 51,
          "marital_status": "Married",
          "min_total_amt_chng_q4_q1": 0.222,
          "num_clients": 321
         },
         {
          "age_group": "41_50",
          "avg_total_relationship_count": 3.79,
          "churn_rate_percent": 16.11,
          "income_category": "$40K - $60K",
          "index": 52,
          "marital_status": "Single",
          "min_total_amt_chng_q4_q1": 0.225,
          "num_clients": 298
         },
         {
          "age_group": "41_50",
          "avg_total_relationship_count": 3.71,
          "churn_rate_percent": 13.71,
          "income_category": "$60K - $80K",
          "index": 53,
          "marital_status": "Single",
          "min_total_amt_chng_q4_q1": 0,
          "num_clients": 248
         },
         {
          "age_group": "41_50",
          "avg_total_relationship_count": 3.64,
          "churn_rate_percent": 17.14,
          "income_category": "$80K - $120K",
          "index": 54,
          "marital_status": "Single",
          "min_total_amt_chng_q4_q1": 0.242,
          "num_clients": 245
         },
         {
          "age_group": "41_50",
          "avg_total_relationship_count": 3.75,
          "churn_rate_percent": 13.79,
          "income_category": "Unknown",
          "index": 55,
          "marital_status": "Married",
          "min_total_amt_chng_q4_q1": 0.01,
          "num_clients": 232
         },
         {
          "age_group": "41_50",
          "avg_total_relationship_count": 3.78,
          "churn_rate_percent": 21.05,
          "income_category": "Unknown",
          "index": 56,
          "marital_status": "Single",
          "min_total_amt_chng_q4_q1": 0.304,
          "num_clients": 171
         },
         {
          "age_group": "41_50",
          "avg_total_relationship_count": 3.66,
          "churn_rate_percent": 14.67,
          "income_category": "$120K +",
          "index": 57,
          "marital_status": "Married",
          "min_total_amt_chng_q4_q1": 0.204,
          "num_clients": 150
         },
         {
          "age_group": "41_50",
          "avg_total_relationship_count": 3.85,
          "churn_rate_percent": 15.75,
          "income_category": "Less than $40K",
          "index": 58,
          "marital_status": "Unknown",
          "min_total_amt_chng_q4_q1": 0.101,
          "num_clients": 146
         },
         {
          "age_group": "41_50",
          "avg_total_relationship_count": 3.93,
          "churn_rate_percent": 18.52,
          "income_category": "Less than $40K",
          "index": 59,
          "marital_status": "Divorced",
          "min_total_amt_chng_q4_q1": 0.341,
          "num_clients": 135
         },
         {
          "age_group": "41_50",
          "avg_total_relationship_count": 3.81,
          "churn_rate_percent": 20.87,
          "income_category": "$120K +",
          "index": 60,
          "marital_status": "Single",
          "min_total_amt_chng_q4_q1": 0.28,
          "num_clients": 115
         },
         {
          "age_group": "41_50",
          "avg_total_relationship_count": 3.44,
          "churn_rate_percent": 17.28,
          "income_category": "$40K - $60K",
          "index": 61,
          "marital_status": "Divorced",
          "min_total_amt_chng_q4_q1": 0.176,
          "num_clients": 81
         },
         {
          "age_group": "41_50",
          "avg_total_relationship_count": 4.07,
          "churn_rate_percent": 10.53,
          "income_category": "$40K - $60K",
          "index": 62,
          "marital_status": "Unknown",
          "min_total_amt_chng_q4_q1": 0.356,
          "num_clients": 76
         },
         {
          "age_group": "41_50",
          "avg_total_relationship_count": 3.62,
          "churn_rate_percent": 19.74,
          "income_category": "$80K - $120K",
          "index": 63,
          "marital_status": "Unknown",
          "min_total_amt_chng_q4_q1": 0.371,
          "num_clients": 76
         },
         {
          "age_group": "41_50",
          "avg_total_relationship_count": 3.77,
          "churn_rate_percent": 13.33,
          "income_category": "$60K - $80K",
          "index": 64,
          "marital_status": "Unknown",
          "min_total_amt_chng_q4_q1": 0.32,
          "num_clients": 75
         },
         {
          "age_group": "41_50",
          "avg_total_relationship_count": 4.05,
          "churn_rate_percent": 4.55,
          "income_category": "$60K - $80K",
          "index": 65,
          "marital_status": "Divorced",
          "min_total_amt_chng_q4_q1": 0.296,
          "num_clients": 66
         },
         {
          "age_group": "41_50",
          "avg_total_relationship_count": 4.17,
          "churn_rate_percent": 20,
          "income_category": "$80K - $120K",
          "index": 66,
          "marital_status": "Divorced",
          "min_total_amt_chng_q4_q1": 0,
          "num_clients": 65
         },
         {
          "age_group": "41_50",
          "avg_total_relationship_count": 3.73,
          "churn_rate_percent": 25,
          "income_category": "Unknown",
          "index": 67,
          "marital_status": "Unknown",
          "min_total_amt_chng_q4_q1": 0.325,
          "num_clients": 52
         },
         {
          "age_group": "41_50",
          "avg_total_relationship_count": 3.93,
          "churn_rate_percent": 11.11,
          "income_category": "Unknown",
          "index": 68,
          "marital_status": "Divorced",
          "min_total_amt_chng_q4_q1": 0.442,
          "num_clients": 45
         },
         {
          "age_group": "41_50",
          "avg_total_relationship_count": 3.44,
          "churn_rate_percent": 14.81,
          "income_category": "$120K +",
          "index": 69,
          "marital_status": "Unknown",
          "min_total_amt_chng_q4_q1": 0.417,
          "num_clients": 27
         },
         {
          "age_group": "41_50",
          "avg_total_relationship_count": 3.5,
          "churn_rate_percent": 20,
          "income_category": "$120K +",
          "index": 70,
          "marital_status": "Divorced",
          "min_total_amt_chng_q4_q1": 0.426,
          "num_clients": 20
         },
         {
          "age_group": "51_60",
          "avg_total_relationship_count": 3.91,
          "churn_rate_percent": 15.45,
          "income_category": "Less than $40K",
          "index": 71,
          "marital_status": "Married",
          "min_total_amt_chng_q4_q1": 0.046,
          "num_clients": 453
         },
         {
          "age_group": "51_60",
          "avg_total_relationship_count": 3.64,
          "churn_rate_percent": 19.07,
          "income_category": "Less than $40K",
          "index": 72,
          "marital_status": "Single",
          "min_total_amt_chng_q4_q1": 0.241,
          "num_clients": 388
         },
         {
          "age_group": "51_60",
          "avg_total_relationship_count": 3.91,
          "churn_rate_percent": 13.48,
          "income_category": "$80K - $120K",
          "index": 73,
          "marital_status": "Married",
          "min_total_amt_chng_q4_q1": 0.289,
          "num_clients": 230
         },
         {
          "age_group": "51_60",
          "avg_total_relationship_count": 3.82,
          "churn_rate_percent": 14.43,
          "income_category": "$40K - $60K",
          "index": 74,
          "marital_status": "Married",
          "min_total_amt_chng_q4_q1": 0.315,
          "num_clients": 201
         },
         {
          "age_group": "51_60",
          "avg_total_relationship_count": 3.77,
          "churn_rate_percent": 17.98,
          "income_category": "$80K - $120K",
          "index": 75,
          "marital_status": "Single",
          "min_total_amt_chng_q4_q1": 0,
          "num_clients": 178
         },
         {
          "age_group": "51_60",
          "avg_total_relationship_count": 3.38,
          "churn_rate_percent": 17.06,
          "income_category": "$40K - $60K",
          "index": 76,
          "marital_status": "Single",
          "min_total_amt_chng_q4_q1": 0.187,
          "num_clients": 170
         },
         {
          "age_group": "51_60",
          "avg_total_relationship_count": 3.96,
          "churn_rate_percent": 11.88,
          "income_category": "$60K - $80K",
          "index": 77,
          "marital_status": "Married",
          "min_total_amt_chng_q4_q1": 0.294,
          "num_clients": 160
         },
         {
          "age_group": "51_60",
          "avg_total_relationship_count": 3.81,
          "churn_rate_percent": 10.49,
          "income_category": "$120K +",
          "index": 78,
          "marital_status": "Married",
          "min_total_amt_chng_q4_q1": 0.322,
          "num_clients": 143
         },
         {
          "age_group": "51_60",
          "avg_total_relationship_count": 3.7,
          "churn_rate_percent": 21.74,
          "income_category": "Unknown",
          "index": 79,
          "marital_status": "Married",
          "min_total_amt_chng_q4_q1": 0.307,
          "num_clients": 138
         },
         {
          "age_group": "51_60",
          "avg_total_relationship_count": 3.65,
          "churn_rate_percent": 14.84,
          "income_category": "$60K - $80K",
          "index": 80,
          "marital_status": "Single",
          "min_total_amt_chng_q4_q1": 0.309,
          "num_clients": 128
         },
         {
          "age_group": "51_60",
          "avg_total_relationship_count": 3.56,
          "churn_rate_percent": 20.18,
          "income_category": "Unknown",
          "index": 81,
          "marital_status": "Single",
          "min_total_amt_chng_q4_q1": 0.166,
          "num_clients": 109
         },
         {
          "age_group": "51_60",
          "avg_total_relationship_count": 3.71,
          "churn_rate_percent": 24.53,
          "income_category": "$120K +",
          "index": 82,
          "marital_status": "Single",
          "min_total_amt_chng_q4_q1": 0,
          "num_clients": 106
         },
         {
          "age_group": "51_60",
          "avg_total_relationship_count": 4.08,
          "churn_rate_percent": 20,
          "income_category": "Less than $40K",
          "index": 83,
          "marital_status": "Divorced",
          "min_total_amt_chng_q4_q1": 0.458,
          "num_clients": 50
         },
         {
          "age_group": "51_60",
          "avg_total_relationship_count": 3.89,
          "churn_rate_percent": 26.67,
          "income_category": "Less than $40K",
          "index": 84,
          "marital_status": "Unknown",
          "min_total_amt_chng_q4_q1": 0.415,
          "num_clients": 45
         },
         {
          "age_group": "51_60",
          "avg_total_relationship_count": 3.68,
          "churn_rate_percent": 16,
          "income_category": "$80K - $120K",
          "index": 85,
          "marital_status": "Unknown",
          "min_total_amt_chng_q4_q1": 0.363,
          "num_clients": 25
         },
         {
          "age_group": "51_60",
          "avg_total_relationship_count": 3.74,
          "churn_rate_percent": 13.04,
          "income_category": "$40K - $60K",
          "index": 86,
          "marital_status": "Divorced",
          "min_total_amt_chng_q4_q1": 0.376,
          "num_clients": 23
         },
         {
          "age_group": "51_60",
          "avg_total_relationship_count": 4.09,
          "churn_rate_percent": 22.73,
          "income_category": "$120K +",
          "index": 87,
          "marital_status": "Divorced",
          "min_total_amt_chng_q4_q1": 0.486,
          "num_clients": 22
         },
         {
          "age_group": "51_60",
          "avg_total_relationship_count": 3.62,
          "churn_rate_percent": 9.52,
          "income_category": "$40K - $60K",
          "index": 88,
          "marital_status": "Unknown",
          "min_total_amt_chng_q4_q1": 0.497,
          "num_clients": 21
         },
         {
          "age_group": "51_60",
          "avg_total_relationship_count": 3.94,
          "churn_rate_percent": 27.78,
          "income_category": "Unknown",
          "index": 89,
          "marital_status": "Divorced",
          "min_total_amt_chng_q4_q1": 0.551,
          "num_clients": 18
         },
         {
          "age_group": "51_60",
          "avg_total_relationship_count": 3.12,
          "churn_rate_percent": 35.29,
          "income_category": "$80K - $120K",
          "index": 90,
          "marital_status": "Divorced",
          "min_total_amt_chng_q4_q1": 0.32,
          "num_clients": 17
         },
         {
          "age_group": "51_60",
          "avg_total_relationship_count": 4.4,
          "churn_rate_percent": 6.67,
          "income_category": "$60K - $80K",
          "index": 91,
          "marital_status": "Divorced",
          "min_total_amt_chng_q4_q1": 0.4,
          "num_clients": 15
         },
         {
          "age_group": "51_60",
          "avg_total_relationship_count": 3.64,
          "churn_rate_percent": 14.29,
          "income_category": "$120K +",
          "index": 92,
          "marital_status": "Unknown",
          "min_total_amt_chng_q4_q1": 0.018,
          "num_clients": 14
         },
         {
          "age_group": "51_60",
          "avg_total_relationship_count": 4.27,
          "churn_rate_percent": 9.09,
          "income_category": "$60K - $80K",
          "index": 93,
          "marital_status": "Unknown",
          "min_total_amt_chng_q4_q1": 0.498,
          "num_clients": 11
         },
         {
          "age_group": "51_60",
          "avg_total_relationship_count": 3.63,
          "churn_rate_percent": 12.5,
          "income_category": "Unknown",
          "index": 94,
          "marital_status": "Unknown",
          "min_total_amt_chng_q4_q1": 0.62,
          "num_clients": 8
         },
         {
          "age_group": "61+",
          "avg_total_relationship_count": 3.99,
          "churn_rate_percent": 19.51,
          "income_category": "Less than $40K",
          "index": 95,
          "marital_status": "Single",
          "min_total_amt_chng_q4_q1": 0.331,
          "num_clients": 82
         },
         {
          "age_group": "61+",
          "avg_total_relationship_count": 4.24,
          "churn_rate_percent": 9.46,
          "income_category": "Less than $40K",
          "index": 96,
          "marital_status": "Married",
          "min_total_amt_chng_q4_q1": 0.346,
          "num_clients": 74
         },
         {
          "age_group": "61+",
          "avg_total_relationship_count": 4.14,
          "churn_rate_percent": 5.88,
          "income_category": "$40K - $60K",
          "index": 97,
          "marital_status": "Married",
          "min_total_amt_chng_q4_q1": 0.322,
          "num_clients": 51
         },
         {
          "age_group": "61+",
          "avg_total_relationship_count": 4.13,
          "churn_rate_percent": 7.89,
          "income_category": "$40K - $60K",
          "index": 98,
          "marital_status": "Single",
          "min_total_amt_chng_q4_q1": 0.371,
          "num_clients": 38
         },
         {
          "age_group": "61+",
          "avg_total_relationship_count": 4.06,
          "churn_rate_percent": 15.63,
          "income_category": "Unknown",
          "index": 99,
          "marital_status": "Single",
          "min_total_amt_chng_q4_q1": 0.57,
          "num_clients": 32
         },
         {
          "age_group": "61+",
          "avg_total_relationship_count": 3.86,
          "churn_rate_percent": 28.57,
          "income_category": "$60K - $80K",
          "index": 100,
          "marital_status": "Single",
          "min_total_amt_chng_q4_q1": 0.433,
          "num_clients": 28
         },
         {
          "age_group": "61+",
          "avg_total_relationship_count": 4.48,
          "churn_rate_percent": 7.41,
          "income_category": "Unknown",
          "index": 101,
          "marital_status": "Married",
          "min_total_amt_chng_q4_q1": 0.421,
          "num_clients": 27
         },
         {
          "age_group": "61+",
          "avg_total_relationship_count": 4.24,
          "churn_rate_percent": 11.76,
          "income_category": "$60K - $80K",
          "index": 102,
          "marital_status": "Married",
          "min_total_amt_chng_q4_q1": 0.491,
          "num_clients": 17
         },
         {
          "age_group": "61+",
          "avg_total_relationship_count": 4.78,
          "churn_rate_percent": 11.11,
          "income_category": "$80K - $120K",
          "index": 103,
          "marital_status": "Single",
          "min_total_amt_chng_q4_q1": 0.511,
          "num_clients": 9
         },
         {
          "age_group": "61+",
          "avg_total_relationship_count": 4.75,
          "churn_rate_percent": 25,
          "income_category": "Less than $40K",
          "index": 104,
          "marital_status": "Unknown",
          "min_total_amt_chng_q4_q1": 0.422,
          "num_clients": 8
         },
         {
          "age_group": "61+",
          "avg_total_relationship_count": 3.5,
          "churn_rate_percent": 12.5,
          "income_category": "$80K - $120K",
          "index": 105,
          "marital_status": "Married",
          "min_total_amt_chng_q4_q1": 0.278,
          "num_clients": 8
         },
         {
          "age_group": "61+",
          "avg_total_relationship_count": 3.29,
          "churn_rate_percent": 28.57,
          "income_category": "Less than $40K",
          "index": 106,
          "marital_status": "Divorced",
          "min_total_amt_chng_q4_q1": 0.597,
          "num_clients": 7
         },
         {
          "age_group": "61+",
          "avg_total_relationship_count": 3.5,
          "churn_rate_percent": 33.33,
          "income_category": "$40K - $60K",
          "index": 107,
          "marital_status": "Unknown",
          "min_total_amt_chng_q4_q1": 0.436,
          "num_clients": 6
         },
         {
          "age_group": "61+",
          "avg_total_relationship_count": 3.67,
          "churn_rate_percent": 33.33,
          "income_category": "$60K - $80K",
          "index": 108,
          "marital_status": "Divorced",
          "min_total_amt_chng_q4_q1": 0.594,
          "num_clients": 3
         },
         {
          "age_group": "61+",
          "avg_total_relationship_count": 4.33,
          "churn_rate_percent": 33.33,
          "income_category": "$60K - $80K",
          "index": 109,
          "marital_status": "Unknown",
          "min_total_amt_chng_q4_q1": 0.551,
          "num_clients": 3
         },
         {
          "age_group": "61+",
          "avg_total_relationship_count": 4.5,
          "churn_rate_percent": 0,
          "income_category": "$40K - $60K",
          "index": 110,
          "marital_status": "Divorced",
          "min_total_amt_chng_q4_q1": 0.567,
          "num_clients": 2
         },
         {
          "age_group": "61+",
          "avg_total_relationship_count": 5.5,
          "churn_rate_percent": 0,
          "income_category": "$80K - $120K",
          "index": 111,
          "marital_status": "Unknown",
          "min_total_amt_chng_q4_q1": 0.722,
          "num_clients": 2
         },
         {
          "age_group": "61+",
          "avg_total_relationship_count": 3.5,
          "churn_rate_percent": 0,
          "income_category": "Unknown",
          "index": 112,
          "marital_status": "Unknown",
          "min_total_amt_chng_q4_q1": 0.628,
          "num_clients": 2
         },
         {
          "age_group": "61+",
          "avg_total_relationship_count": 3.5,
          "churn_rate_percent": 50,
          "income_category": "$120K +",
          "index": 113,
          "marital_status": "Married",
          "min_total_amt_chng_q4_q1": 0.424,
          "num_clients": 2
         },
         {
          "age_group": "61+",
          "avg_total_relationship_count": 5,
          "churn_rate_percent": 50,
          "income_category": "$120K +",
          "index": 114,
          "marital_status": "Single",
          "min_total_amt_chng_q4_q1": 0.564,
          "num_clients": 2
         },
         {
          "age_group": "61+",
          "avg_total_relationship_count": 4,
          "churn_rate_percent": 0,
          "income_category": "Unknown",
          "index": 115,
          "marital_status": "Divorced",
          "min_total_amt_chng_q4_q1": 0.808,
          "num_clients": 2
         }
        ],
        "schema": {
         "fields": [
          {
           "name": "index",
           "type": "integer"
          },
          {
           "name": "age_group",
           "type": "string"
          },
          {
           "name": "marital_status",
           "type": "string"
          },
          {
           "name": "income_category",
           "type": "string"
          },
          {
           "name": "churn_rate_percent",
           "type": "number"
          },
          {
           "name": "avg_total_relationship_count",
           "type": "number"
          },
          {
           "name": "min_total_amt_chng_q4_q1",
           "type": "number"
          },
          {
           "name": "num_clients",
           "type": "integer"
          }
         ],
         "pandas_version": "1.4.0",
         "primaryKey": [
          "index"
         ]
        }
       },
       "total_rows": 116,
       "truncation_type": null
      },
      "text/html": [
       "<div>\n",
       "<style scoped>\n",
       "    .dataframe tbody tr th:only-of-type {\n",
       "        vertical-align: middle;\n",
       "    }\n",
       "\n",
       "    .dataframe tbody tr th {\n",
       "        vertical-align: top;\n",
       "    }\n",
       "\n",
       "    .dataframe thead th {\n",
       "        text-align: right;\n",
       "    }\n",
       "</style>\n",
       "<table border=\"1\" class=\"dataframe\">\n",
       "  <thead>\n",
       "    <tr style=\"text-align: right;\">\n",
       "      <th></th>\n",
       "      <th>age_group</th>\n",
       "      <th>marital_status</th>\n",
       "      <th>income_category</th>\n",
       "      <th>churn_rate_percent</th>\n",
       "      <th>avg_total_relationship_count</th>\n",
       "      <th>min_total_amt_chng_q4_q1</th>\n",
       "      <th>num_clients</th>\n",
       "    </tr>\n",
       "  </thead>\n",
       "  <tbody>\n",
       "    <tr>\n",
       "      <th>0</th>\n",
       "      <td>10_30</td>\n",
       "      <td>Single</td>\n",
       "      <td>Less than $40K</td>\n",
       "      <td>14.49</td>\n",
       "      <td>4.12</td>\n",
       "      <td>0.299</td>\n",
       "      <td>69</td>\n",
       "    </tr>\n",
       "    <tr>\n",
       "      <th>1</th>\n",
       "      <td>10_30</td>\n",
       "      <td>Married</td>\n",
       "      <td>Less than $40K</td>\n",
       "      <td>11.11</td>\n",
       "      <td>3.61</td>\n",
       "      <td>0.549</td>\n",
       "      <td>36</td>\n",
       "    </tr>\n",
       "    <tr>\n",
       "      <th>2</th>\n",
       "      <td>10_30</td>\n",
       "      <td>Single</td>\n",
       "      <td>$40K - $60K</td>\n",
       "      <td>10.34</td>\n",
       "      <td>4.38</td>\n",
       "      <td>0.331</td>\n",
       "      <td>29</td>\n",
       "    </tr>\n",
       "    <tr>\n",
       "      <th>3</th>\n",
       "      <td>10_30</td>\n",
       "      <td>Single</td>\n",
       "      <td>Unknown</td>\n",
       "      <td>7.41</td>\n",
       "      <td>4.00</td>\n",
       "      <td>0.391</td>\n",
       "      <td>27</td>\n",
       "    </tr>\n",
       "    <tr>\n",
       "      <th>4</th>\n",
       "      <td>10_30</td>\n",
       "      <td>Divorced</td>\n",
       "      <td>Less than $40K</td>\n",
       "      <td>25.00</td>\n",
       "      <td>4.50</td>\n",
       "      <td>0.632</td>\n",
       "      <td>16</td>\n",
       "    </tr>\n",
       "    <tr>\n",
       "      <th>...</th>\n",
       "      <td>...</td>\n",
       "      <td>...</td>\n",
       "      <td>...</td>\n",
       "      <td>...</td>\n",
       "      <td>...</td>\n",
       "      <td>...</td>\n",
       "      <td>...</td>\n",
       "    </tr>\n",
       "    <tr>\n",
       "      <th>111</th>\n",
       "      <td>61+</td>\n",
       "      <td>Unknown</td>\n",
       "      <td>$80K - $120K</td>\n",
       "      <td>0.00</td>\n",
       "      <td>5.50</td>\n",
       "      <td>0.722</td>\n",
       "      <td>2</td>\n",
       "    </tr>\n",
       "    <tr>\n",
       "      <th>112</th>\n",
       "      <td>61+</td>\n",
       "      <td>Unknown</td>\n",
       "      <td>Unknown</td>\n",
       "      <td>0.00</td>\n",
       "      <td>3.50</td>\n",
       "      <td>0.628</td>\n",
       "      <td>2</td>\n",
       "    </tr>\n",
       "    <tr>\n",
       "      <th>113</th>\n",
       "      <td>61+</td>\n",
       "      <td>Married</td>\n",
       "      <td>$120K +</td>\n",
       "      <td>50.00</td>\n",
       "      <td>3.50</td>\n",
       "      <td>0.424</td>\n",
       "      <td>2</td>\n",
       "    </tr>\n",
       "    <tr>\n",
       "      <th>114</th>\n",
       "      <td>61+</td>\n",
       "      <td>Single</td>\n",
       "      <td>$120K +</td>\n",
       "      <td>50.00</td>\n",
       "      <td>5.00</td>\n",
       "      <td>0.564</td>\n",
       "      <td>2</td>\n",
       "    </tr>\n",
       "    <tr>\n",
       "      <th>115</th>\n",
       "      <td>61+</td>\n",
       "      <td>Divorced</td>\n",
       "      <td>Unknown</td>\n",
       "      <td>0.00</td>\n",
       "      <td>4.00</td>\n",
       "      <td>0.808</td>\n",
       "      <td>2</td>\n",
       "    </tr>\n",
       "  </tbody>\n",
       "</table>\n",
       "<p>116 rows × 7 columns</p>\n",
       "</div>"
      ],
      "text/plain": [
       "    age_group marital_status  ... min_total_amt_chng_q4_q1  num_clients\n",
       "0       10_30         Single  ...                    0.299           69\n",
       "1       10_30        Married  ...                    0.549           36\n",
       "2       10_30         Single  ...                    0.331           29\n",
       "3       10_30         Single  ...                    0.391           27\n",
       "4       10_30       Divorced  ...                    0.632           16\n",
       "..        ...            ...  ...                      ...          ...\n",
       "111       61+        Unknown  ...                    0.722            2\n",
       "112       61+        Unknown  ...                    0.628            2\n",
       "113       61+        Married  ...                    0.424            2\n",
       "114       61+         Single  ...                    0.564            2\n",
       "115       61+       Divorced  ...                    0.808            2\n",
       "\n",
       "[116 rows x 7 columns]"
      ]
     },
     "execution_count": 27,
     "metadata": {},
     "output_type": "execute_result"
    }
   ],
   "source": [
    "WITH churn AS \n",
    "    (SELECT\n",
    "        clientnum,\n",
    "        count(CASE WHEN attrition_flag = 'Attrited Customer' THEN 1 ELSE NULL END) AS churned,\n",
    "        count(CASE WHEN attrition_flag = 'Existing Customer' THEN 1 ELSE NULL END) as current,\n",
    "        count(attrition_flag) as total\n",
    "    FROM bankchurners\n",
    "    group by clientnum)\n",
    "    SELECT c.age_group AS age_group\n",
    "        ,c.marital_status AS marital_status\n",
    "        ,c.income_category AS income_category\n",
    "        ,ROUND((SUM(ch.churned)/SUM(ch.total))*100, 2) AS churn_rate_percent\n",
    "        ,ROUND(AVG(c.total_rlt_ct ),2) AS avg_total_relationship_count\n",
    "        ,MIN(c.total_amt_chg) AS min_total_amt_chng_q4_q1\n",
    "        ,COUNT(*) AS num_clients\n",
    "    FROM churn_join AS c\n",
    "    JOIN bankchurners AS b\n",
    "    ON c.clientnum = b.clientnum\n",
    "    JOIN churn AS ch\n",
    "    ON c.clientnum = ch.clientnum\n",
    "    GROUP BY 1,2,3\n",
    "    ORDER BY 1,7\n",
    "        DESC;"
   ]
  },
  {
   "cell_type": "markdown",
   "id": "8a9ddf8a-4468-4e20-ac04-5129d5dff87e",
   "metadata": {},
   "source": [
    "## 4. Out of the **male** clients who hold the **“blue”** card, how many (in %) hold the **income category 40K - 60K?**\n",
    "\n",
    "7 percent"
   ]
  },
  {
   "cell_type": "code",
   "execution_count": 23,
   "id": "ed045ac4-ccca-4942-b312-cad57ca99715",
   "metadata": {
    "customType": "sql",
    "dataFrameVariableName": "df",
    "executionTime": 1578,
    "initial": false,
    "integrationId": "340d6f6b-e6bc-4eae-a902-e9a40ad6dfb1",
    "lastSuccessfullyExecutedCode": "WITH total_clients AS (\n  SELECT COUNT(*) as total_clients\n  FROM churn_join\n)\nSELECT \n  c.gender AS gender\n  ,ROUND((COUNT(c.clientnum) * 100.0 / (SELECT total_clients FROM total_clients))::NUMERIC, 2) AS percentage\nFROM churn_join AS c\nJOIN bankchurners AS b\nON c.clientnum = b.clientnum\nWHERE 1 = 1\n    AND b.card_category LIKE 'Blue%'\n    AND c.income_category LIKE '$40K%'\nGROUP BY 1;"
   },
   "outputs": [
    {
     "data": {
      "application/com.datacamp.data-table.v1+json": {
       "table": {
        "data": [
         {
          "gender": "M",
          "index": 0,
          "percentage": 7.06
         },
         {
          "gender": "F",
          "index": 1,
          "percentage": 9.48
         }
        ],
        "schema": {
         "fields": [
          {
           "name": "index",
           "type": "integer"
          },
          {
           "name": "gender",
           "type": "string"
          },
          {
           "name": "percentage",
           "type": "number"
          }
         ],
         "pandas_version": "1.4.0",
         "primaryKey": [
          "index"
         ]
        }
       },
       "total_rows": 2,
       "truncation_type": null
      },
      "text/html": [
       "<div>\n",
       "<style scoped>\n",
       "    .dataframe tbody tr th:only-of-type {\n",
       "        vertical-align: middle;\n",
       "    }\n",
       "\n",
       "    .dataframe tbody tr th {\n",
       "        vertical-align: top;\n",
       "    }\n",
       "\n",
       "    .dataframe thead th {\n",
       "        text-align: right;\n",
       "    }\n",
       "</style>\n",
       "<table border=\"1\" class=\"dataframe\">\n",
       "  <thead>\n",
       "    <tr style=\"text-align: right;\">\n",
       "      <th></th>\n",
       "      <th>gender</th>\n",
       "      <th>percentage</th>\n",
       "    </tr>\n",
       "  </thead>\n",
       "  <tbody>\n",
       "    <tr>\n",
       "      <th>0</th>\n",
       "      <td>M</td>\n",
       "      <td>7.06</td>\n",
       "    </tr>\n",
       "    <tr>\n",
       "      <th>1</th>\n",
       "      <td>F</td>\n",
       "      <td>9.48</td>\n",
       "    </tr>\n",
       "  </tbody>\n",
       "</table>\n",
       "</div>"
      ],
      "text/plain": [
       "  gender  percentage\n",
       "0      M        7.06\n",
       "1      F        9.48"
      ]
     },
     "execution_count": 23,
     "metadata": {},
     "output_type": "execute_result"
    }
   ],
   "source": [
    "WITH total_clients AS (\n",
    "  SELECT COUNT(*) as total_clients\n",
    "  FROM churn_join\n",
    ")\n",
    "SELECT \n",
    "  c.gender AS gender\n",
    "  ,ROUND((COUNT(c.clientnum) * 100.0 / (SELECT total_clients FROM total_clients))::NUMERIC, 2) AS percentage\n",
    "FROM churn_join AS c\n",
    "JOIN bankchurners AS b\n",
    "ON c.clientnum = b.clientnum\n",
    "WHERE 1 = 1\n",
    "    AND b.card_category LIKE 'Blue%'\n",
    "    AND c.income_category LIKE '$40K%'\n",
    "GROUP BY 1;"
   ]
  },
  {
   "cell_type": "markdown",
   "id": "e7e30ac8-1209-4896-a8d3-990dd0cff60e",
   "metadata": {},
   "source": [
    "## 5. Without using group by at all, find the 3rd and 4th highest client IDs (CLIENTNUM’s) of Total_Amt_Chng_Q4_Q1? Hint: Window to the rescue!\n",
    "\n",
    "*Used LIMIT and OFFSET to return the 3rd and 4th highest client ids with of total_Amt_Chng_Q4_Q1*\n",
    "\n",
    "CLIENT ID | TOTAL_AMT_CHG\n",
    "> - 713989233 | 2.675\n",
    "> - 713982108 | 2.594"
   ]
  },
  {
   "cell_type": "code",
   "execution_count": 24,
   "id": "0c4b62ce-22fc-47ca-b712-db66ae28b7c5",
   "metadata": {
    "customType": "sql",
    "dataFrameVariableName": "df",
    "executionTime": 1634,
    "initial": false,
    "integrationId": "340d6f6b-e6bc-4eae-a902-e9a40ad6dfb1",
    "lastSuccessfullyExecutedCode": "SELECT clientnum AS client_id\n    ,total_amt_chg AS highest_third_fourth\nFROM churn_join\nORDER BY 2\n    DESC\nLIMIT 2 OFFSET 2;"
   },
   "outputs": [
    {
     "data": {
      "application/com.datacamp.data-table.v1+json": {
       "table": {
        "data": [
         {
          "client_id": 713989233,
          "highest_third_fourth": 2.675,
          "index": 0
         },
         {
          "client_id": 713982108,
          "highest_third_fourth": 2.594,
          "index": 1
         }
        ],
        "schema": {
         "fields": [
          {
           "name": "index",
           "type": "integer"
          },
          {
           "name": "client_id",
           "type": "integer"
          },
          {
           "name": "highest_third_fourth",
           "type": "number"
          }
         ],
         "pandas_version": "1.4.0",
         "primaryKey": [
          "index"
         ]
        }
       },
       "total_rows": 2,
       "truncation_type": null
      },
      "text/html": [
       "<div>\n",
       "<style scoped>\n",
       "    .dataframe tbody tr th:only-of-type {\n",
       "        vertical-align: middle;\n",
       "    }\n",
       "\n",
       "    .dataframe tbody tr th {\n",
       "        vertical-align: top;\n",
       "    }\n",
       "\n",
       "    .dataframe thead th {\n",
       "        text-align: right;\n",
       "    }\n",
       "</style>\n",
       "<table border=\"1\" class=\"dataframe\">\n",
       "  <thead>\n",
       "    <tr style=\"text-align: right;\">\n",
       "      <th></th>\n",
       "      <th>client_id</th>\n",
       "      <th>highest_third_fourth</th>\n",
       "    </tr>\n",
       "  </thead>\n",
       "  <tbody>\n",
       "    <tr>\n",
       "      <th>0</th>\n",
       "      <td>713989233</td>\n",
       "      <td>2.675</td>\n",
       "    </tr>\n",
       "    <tr>\n",
       "      <th>1</th>\n",
       "      <td>713982108</td>\n",
       "      <td>2.594</td>\n",
       "    </tr>\n",
       "  </tbody>\n",
       "</table>\n",
       "</div>"
      ],
      "text/plain": [
       "   client_id  highest_third_fourth\n",
       "0  713989233                 2.675\n",
       "1  713982108                 2.594"
      ]
     },
     "execution_count": 24,
     "metadata": {},
     "output_type": "execute_result"
    }
   ],
   "source": [
    "SELECT clientnum AS client_id\n",
    "    ,total_amt_chg AS highest_third_fourth\n",
    "FROM churn_join\n",
    "ORDER BY 2\n",
    "    DESC\n",
    "LIMIT 2 OFFSET 2;"
   ]
  },
  {
   "cell_type": "markdown",
   "id": "50dfab7f-d4ad-4527-828e-ff30809beaa1",
   "metadata": {},
   "source": [
    "## 6. We’re interested in knowing which client (CLIENTNUM) has the 2nd highest Total_Trans_Amt, Per each Marital_Status. The bank will create a dedicated campaign and target these specific clients moving forward.\n",
    "\n",
    "In this step, help the bank find these clients.\n",
    "\n",
    "1. Unknown\n",
    "\t- 719848008\n",
    "3. Divorced\n",
    "\t- 716894658\n",
    "4. Single\n",
    "\t- 716004258\n",
    "5. Married\n",
    "\t- 717642633"
   ]
  },
  {
   "cell_type": "code",
   "execution_count": 25,
   "id": "ec2c5d8d-988c-461d-acfa-9ff53a3a3df9",
   "metadata": {
    "customType": "sql",
    "dataFrameVariableName": "df",
    "executionTime": 1605,
    "initial": false,
    "integrationId": "340d6f6b-e6bc-4eae-a902-e9a40ad6dfb1",
    "lastSuccessfullyExecutedCode": "WITH max_trans_amt AS (\n    SELECT b.marital_status, MAX(e.total_trans_amt) AS max_trans_amt\n    FROM enriched_churn_data e\n    JOIN basic_client_info b\n    ON e.clientnum = b.clientnum\n    GROUP BY b.marital_status\n)\nSELECT b.marital_status, e.clientnum, e.total_trans_amt as second_highest\nFROM max_trans_amt m\nJOIN enriched_churn_data e\nON e.clientnum = (\n    SELECT e.clientnum\n    FROM enriched_churn_data AS e\n    JOIN basic_client_info AS b\n    ON e.clientnum = b.clientnum\n    WHERE b.marital_status = m.marital_status AND e.total_trans_amt < m.max_trans_amt\n    ORDER BY e.total_trans_amt DESC LIMIT 1\n)\nJOIN basic_client_info b\nON b.clientnum = e.clientnum\nORDER BY e.total_trans_amt;"
   },
   "outputs": [
    {
     "data": {
      "application/com.datacamp.data-table.v1+json": {
       "table": {
        "data": [
         {
          "clientnum": 719848008,
          "index": 0,
          "marital_status": "Unknown",
          "second_highest": 16098
         },
         {
          "clientnum": 716894658,
          "index": 1,
          "marital_status": "Divorced",
          "second_highest": 16824
         },
         {
          "clientnum": 716004258,
          "index": 2,
          "marital_status": "Single",
          "second_highest": 17634
         },
         {
          "clientnum": 717642633,
          "index": 3,
          "marital_status": "Married",
          "second_highest": 17995
         }
        ],
        "schema": {
         "fields": [
          {
           "name": "index",
           "type": "integer"
          },
          {
           "name": "marital_status",
           "type": "string"
          },
          {
           "name": "clientnum",
           "type": "integer"
          },
          {
           "name": "second_highest",
           "type": "integer"
          }
         ],
         "pandas_version": "1.4.0",
         "primaryKey": [
          "index"
         ]
        }
       },
       "total_rows": 4,
       "truncation_type": null
      },
      "text/html": [
       "<div>\n",
       "<style scoped>\n",
       "    .dataframe tbody tr th:only-of-type {\n",
       "        vertical-align: middle;\n",
       "    }\n",
       "\n",
       "    .dataframe tbody tr th {\n",
       "        vertical-align: top;\n",
       "    }\n",
       "\n",
       "    .dataframe thead th {\n",
       "        text-align: right;\n",
       "    }\n",
       "</style>\n",
       "<table border=\"1\" class=\"dataframe\">\n",
       "  <thead>\n",
       "    <tr style=\"text-align: right;\">\n",
       "      <th></th>\n",
       "      <th>marital_status</th>\n",
       "      <th>clientnum</th>\n",
       "      <th>second_highest</th>\n",
       "    </tr>\n",
       "  </thead>\n",
       "  <tbody>\n",
       "    <tr>\n",
       "      <th>0</th>\n",
       "      <td>Unknown</td>\n",
       "      <td>719848008</td>\n",
       "      <td>16098</td>\n",
       "    </tr>\n",
       "    <tr>\n",
       "      <th>1</th>\n",
       "      <td>Divorced</td>\n",
       "      <td>716894658</td>\n",
       "      <td>16824</td>\n",
       "    </tr>\n",
       "    <tr>\n",
       "      <th>2</th>\n",
       "      <td>Single</td>\n",
       "      <td>716004258</td>\n",
       "      <td>17634</td>\n",
       "    </tr>\n",
       "    <tr>\n",
       "      <th>3</th>\n",
       "      <td>Married</td>\n",
       "      <td>717642633</td>\n",
       "      <td>17995</td>\n",
       "    </tr>\n",
       "  </tbody>\n",
       "</table>\n",
       "</div>"
      ],
      "text/plain": [
       "  marital_status  clientnum  second_highest\n",
       "0        Unknown  719848008           16098\n",
       "1       Divorced  716894658           16824\n",
       "2         Single  716004258           17634\n",
       "3        Married  717642633           17995"
      ]
     },
     "execution_count": 25,
     "metadata": {},
     "output_type": "execute_result"
    }
   ],
   "source": [
    "WITH max_trans_amt AS (\n",
    "    SELECT b.marital_status, MAX(e.total_trans_amt) AS max_trans_amt\n",
    "    FROM enriched_churn_data e\n",
    "    JOIN basic_client_info b\n",
    "    ON e.clientnum = b.clientnum\n",
    "    GROUP BY b.marital_status\n",
    ")\n",
    "SELECT b.marital_status, e.clientnum, e.total_trans_amt as second_highest\n",
    "FROM max_trans_amt m\n",
    "JOIN enriched_churn_data e\n",
    "ON e.clientnum = (\n",
    "    SELECT e.clientnum\n",
    "    FROM enriched_churn_data AS e\n",
    "    JOIN basic_client_info AS b\n",
    "    ON e.clientnum = b.clientnum\n",
    "    WHERE b.marital_status = m.marital_status AND e.total_trans_amt < m.max_trans_amt\n",
    "    ORDER BY e.total_trans_amt DESC LIMIT 1\n",
    ")\n",
    "JOIN basic_client_info b\n",
    "ON b.clientnum = e.clientnum\n",
    "ORDER BY e.total_trans_amt;"
   ]
  }
 ],
 "metadata": {
  "colab": {
   "name": "Welcome to DataCamp Workspaces.ipynb",
   "provenance": []
  },
  "kernelspec": {
   "display_name": "Python 3 (ipykernel)",
   "language": "python",
   "name": "python3"
  },
  "language_info": {
   "codemirror_mode": {
    "name": "ipython",
    "version": 3
   },
   "file_extension": ".py",
   "mimetype": "text/x-python",
   "name": "python",
   "nbconvert_exporter": "python",
   "pygments_lexer": "ipython3",
   "version": "3.9.12"
  }
 },
 "nbformat": 4,
 "nbformat_minor": 5
}
